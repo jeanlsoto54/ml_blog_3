{
  "cells": [
    {
      "cell_type": "raw",
      "metadata": {},
      "source": [
        "---\n",
        "title: \"Generative AI\"\n",
        "format:\n",
        "  html:\n",
        "    toc: true\n",
        "    html-math-method: katex\n",
        "    css: styles.css\n",
        "---"
      ],
      "id": "1053f10a"
    },
    {
      "cell_type": "markdown",
      "metadata": {},
      "source": [
        "# About\n",
        "\n",
        "In this article it is going to be explained with a real case the use of the Generative AI. This type of  artificial intelligence can create new content or models based on the data it is being trained on. Inside the architectures of this kind of models are supported with Neural Network components. This type of AI can create images, videos texts, speechs. The most well known example of this technology is in the field of Large Language Models (LLM) with **GPT-4**\n",
        "\n",
        "For this use case, the objective in this work is to achieve an application where it receives data in the form of images/video and the model recognize the objects in it and provides information from an LLM.\n",
        "\n",
        "To achieve this the pipeline proposed is:\n",
        "1. Define the code to open the camera's device and obtain a photo frame.\n",
        "2. Search for a Deep Learning model that works on object classfication and apply it on the image.\n",
        "3. Obtain an Open Generative AI related to LLM and define the use of it.\n",
        "4. Ensemble the models and make it function all together.\n",
        "\n",
        "## Capture images"
      ],
      "id": "fa2cb441"
    },
    {
      "cell_type": "code",
      "metadata": {},
      "source": [
        "# Importing the libraries related to image and video \n",
        "from PIL import Image,ImageDraw\n",
        "import torch\n",
        "import cv2\n",
        "from torchvision.models.detection import fasterrcnn_resnet50_fpn\n",
        "import time\n",
        "import torchvision.transforms as transforms"
      ],
      "id": "bac1d214",
      "execution_count": null,
      "outputs": []
    }
  ],
  "metadata": {
    "kernelspec": {
      "display_name": "Python 3",
      "language": "python",
      "name": "python3"
    }
  },
  "nbformat": 4,
  "nbformat_minor": 5
}