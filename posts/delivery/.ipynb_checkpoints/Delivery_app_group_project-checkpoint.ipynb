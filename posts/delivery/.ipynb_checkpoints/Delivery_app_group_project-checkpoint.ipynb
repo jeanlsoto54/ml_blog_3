{
 "cells": [
  {
   "cell_type": "markdown",
   "id": "OudS1y7EYohv",
   "metadata": {
    "id": "OudS1y7EYohv"
   },
   "source": [
    "# 1. Load dataset"
   ]
  },
  {
   "cell_type": "code",
   "execution_count": 34,
   "id": "ace804c2",
   "metadata": {
    "id": "ace804c2",
    "tags": []
   },
   "outputs": [],
   "source": [
    "# Importing libraries\n",
    "import pandas as pd\n",
    "import numpy as np\n",
    "import seaborn as sns\n",
    "import matplotlib.pyplot as plt\n",
    "\n",
    "#Delivery_app_group_project"
   ]
  },
  {
   "cell_type": "code",
   "execution_count": 2,
   "id": "a3348f73",
   "metadata": {
    "id": "a3348f73",
    "tags": []
   },
   "outputs": [],
   "source": [
    "# Displaying at least 50 columns\n",
    "pd.set_option('display.max_columns',50)"
   ]
  },
  {
   "cell_type": "code",
   "execution_count": 35,
   "id": "78e93ba7",
   "metadata": {
    "id": "78e93ba7",
    "tags": []
   },
   "outputs": [],
   "source": [
    "# Load data file\n",
    "df = pd.read_csv('.//DETALLE ORDENES CANCELADAS_CL.csv')\n",
    "df1 = pd.read_csv('.//DETALLE ORDENES CANCELADAS_EC.csv')\n",
    "df2 = pd.read_csv('.//DETALLE ORDENES CANCELADAS_PE.csv')"
   ]
  },
  {
   "cell_type": "code",
   "execution_count": 36,
   "id": "QxvvVECmY7m-",
   "metadata": {
    "id": "QxvvVECmY7m-",
    "tags": []
   },
   "outputs": [],
   "source": [
    "#Merging the datasets for the three countries Chile, Ecuador and Peru\n",
    "merged_df = pd.concat([df, df1, df2], axis=0, ignore_index=True)\n",
    "df = merged_df"
   ]
  },
  {
   "cell_type": "markdown",
   "id": "594ded44",
   "metadata": {
    "id": "594ded44"
   },
   "source": [
    "It is being upleaded the dataset in 3 batches. each file contains the data of courier orders for the major cities of Perù, Chile and Ecuador\n",
    "\n",
    "The dataset is composed from the next variables:"
   ]
  },
  {
   "cell_type": "markdown",
   "id": "3v_J6UzNgjjj",
   "metadata": {
    "id": "3v_J6UzNgjjj"
   },
   "source": [
    "COUNTRY: Origin of the order (CL:chile,EC:ecuador,PE:peru)\n",
    "\n",
    "MZ_NAME: microzone of a city defined by the company where it ,mostly all the time, the store and the user.\n",
    "\n",
    "DATE_AGG: Date of the order\n",
    "\n",
    "DIA_NOMBRE: label of the day when the order happened\n",
    "\n",
    "REPURCHASE: Indicades, whether the order had no trackback (previous order for the same user the cancelled and\n",
    "order again in about 1 hour)'With repurchase' or  not 'Without repurchase'\n",
    "\n",
    "ORDER_ID: code of the order\n",
    "\n",
    "\n",
    "USER_TOTAL_ORDERS: counting of how many orders the user previously did\n",
    "\n",
    "% COMPLETED: % of the orders that were delivered to the client.\n",
    "\n",
    "PAYMENT_METHOD: method to pay the order.\n",
    "\n",
    "GMV_USD: net value of the order\n",
    "\n",
    "ITEM_COUNT: number of items that compose the market basket\n",
    "\n",
    "CITY:\n",
    "\n",
    "BRAND_NAME:\n",
    "\n",
    "STORE_ID:\n",
    "\n",
    "LNG:\n",
    "\n",
    "LAT\n",
    "\n",
    "T03_PRE_PICKING_TIME: Lead time that is about between the order being set and that the clerk starts to pick up the products.\n",
    "\n",
    "T04_PICKING_TIME: time that the clerk takes to gather all the items of the order\n",
    "\n",
    "T05_CASHIER_TIME: Time take by the cahier to generate the bill\n",
    "\n",
    "T06_REQUESTING_RT_TIME: Time that the clerk takes to ask for a courier to pick up the basket.\n",
    "\n",
    "T07_WAITING_RT_TIME: interval of time between the requested call for a courier and the arrivel of it.\n",
    "\n",
    "T08_CHECKOUT_TIME: Time that takes that the courier to put the basket on the vehicle\n",
    "\n",
    "VEHICLE_TYPE: Type of vehicle thatthe couries has\n",
    "\n",
    "MALL: Indicates if the the store is located on a shopping mall\n",
    "\n",
    "SUB_VERTICAL: Classification defined by the company for the store  (Supermarket, pharmacy and so on)\n",
    "\n",
    "DISTANCE_KM: Distance between the store and the user\n",
    "\n",
    "TAG_GLOBAL_OFFER: Boolean that indicades if the order had a discount or not.\n",
    "\n",
    "STOCKOUTS: number of Item (product id?) that were reported to be out of stock in the store.\n",
    "\n",
    "TAG_BO: Boolean that indicates if the order was labeled as bad order.\n",
    "\n",
    "TAG_BO_CANCEL: Indicades if the order was cancelled or not."
   ]
  },
  {
   "cell_type": "code",
   "execution_count": 5,
   "id": "85abd5b9",
   "metadata": {
    "colab": {
     "base_uri": "https://localhost:8080/",
     "height": 451
    },
    "id": "85abd5b9",
    "outputId": "7aa7959e-10cc-4c8d-ba43-c39bbeaef7bd",
    "scrolled": true
   },
   "outputs": [
    {
     "data": {
      "text/html": [
       "<div>\n",
       "<style scoped>\n",
       "    .dataframe tbody tr th:only-of-type {\n",
       "        vertical-align: middle;\n",
       "    }\n",
       "\n",
       "    .dataframe tbody tr th {\n",
       "        vertical-align: top;\n",
       "    }\n",
       "\n",
       "    .dataframe thead th {\n",
       "        text-align: right;\n",
       "    }\n",
       "</style>\n",
       "<table border=\"1\" class=\"dataframe\">\n",
       "  <thead>\n",
       "    <tr style=\"text-align: right;\">\n",
       "      <th></th>\n",
       "      <th>COUNTRY</th>\n",
       "      <th>MZ_NAME</th>\n",
       "      <th>DATE_AGG</th>\n",
       "      <th>DIA_NOMBRE</th>\n",
       "      <th>ORDER_ID</th>\n",
       "      <th>USER_TOTAL_ORDERS</th>\n",
       "      <th>% Completed orders user</th>\n",
       "      <th>PAYMENT_METHOD</th>\n",
       "      <th>GMV_USD</th>\n",
       "      <th>ITEM_COUNT</th>\n",
       "      <th>CITY</th>\n",
       "      <th>BRAND_GROUP</th>\n",
       "      <th>LAT</th>\n",
       "      <th>LNG</th>\n",
       "      <th>T04_PICKING_TIME</th>\n",
       "      <th>T05_CASHIER_TIME</th>\n",
       "      <th>T06_REQUESTING_RT_TIME</th>\n",
       "      <th>VEHICLE_TYPE</th>\n",
       "      <th>SUB_VERTICAL</th>\n",
       "      <th>STOCKOUTS</th>\n",
       "      <th>TAG_BO</th>\n",
       "      <th>TAG_CANCEL</th>\n",
       "      <th>DISTANCE_KM</th>\n",
       "      <th>USE_CREDIT</th>\n",
       "      <th>HORA</th>\n",
       "      <th>POLYGON_SIZE</th>\n",
       "      <th>RAPPI_AMOUNT</th>\n",
       "    </tr>\n",
       "  </thead>\n",
       "  <tbody>\n",
       "    <tr>\n",
       "      <th>62377</th>\n",
       "      <td>PE</td>\n",
       "      <td>Microzona Bellavista</td>\n",
       "      <td>2023-07-01 00:00:00</td>\n",
       "      <td>sábado</td>\n",
       "      <td>2160362847</td>\n",
       "      <td>2</td>\n",
       "      <td>100.00 %</td>\n",
       "      <td>cash</td>\n",
       "      <td>3.852632</td>\n",
       "      <td>2.0</td>\n",
       "      <td>Lima</td>\n",
       "      <td>Oxxo</td>\n",
       "      <td>-12.068502</td>\n",
       "      <td>-77.115290</td>\n",
       "      <td>0.0</td>\n",
       "      <td>1.0</td>\n",
       "      <td>0.0</td>\n",
       "      <td>Motorcycle</td>\n",
       "      <td>Express</td>\n",
       "      <td>0</td>\n",
       "      <td>False</td>\n",
       "      <td>False</td>\n",
       "      <td>3.0</td>\n",
       "      <td>NaN</td>\n",
       "      <td>15</td>\n",
       "      <td>6.0</td>\n",
       "      <td>NaN</td>\n",
       "    </tr>\n",
       "    <tr>\n",
       "      <th>62378</th>\n",
       "      <td>PE</td>\n",
       "      <td>Jesús Maria - Lince LIM1</td>\n",
       "      <td>2023-07-01 00:00:00</td>\n",
       "      <td>sábado</td>\n",
       "      <td>2160362853</td>\n",
       "      <td>480</td>\n",
       "      <td>98.13 %</td>\n",
       "      <td>cc-DEBIT</td>\n",
       "      <td>7.550000</td>\n",
       "      <td>3.0</td>\n",
       "      <td>Lima</td>\n",
       "      <td>Oxxo</td>\n",
       "      <td>-12.109637</td>\n",
       "      <td>-77.046844</td>\n",
       "      <td>0.0</td>\n",
       "      <td>3.0</td>\n",
       "      <td>0.0</td>\n",
       "      <td>Motorcycle</td>\n",
       "      <td>Express</td>\n",
       "      <td>0</td>\n",
       "      <td>False</td>\n",
       "      <td>False</td>\n",
       "      <td>3.0</td>\n",
       "      <td>NaN</td>\n",
       "      <td>15</td>\n",
       "      <td>8.0</td>\n",
       "      <td>NaN</td>\n",
       "    </tr>\n",
       "    <tr>\n",
       "      <th>62379</th>\n",
       "      <td>PE</td>\n",
       "      <td>San Isidro Residencial LIM2</td>\n",
       "      <td>2023-07-01 00:00:00</td>\n",
       "      <td>sábado</td>\n",
       "      <td>2160362870</td>\n",
       "      <td>160</td>\n",
       "      <td>97.50 %</td>\n",
       "      <td>cc-credit</td>\n",
       "      <td>14.089474</td>\n",
       "      <td>1.0</td>\n",
       "      <td>Lima</td>\n",
       "      <td>La Boutique</td>\n",
       "      <td>-12.115765</td>\n",
       "      <td>-77.043421</td>\n",
       "      <td>7.0</td>\n",
       "      <td>0.0</td>\n",
       "      <td>0.0</td>\n",
       "      <td>Bicycle</td>\n",
       "      <td>Regalos</td>\n",
       "      <td>0</td>\n",
       "      <td>True</td>\n",
       "      <td>False</td>\n",
       "      <td>2.0</td>\n",
       "      <td>NaN</td>\n",
       "      <td>15</td>\n",
       "      <td>2.0</td>\n",
       "      <td>NaN</td>\n",
       "    </tr>\n",
       "    <tr>\n",
       "      <th>62380</th>\n",
       "      <td>PE</td>\n",
       "      <td>Chacarilla LIM2</td>\n",
       "      <td>2023-07-01 00:00:00</td>\n",
       "      <td>sábado</td>\n",
       "      <td>2160362902</td>\n",
       "      <td>1116</td>\n",
       "      <td>92.38 %</td>\n",
       "      <td>cc-credit</td>\n",
       "      <td>22.402632</td>\n",
       "      <td>3.0</td>\n",
       "      <td>Lima</td>\n",
       "      <td>Mifarma</td>\n",
       "      <td>-12.115089</td>\n",
       "      <td>-76.986207</td>\n",
       "      <td>10.0</td>\n",
       "      <td>6.0</td>\n",
       "      <td>NaN</td>\n",
       "      <td>Motorcycle</td>\n",
       "      <td>Farmacia</td>\n",
       "      <td>0</td>\n",
       "      <td>False</td>\n",
       "      <td>False</td>\n",
       "      <td>1.0</td>\n",
       "      <td>NaN</td>\n",
       "      <td>15</td>\n",
       "      <td>2.0</td>\n",
       "      <td>NaN</td>\n",
       "    </tr>\n",
       "    <tr>\n",
       "      <th>62381</th>\n",
       "      <td>PE</td>\n",
       "      <td>Miraflores Oeste LIM3</td>\n",
       "      <td>2023-07-01 00:00:00</td>\n",
       "      <td>sábado</td>\n",
       "      <td>2160362916</td>\n",
       "      <td>248</td>\n",
       "      <td>97.98 %</td>\n",
       "      <td>cc-credit</td>\n",
       "      <td>11.697368</td>\n",
       "      <td>5.0</td>\n",
       "      <td>Lima</td>\n",
       "      <td>Mifarma</td>\n",
       "      <td>-12.115012</td>\n",
       "      <td>-77.045736</td>\n",
       "      <td>5.0</td>\n",
       "      <td>3.0</td>\n",
       "      <td>NaN</td>\n",
       "      <td>Motorcycle</td>\n",
       "      <td>Farmacia</td>\n",
       "      <td>0</td>\n",
       "      <td>False</td>\n",
       "      <td>False</td>\n",
       "      <td>1.0</td>\n",
       "      <td>NaN</td>\n",
       "      <td>15</td>\n",
       "      <td>1.0</td>\n",
       "      <td>NaN</td>\n",
       "    </tr>\n",
       "  </tbody>\n",
       "</table>\n",
       "</div>"
      ],
      "text/plain": [
       "      COUNTRY                      MZ_NAME             DATE_AGG DIA_NOMBRE  \\\n",
       "62377      PE         Microzona Bellavista  2023-07-01 00:00:00     sábado   \n",
       "62378      PE     Jesús Maria - Lince LIM1  2023-07-01 00:00:00     sábado   \n",
       "62379      PE  San Isidro Residencial LIM2  2023-07-01 00:00:00     sábado   \n",
       "62380      PE              Chacarilla LIM2  2023-07-01 00:00:00     sábado   \n",
       "62381      PE        Miraflores Oeste LIM3  2023-07-01 00:00:00     sábado   \n",
       "\n",
       "         ORDER_ID  USER_TOTAL_ORDERS % Completed orders user PAYMENT_METHOD  \\\n",
       "62377  2160362847                  2                100.00 %           cash   \n",
       "62378  2160362853                480                 98.13 %       cc-DEBIT   \n",
       "62379  2160362870                160                 97.50 %      cc-credit   \n",
       "62380  2160362902               1116                 92.38 %      cc-credit   \n",
       "62381  2160362916                248                 97.98 %      cc-credit   \n",
       "\n",
       "         GMV_USD  ITEM_COUNT  CITY  BRAND_GROUP        LAT        LNG  \\\n",
       "62377   3.852632         2.0  Lima         Oxxo -12.068502 -77.115290   \n",
       "62378   7.550000         3.0  Lima         Oxxo -12.109637 -77.046844   \n",
       "62379  14.089474         1.0  Lima  La Boutique -12.115765 -77.043421   \n",
       "62380  22.402632         3.0  Lima      Mifarma -12.115089 -76.986207   \n",
       "62381  11.697368         5.0  Lima      Mifarma -12.115012 -77.045736   \n",
       "\n",
       "       T04_PICKING_TIME  T05_CASHIER_TIME  T06_REQUESTING_RT_TIME  \\\n",
       "62377               0.0               1.0                     0.0   \n",
       "62378               0.0               3.0                     0.0   \n",
       "62379               7.0               0.0                     0.0   \n",
       "62380              10.0               6.0                     NaN   \n",
       "62381               5.0               3.0                     NaN   \n",
       "\n",
       "      VEHICLE_TYPE SUB_VERTICAL  STOCKOUTS  TAG_BO  TAG_CANCEL  DISTANCE_KM  \\\n",
       "62377   Motorcycle      Express          0   False       False          3.0   \n",
       "62378   Motorcycle      Express          0   False       False          3.0   \n",
       "62379      Bicycle      Regalos          0    True       False          2.0   \n",
       "62380   Motorcycle     Farmacia          0   False       False          1.0   \n",
       "62381   Motorcycle     Farmacia          0   False       False          1.0   \n",
       "\n",
       "      USE_CREDIT  HORA  POLYGON_SIZE  RAPPI_AMOUNT  \n",
       "62377        NaN    15           6.0           NaN  \n",
       "62378        NaN    15           8.0           NaN  \n",
       "62379        NaN    15           2.0           NaN  \n",
       "62380        NaN    15           2.0           NaN  \n",
       "62381        NaN    15           1.0           NaN  "
      ]
     },
     "execution_count": 5,
     "metadata": {},
     "output_type": "execute_result"
    }
   ],
   "source": [
    "df.tail()"
   ]
  },
  {
   "cell_type": "code",
   "execution_count": 6,
   "id": "5e850ea1",
   "metadata": {
    "colab": {
     "base_uri": "https://localhost:8080/"
    },
    "id": "5e850ea1",
    "outputId": "1c255a72-c1af-4660-bb5c-d6eec20c24f7"
   },
   "outputs": [
    {
     "name": "stdout",
     "output_type": "stream",
     "text": [
      "<class 'pandas.core.frame.DataFrame'>\n",
      "RangeIndex: 62382 entries, 0 to 62381\n",
      "Data columns (total 27 columns):\n",
      " #   Column                   Non-Null Count  Dtype  \n",
      "---  ------                   --------------  -----  \n",
      " 0   COUNTRY                  62382 non-null  object \n",
      " 1   MZ_NAME                  62382 non-null  object \n",
      " 2   DATE_AGG                 62382 non-null  object \n",
      " 3   DIA_NOMBRE               62382 non-null  object \n",
      " 4   ORDER_ID                 62382 non-null  int64  \n",
      " 5   USER_TOTAL_ORDERS        62382 non-null  int64  \n",
      " 6   % Completed orders user  62382 non-null  object \n",
      " 7   PAYMENT_METHOD           62382 non-null  object \n",
      " 8   GMV_USD                  62382 non-null  float64\n",
      " 9   ITEM_COUNT               61984 non-null  float64\n",
      " 10  CITY                     62382 non-null  object \n",
      " 11  BRAND_GROUP              62382 non-null  object \n",
      " 12  LAT                      62380 non-null  float64\n",
      " 13  LNG                      62380 non-null  float64\n",
      " 14  T04_PICKING_TIME         51233 non-null  float64\n",
      " 15  T05_CASHIER_TIME         61191 non-null  float64\n",
      " 16  T06_REQUESTING_RT_TIME   32124 non-null  float64\n",
      " 17  VEHICLE_TYPE             61388 non-null  object \n",
      " 18  SUB_VERTICAL             62382 non-null  object \n",
      " 19  STOCKOUTS                62382 non-null  int64  \n",
      " 20  TAG_BO                   62382 non-null  bool   \n",
      " 21  TAG_CANCEL               62382 non-null  bool   \n",
      " 22  DISTANCE_KM              62380 non-null  float64\n",
      " 23  USE_CREDIT               7934 non-null   object \n",
      " 24  HORA                     62382 non-null  int64  \n",
      " 25  POLYGON_SIZE             62156 non-null  float64\n",
      " 26  RAPPI_AMOUNT             7934 non-null   float64\n",
      "dtypes: bool(2), float64(10), int64(4), object(11)\n",
      "memory usage: 12.0+ MB\n"
     ]
    }
   ],
   "source": [
    "df.info()"
   ]
  },
  {
   "cell_type": "code",
   "execution_count": 7,
   "id": "5bc3d56a",
   "metadata": {
    "colab": {
     "base_uri": "https://localhost:8080/"
    },
    "id": "5bc3d56a",
    "outputId": "69f2282e-d190-4288-9272-78029ff09af7"
   },
   "outputs": [
    {
     "data": {
      "text/plain": [
       "COUNTRY                        0\n",
       "MZ_NAME                        0\n",
       "DATE_AGG                       0\n",
       "DIA_NOMBRE                     0\n",
       "ORDER_ID                       0\n",
       "USER_TOTAL_ORDERS              0\n",
       "% Completed orders user        0\n",
       "PAYMENT_METHOD                 0\n",
       "GMV_USD                        0\n",
       "ITEM_COUNT                   398\n",
       "CITY                           0\n",
       "BRAND_GROUP                    0\n",
       "LAT                            2\n",
       "LNG                            2\n",
       "T04_PICKING_TIME           11149\n",
       "T05_CASHIER_TIME            1191\n",
       "T06_REQUESTING_RT_TIME     30258\n",
       "VEHICLE_TYPE                 994\n",
       "SUB_VERTICAL                   0\n",
       "STOCKOUTS                      0\n",
       "TAG_BO                         0\n",
       "TAG_CANCEL                     0\n",
       "DISTANCE_KM                    2\n",
       "USE_CREDIT                 54448\n",
       "HORA                           0\n",
       "POLYGON_SIZE                 226\n",
       "RAPPI_AMOUNT               54448\n",
       "dtype: int64"
      ]
     },
     "execution_count": 7,
     "metadata": {},
     "output_type": "execute_result"
    }
   ],
   "source": [
    "df.isnull().sum()"
   ]
  },
  {
   "cell_type": "code",
   "execution_count": 8,
   "id": "a45f38eb",
   "metadata": {
    "colab": {
     "base_uri": "https://localhost:8080/",
     "height": 320
    },
    "id": "a45f38eb",
    "outputId": "fb980fa7-d32c-45b9-cc7b-46129da1e8a5"
   },
   "outputs": [
    {
     "data": {
      "text/html": [
       "<div>\n",
       "<style scoped>\n",
       "    .dataframe tbody tr th:only-of-type {\n",
       "        vertical-align: middle;\n",
       "    }\n",
       "\n",
       "    .dataframe tbody tr th {\n",
       "        vertical-align: top;\n",
       "    }\n",
       "\n",
       "    .dataframe thead th {\n",
       "        text-align: right;\n",
       "    }\n",
       "</style>\n",
       "<table border=\"1\" class=\"dataframe\">\n",
       "  <thead>\n",
       "    <tr style=\"text-align: right;\">\n",
       "      <th></th>\n",
       "      <th>ORDER_ID</th>\n",
       "      <th>USER_TOTAL_ORDERS</th>\n",
       "      <th>GMV_USD</th>\n",
       "      <th>ITEM_COUNT</th>\n",
       "      <th>LAT</th>\n",
       "      <th>LNG</th>\n",
       "      <th>T04_PICKING_TIME</th>\n",
       "      <th>T05_CASHIER_TIME</th>\n",
       "      <th>T06_REQUESTING_RT_TIME</th>\n",
       "      <th>STOCKOUTS</th>\n",
       "      <th>DISTANCE_KM</th>\n",
       "      <th>HORA</th>\n",
       "      <th>POLYGON_SIZE</th>\n",
       "      <th>RAPPI_AMOUNT</th>\n",
       "    </tr>\n",
       "  </thead>\n",
       "  <tbody>\n",
       "    <tr>\n",
       "      <th>count</th>\n",
       "      <td>6.238200e+04</td>\n",
       "      <td>62382.000000</td>\n",
       "      <td>62382.000000</td>\n",
       "      <td>61984.000000</td>\n",
       "      <td>62380.000000</td>\n",
       "      <td>62380.000000</td>\n",
       "      <td>51233.000000</td>\n",
       "      <td>61191.000000</td>\n",
       "      <td>32124.000000</td>\n",
       "      <td>62382.000000</td>\n",
       "      <td>62380.000000</td>\n",
       "      <td>62382.000000</td>\n",
       "      <td>62156.000000</td>\n",
       "      <td>7934.000000</td>\n",
       "    </tr>\n",
       "    <tr>\n",
       "      <th>mean</th>\n",
       "      <td>1.077458e+09</td>\n",
       "      <td>273.620564</td>\n",
       "      <td>25.612108</td>\n",
       "      <td>3.544786</td>\n",
       "      <td>-20.217390</td>\n",
       "      <td>-74.750681</td>\n",
       "      <td>8.044307</td>\n",
       "      <td>5.917324</td>\n",
       "      <td>0.239727</td>\n",
       "      <td>0.152095</td>\n",
       "      <td>2.690382</td>\n",
       "      <td>14.919913</td>\n",
       "      <td>4.814419</td>\n",
       "      <td>1234.730590</td>\n",
       "    </tr>\n",
       "    <tr>\n",
       "      <th>std</th>\n",
       "      <td>1.042297e+09</td>\n",
       "      <td>367.446864</td>\n",
       "      <td>26.668228</td>\n",
       "      <td>4.705169</td>\n",
       "      <td>11.763042</td>\n",
       "      <td>5.262204</td>\n",
       "      <td>40.483761</td>\n",
       "      <td>72.840315</td>\n",
       "      <td>6.635082</td>\n",
       "      <td>0.626426</td>\n",
       "      <td>1.496454</td>\n",
       "      <td>4.882335</td>\n",
       "      <td>2.678620</td>\n",
       "      <td>3155.284928</td>\n",
       "    </tr>\n",
       "    <tr>\n",
       "      <th>min</th>\n",
       "      <td>1.231984e+07</td>\n",
       "      <td>1.000000</td>\n",
       "      <td>0.000000</td>\n",
       "      <td>1.000000</td>\n",
       "      <td>-100.561920</td>\n",
       "      <td>-307.749219</td>\n",
       "      <td>0.000000</td>\n",
       "      <td>0.000000</td>\n",
       "      <td>0.000000</td>\n",
       "      <td>0.000000</td>\n",
       "      <td>0.000000</td>\n",
       "      <td>0.000000</td>\n",
       "      <td>1.000000</td>\n",
       "      <td>0.000000</td>\n",
       "    </tr>\n",
       "    <tr>\n",
       "      <th>25%</th>\n",
       "      <td>8.846479e+07</td>\n",
       "      <td>28.000000</td>\n",
       "      <td>10.630000</td>\n",
       "      <td>1.000000</td>\n",
       "      <td>-33.419941</td>\n",
       "      <td>-77.041960</td>\n",
       "      <td>0.000000</td>\n",
       "      <td>0.000000</td>\n",
       "      <td>0.000000</td>\n",
       "      <td>0.000000</td>\n",
       "      <td>2.000000</td>\n",
       "      <td>12.000000</td>\n",
       "      <td>3.000000</td>\n",
       "      <td>12.000000</td>\n",
       "    </tr>\n",
       "    <tr>\n",
       "      <th>50%</th>\n",
       "      <td>8.859747e+07</td>\n",
       "      <td>138.000000</td>\n",
       "      <td>18.607895</td>\n",
       "      <td>2.000000</td>\n",
       "      <td>-12.128821</td>\n",
       "      <td>-76.978935</td>\n",
       "      <td>3.000000</td>\n",
       "      <td>1.000000</td>\n",
       "      <td>0.000000</td>\n",
       "      <td>0.000000</td>\n",
       "      <td>2.000000</td>\n",
       "      <td>15.000000</td>\n",
       "      <td>4.000000</td>\n",
       "      <td>14.950000</td>\n",
       "    </tr>\n",
       "    <tr>\n",
       "      <th>75%</th>\n",
       "      <td>2.160126e+09</td>\n",
       "      <td>386.000000</td>\n",
       "      <td>31.481481</td>\n",
       "      <td>4.000000</td>\n",
       "      <td>-12.084495</td>\n",
       "      <td>-70.595236</td>\n",
       "      <td>9.000000</td>\n",
       "      <td>4.000000</td>\n",
       "      <td>0.000000</td>\n",
       "      <td>0.000000</td>\n",
       "      <td>4.000000</td>\n",
       "      <td>19.000000</td>\n",
       "      <td>7.000000</td>\n",
       "      <td>32.000000</td>\n",
       "    </tr>\n",
       "    <tr>\n",
       "      <th>max</th>\n",
       "      <td>2.160363e+09</td>\n",
       "      <td>4274.000000</td>\n",
       "      <td>1230.214938</td>\n",
       "      <td>131.000000</td>\n",
       "      <td>-2.013953</td>\n",
       "      <td>-70.478749</td>\n",
       "      <td>5940.000000</td>\n",
       "      <td>14187.000000</td>\n",
       "      <td>1151.000000</td>\n",
       "      <td>38.000000</td>\n",
       "      <td>16.000000</td>\n",
       "      <td>88.000000</td>\n",
       "      <td>32.000000</td>\n",
       "      <td>57340.000000</td>\n",
       "    </tr>\n",
       "  </tbody>\n",
       "</table>\n",
       "</div>"
      ],
      "text/plain": [
       "           ORDER_ID  USER_TOTAL_ORDERS       GMV_USD    ITEM_COUNT  \\\n",
       "count  6.238200e+04       62382.000000  62382.000000  61984.000000   \n",
       "mean   1.077458e+09         273.620564     25.612108      3.544786   \n",
       "std    1.042297e+09         367.446864     26.668228      4.705169   \n",
       "min    1.231984e+07           1.000000      0.000000      1.000000   \n",
       "25%    8.846479e+07          28.000000     10.630000      1.000000   \n",
       "50%    8.859747e+07         138.000000     18.607895      2.000000   \n",
       "75%    2.160126e+09         386.000000     31.481481      4.000000   \n",
       "max    2.160363e+09        4274.000000   1230.214938    131.000000   \n",
       "\n",
       "                LAT           LNG  T04_PICKING_TIME  T05_CASHIER_TIME  \\\n",
       "count  62380.000000  62380.000000      51233.000000      61191.000000   \n",
       "mean     -20.217390    -74.750681          8.044307          5.917324   \n",
       "std       11.763042      5.262204         40.483761         72.840315   \n",
       "min     -100.561920   -307.749219          0.000000          0.000000   \n",
       "25%      -33.419941    -77.041960          0.000000          0.000000   \n",
       "50%      -12.128821    -76.978935          3.000000          1.000000   \n",
       "75%      -12.084495    -70.595236          9.000000          4.000000   \n",
       "max       -2.013953    -70.478749       5940.000000      14187.000000   \n",
       "\n",
       "       T06_REQUESTING_RT_TIME     STOCKOUTS   DISTANCE_KM          HORA  \\\n",
       "count            32124.000000  62382.000000  62380.000000  62382.000000   \n",
       "mean                 0.239727      0.152095      2.690382     14.919913   \n",
       "std                  6.635082      0.626426      1.496454      4.882335   \n",
       "min                  0.000000      0.000000      0.000000      0.000000   \n",
       "25%                  0.000000      0.000000      2.000000     12.000000   \n",
       "50%                  0.000000      0.000000      2.000000     15.000000   \n",
       "75%                  0.000000      0.000000      4.000000     19.000000   \n",
       "max               1151.000000     38.000000     16.000000     88.000000   \n",
       "\n",
       "       POLYGON_SIZE  RAPPI_AMOUNT  \n",
       "count  62156.000000   7934.000000  \n",
       "mean       4.814419   1234.730590  \n",
       "std        2.678620   3155.284928  \n",
       "min        1.000000      0.000000  \n",
       "25%        3.000000     12.000000  \n",
       "50%        4.000000     14.950000  \n",
       "75%        7.000000     32.000000  \n",
       "max       32.000000  57340.000000  "
      ]
     },
     "execution_count": 8,
     "metadata": {},
     "output_type": "execute_result"
    }
   ],
   "source": [
    "df.describe()"
   ]
  },
  {
   "cell_type": "markdown",
   "id": "URQdEJ3mhrZ-",
   "metadata": {
    "id": "URQdEJ3mhrZ-"
   },
   "source": [
    "# 2. Exploratory Data Analysis (EDA) (univariate / bivariate analysis)"
   ]
  },
  {
   "cell_type": "markdown",
   "id": "oSw8qSd6XmhB",
   "metadata": {
    "id": "oSw8qSd6XmhB"
   },
   "source": [
    "# Translation of the dataset from Spanish to English\n",
    "\n",
    " + DIA_NOMBRE: Keep the name of the days when the order was"
   ]
  },
  {
   "cell_type": "code",
   "execution_count": 37,
   "id": "c73211d5",
   "metadata": {
    "colab": {
     "base_uri": "https://localhost:8080/"
    },
    "id": "c73211d5",
    "outputId": "337cd55b-5427-442d-c7aa-9739089b4a8b",
    "tags": []
   },
   "outputs": [
    {
     "data": {
      "text/plain": [
       "array(['viernes', 'martes', 'miércoles', 'lunes', 'jueves', 'sábado',\n",
       "       'domingo'], dtype=object)"
      ]
     },
     "execution_count": 37,
     "metadata": {},
     "output_type": "execute_result"
    }
   ],
   "source": [
    "# Checking unique values\n",
    "df['DIA_NOMBRE'].unique()"
   ]
  },
  {
   "cell_type": "code",
   "execution_count": 38,
   "id": "6534488b",
   "metadata": {
    "id": "6534488b",
    "tags": []
   },
   "outputs": [],
   "source": [
    "# Translating the Spanish values\n",
    "trans = {'sábado': 'Saturday', 'lunes':'Monday', 'jueves':'Thursday', 'martes':'Tuesday', 'viernes':'Friday', 'miércoles':'Wednesday',\n",
    "       'domingo':'Sunday'}\n",
    "df['DIA_NOMBRE'] = df['DIA_NOMBRE'].map(trans)\n"
   ]
  },
  {
   "cell_type": "code",
   "execution_count": 39,
   "id": "0e5337b3",
   "metadata": {
    "id": "0e5337b3",
    "tags": []
   },
   "outputs": [],
   "source": [
    "# Lower case of the columns\n",
    "df.columns = df.columns.str.lower()"
   ]
  },
  {
   "cell_type": "code",
   "execution_count": 40,
   "id": "0c64fc3f",
   "metadata": {
    "colab": {
     "base_uri": "https://localhost:8080/"
    },
    "id": "0c64fc3f",
    "outputId": "2356897f-1945-43b8-8c96-e600bdc6c308",
    "tags": []
   },
   "outputs": [
    {
     "data": {
      "text/plain": [
       "array(['Licores', 'Floristeria', 'Super', 'Express', 'Hogar',\n",
       "       'Bebes y niños', 'Tecnologia', 'Mascotas', 'Sex shop', 'Deportes',\n",
       "       'Farmacia', 'Belleza', 'Especializada', 'Smoking shop', 'Regalos',\n",
       "       'Libreria', 'Moda', 'Papeleria', 'TurboX', 'Jugueteria', 'Marcas'],\n",
       "      dtype=object)"
      ]
     },
     "execution_count": 40,
     "metadata": {},
     "output_type": "execute_result"
    }
   ],
   "source": [
    "# Checking the values\n",
    "df['sub_vertical'].unique()"
   ]
  },
  {
   "cell_type": "markdown",
   "id": "BA8yFqq6Z2U_",
   "metadata": {
    "id": "BA8yFqq6Z2U_"
   },
   "source": [
    "The variable 'SUB_VERTICAL' contains the business sector to which is related the store. In this case, the labels are translated and compacted in fewer classes."
   ]
  },
  {
   "cell_type": "code",
   "execution_count": 41,
   "id": "f672b24e",
   "metadata": {
    "id": "f672b24e",
    "tags": []
   },
   "outputs": [],
   "source": [
    "# Translating the Spanish values\n",
    "trans1 = {'SuperMarkets' : 'Supermarket', 'Floristeria':'E-commerce', 'Express':'Convenient Store', 'Especializada': 'Special Convenient Store', 'Moda':'E-commerce',\n",
    "       'Libreria':'E-commerce', 'Tecnologia':'E-commerce', 'Hogar':'E-commerce', 'Farmacia':'Pharmacie', 'Mascotas':'Pet Shop',\n",
    "       'Smoking shop':'E-commerce', 'Belleza':'E-commerce', 'Regalos':'E-commerce', 'Licores':'Licours Shop', 'Deportes':'E-commerce',\n",
    "       'Bebes y niños':'E-commerce', 'Jugueteria':'E-commerce', 'Sex shop':'E-commerce', 'TurboX':'E-commerce', 'Papeleria':'E-commerce',\n",
    "       'Outlet':'E-commerce'}\n",
    "df['sub_vertical'] = df['sub_vertical'].map(trans1)"
   ]
  },
  {
   "cell_type": "code",
   "execution_count": 42,
   "id": "37199782",
   "metadata": {
    "id": "37199782",
    "tags": []
   },
   "outputs": [],
   "source": [
    "df = df.rename(columns={'sub_vertical':'store_category','mz_name':'district_name','date_agg':'date','dia_nombre':'weekday','gmv_usd':'order_value_usd','stockouts':'out_of_stock','tag_bo':'order_wrong','tag_bo_cancel':'order_canceled' })"
   ]
  },
  {
   "cell_type": "code",
   "execution_count": 11,
   "id": "9c4bbb4d",
   "metadata": {
    "colab": {
     "base_uri": "https://localhost:8080/",
     "height": 451
    },
    "id": "9c4bbb4d",
    "outputId": "82c08e80-398f-40dd-fb43-2928b1f77815"
   },
   "outputs": [
    {
     "data": {
      "text/html": [
       "<div>\n",
       "<style scoped>\n",
       "    .dataframe tbody tr th:only-of-type {\n",
       "        vertical-align: middle;\n",
       "    }\n",
       "\n",
       "    .dataframe tbody tr th {\n",
       "        vertical-align: top;\n",
       "    }\n",
       "\n",
       "    .dataframe thead th {\n",
       "        text-align: right;\n",
       "    }\n",
       "</style>\n",
       "<table border=\"1\" class=\"dataframe\">\n",
       "  <thead>\n",
       "    <tr style=\"text-align: right;\">\n",
       "      <th></th>\n",
       "      <th>country</th>\n",
       "      <th>district_name</th>\n",
       "      <th>date</th>\n",
       "      <th>weekday</th>\n",
       "      <th>order_id</th>\n",
       "      <th>user_total_orders</th>\n",
       "      <th>% completed orders user</th>\n",
       "      <th>payment_method</th>\n",
       "      <th>order_value_usd</th>\n",
       "      <th>item_count</th>\n",
       "      <th>city</th>\n",
       "      <th>brand_group</th>\n",
       "      <th>lat</th>\n",
       "      <th>lng</th>\n",
       "      <th>t04_picking_time</th>\n",
       "      <th>t05_cashier_time</th>\n",
       "      <th>t06_requesting_rt_time</th>\n",
       "      <th>vehicle_type</th>\n",
       "      <th>store_category</th>\n",
       "      <th>out_of_stock</th>\n",
       "      <th>order_wrong</th>\n",
       "      <th>tag_cancel</th>\n",
       "      <th>distance_km</th>\n",
       "      <th>use_credit</th>\n",
       "      <th>hora</th>\n",
       "      <th>polygon_size</th>\n",
       "      <th>rappi_amount</th>\n",
       "    </tr>\n",
       "  </thead>\n",
       "  <tbody>\n",
       "    <tr>\n",
       "      <th>0</th>\n",
       "      <td>CL</td>\n",
       "      <td>Campus Oriente SCL4</td>\n",
       "      <td>2023-06-30 00:00:00</td>\n",
       "      <td>Friday</td>\n",
       "      <td>88222630</td>\n",
       "      <td>111</td>\n",
       "      <td>95.50 %</td>\n",
       "      <td>rappi_pay_gateway</td>\n",
       "      <td>25.407407</td>\n",
       "      <td>2.0</td>\n",
       "      <td>Santiago de Chile</td>\n",
       "      <td>Botillería Echenique</td>\n",
       "      <td>-33.433491</td>\n",
       "      <td>-70.581792</td>\n",
       "      <td>NaN</td>\n",
       "      <td>14187.0</td>\n",
       "      <td>NaN</td>\n",
       "      <td>Bicycle</td>\n",
       "      <td>Licours Shop</td>\n",
       "      <td>0</td>\n",
       "      <td>False</td>\n",
       "      <td>False</td>\n",
       "      <td>2.0</td>\n",
       "      <td>NaN</td>\n",
       "      <td>23</td>\n",
       "      <td>NaN</td>\n",
       "      <td>NaN</td>\n",
       "    </tr>\n",
       "    <tr>\n",
       "      <th>1</th>\n",
       "      <td>CL</td>\n",
       "      <td>23 Senador Jaime Guzman</td>\n",
       "      <td>2023-06-27 00:00:00</td>\n",
       "      <td>Tuesday</td>\n",
       "      <td>88256140</td>\n",
       "      <td>4</td>\n",
       "      <td>50.00 %</td>\n",
       "      <td>cc-N/A</td>\n",
       "      <td>43.049383</td>\n",
       "      <td>1.0</td>\n",
       "      <td>Santiago de Chile</td>\n",
       "      <td>SOLOROSASYALGOMAS</td>\n",
       "      <td>-33.403637</td>\n",
       "      <td>-70.657823</td>\n",
       "      <td>2.0</td>\n",
       "      <td>0.0</td>\n",
       "      <td>NaN</td>\n",
       "      <td>Motorcycle</td>\n",
       "      <td>E-commerce</td>\n",
       "      <td>0</td>\n",
       "      <td>True</td>\n",
       "      <td>True</td>\n",
       "      <td>3.0</td>\n",
       "      <td>NaN</td>\n",
       "      <td>0</td>\n",
       "      <td>NaN</td>\n",
       "      <td>NaN</td>\n",
       "    </tr>\n",
       "    <tr>\n",
       "      <th>2</th>\n",
       "      <td>CL</td>\n",
       "      <td>Las Condes Poniente SCL3</td>\n",
       "      <td>2023-06-27 00:00:00</td>\n",
       "      <td>Tuesday</td>\n",
       "      <td>88287753</td>\n",
       "      <td>208</td>\n",
       "      <td>99.04 %</td>\n",
       "      <td>cc-credit</td>\n",
       "      <td>119.438889</td>\n",
       "      <td>11.0</td>\n",
       "      <td>Santiago de Chile</td>\n",
       "      <td>Jumbo</td>\n",
       "      <td>-33.402225</td>\n",
       "      <td>-70.598952</td>\n",
       "      <td>8.0</td>\n",
       "      <td>12.0</td>\n",
       "      <td>1.0</td>\n",
       "      <td>Motorcycle</td>\n",
       "      <td>NaN</td>\n",
       "      <td>0</td>\n",
       "      <td>False</td>\n",
       "      <td>False</td>\n",
       "      <td>4.0</td>\n",
       "      <td>NaN</td>\n",
       "      <td>12</td>\n",
       "      <td>NaN</td>\n",
       "      <td>NaN</td>\n",
       "    </tr>\n",
       "    <tr>\n",
       "      <th>3</th>\n",
       "      <td>CL</td>\n",
       "      <td>20 Pedro Fontova</td>\n",
       "      <td>2023-06-27 00:00:00</td>\n",
       "      <td>Tuesday</td>\n",
       "      <td>88290753</td>\n",
       "      <td>405</td>\n",
       "      <td>95.31 %</td>\n",
       "      <td>cc-N/A</td>\n",
       "      <td>13.061728</td>\n",
       "      <td>1.0</td>\n",
       "      <td>Santiago de Chile</td>\n",
       "      <td>Lider</td>\n",
       "      <td>-33.380700</td>\n",
       "      <td>-70.686793</td>\n",
       "      <td>NaN</td>\n",
       "      <td>0.0</td>\n",
       "      <td>NaN</td>\n",
       "      <td>NaN</td>\n",
       "      <td>NaN</td>\n",
       "      <td>0</td>\n",
       "      <td>True</td>\n",
       "      <td>True</td>\n",
       "      <td>2.0</td>\n",
       "      <td>NaN</td>\n",
       "      <td>13</td>\n",
       "      <td>NaN</td>\n",
       "      <td>NaN</td>\n",
       "    </tr>\n",
       "    <tr>\n",
       "      <th>4</th>\n",
       "      <td>CL</td>\n",
       "      <td>Campus Oriente SCL4</td>\n",
       "      <td>2023-06-27 00:00:00</td>\n",
       "      <td>Tuesday</td>\n",
       "      <td>88291146</td>\n",
       "      <td>455</td>\n",
       "      <td>96.92 %</td>\n",
       "      <td>cc-N/A</td>\n",
       "      <td>36.740741</td>\n",
       "      <td>3.0</td>\n",
       "      <td>Santiago de Chile</td>\n",
       "      <td>Jardineria teresa jacqueline huenun espinoza</td>\n",
       "      <td>-33.449619</td>\n",
       "      <td>-70.635816</td>\n",
       "      <td>NaN</td>\n",
       "      <td>0.0</td>\n",
       "      <td>NaN</td>\n",
       "      <td>Motorcycle</td>\n",
       "      <td>E-commerce</td>\n",
       "      <td>0</td>\n",
       "      <td>True</td>\n",
       "      <td>True</td>\n",
       "      <td>4.0</td>\n",
       "      <td>NaN</td>\n",
       "      <td>13</td>\n",
       "      <td>NaN</td>\n",
       "      <td>NaN</td>\n",
       "    </tr>\n",
       "  </tbody>\n",
       "</table>\n",
       "</div>"
      ],
      "text/plain": [
       "  country             district_name                 date  weekday  order_id  \\\n",
       "0      CL       Campus Oriente SCL4  2023-06-30 00:00:00   Friday  88222630   \n",
       "1      CL   23 Senador Jaime Guzman  2023-06-27 00:00:00  Tuesday  88256140   \n",
       "2      CL  Las Condes Poniente SCL3  2023-06-27 00:00:00  Tuesday  88287753   \n",
       "3      CL          20 Pedro Fontova  2023-06-27 00:00:00  Tuesday  88290753   \n",
       "4      CL       Campus Oriente SCL4  2023-06-27 00:00:00  Tuesday  88291146   \n",
       "\n",
       "   user_total_orders % completed orders user     payment_method  \\\n",
       "0                111                 95.50 %  rappi_pay_gateway   \n",
       "1                  4                 50.00 %             cc-N/A   \n",
       "2                208                 99.04 %          cc-credit   \n",
       "3                405                 95.31 %             cc-N/A   \n",
       "4                455                 96.92 %             cc-N/A   \n",
       "\n",
       "   order_value_usd  item_count               city  \\\n",
       "0        25.407407         2.0  Santiago de Chile   \n",
       "1        43.049383         1.0  Santiago de Chile   \n",
       "2       119.438889        11.0  Santiago de Chile   \n",
       "3        13.061728         1.0  Santiago de Chile   \n",
       "4        36.740741         3.0  Santiago de Chile   \n",
       "\n",
       "                                    brand_group        lat        lng  \\\n",
       "0                          Botillería Echenique -33.433491 -70.581792   \n",
       "1                             SOLOROSASYALGOMAS -33.403637 -70.657823   \n",
       "2                                         Jumbo -33.402225 -70.598952   \n",
       "3                                         Lider -33.380700 -70.686793   \n",
       "4  Jardineria teresa jacqueline huenun espinoza -33.449619 -70.635816   \n",
       "\n",
       "   t04_picking_time  t05_cashier_time  t06_requesting_rt_time vehicle_type  \\\n",
       "0               NaN           14187.0                     NaN      Bicycle   \n",
       "1               2.0               0.0                     NaN   Motorcycle   \n",
       "2               8.0              12.0                     1.0   Motorcycle   \n",
       "3               NaN               0.0                     NaN          NaN   \n",
       "4               NaN               0.0                     NaN   Motorcycle   \n",
       "\n",
       "  store_category  out_of_stock  order_wrong  tag_cancel  distance_km  \\\n",
       "0   Licours Shop             0        False       False          2.0   \n",
       "1     E-commerce             0         True        True          3.0   \n",
       "2            NaN             0        False       False          4.0   \n",
       "3            NaN             0         True        True          2.0   \n",
       "4     E-commerce             0         True        True          4.0   \n",
       "\n",
       "  use_credit  hora  polygon_size  rappi_amount  \n",
       "0        NaN    23           NaN           NaN  \n",
       "1        NaN     0           NaN           NaN  \n",
       "2        NaN    12           NaN           NaN  \n",
       "3        NaN    13           NaN           NaN  \n",
       "4        NaN    13           NaN           NaN  "
      ]
     },
     "execution_count": 11,
     "metadata": {},
     "output_type": "execute_result"
    }
   ],
   "source": [
    "df.head()"
   ]
  },
  {
   "cell_type": "code",
   "execution_count": 43,
   "id": "610f71da",
   "metadata": {
    "tags": []
   },
   "outputs": [],
   "source": [
    "df=df.rename(columns={'order_value_usd':'order_value','brand_group':'partner','t04_picking_time':'picking_time','t05_cashier_time':'cashier_time','t06_requesting_rt_time':'requesting_transport_time','rappi_amount':'cashback'})"
   ]
  },
  {
   "cell_type": "code",
   "execution_count": 13,
   "id": "fb241d8b",
   "metadata": {},
   "outputs": [
    {
     "data": {
      "text/html": [
       "<div>\n",
       "<style scoped>\n",
       "    .dataframe tbody tr th:only-of-type {\n",
       "        vertical-align: middle;\n",
       "    }\n",
       "\n",
       "    .dataframe tbody tr th {\n",
       "        vertical-align: top;\n",
       "    }\n",
       "\n",
       "    .dataframe thead th {\n",
       "        text-align: right;\n",
       "    }\n",
       "</style>\n",
       "<table border=\"1\" class=\"dataframe\">\n",
       "  <thead>\n",
       "    <tr style=\"text-align: right;\">\n",
       "      <th></th>\n",
       "      <th>country</th>\n",
       "      <th>district_name</th>\n",
       "      <th>date</th>\n",
       "      <th>weekday</th>\n",
       "      <th>order_id</th>\n",
       "      <th>user_total_orders</th>\n",
       "      <th>% completed orders user</th>\n",
       "      <th>payment_method</th>\n",
       "      <th>order_value</th>\n",
       "      <th>item_count</th>\n",
       "      <th>city</th>\n",
       "      <th>partner</th>\n",
       "      <th>lat</th>\n",
       "      <th>lng</th>\n",
       "      <th>picking_time</th>\n",
       "      <th>cashier_time</th>\n",
       "      <th>requesting_transport_time</th>\n",
       "      <th>vehicle_type</th>\n",
       "      <th>store_category</th>\n",
       "      <th>out_of_stock</th>\n",
       "      <th>order_wrong</th>\n",
       "      <th>tag_cancel</th>\n",
       "      <th>distance_km</th>\n",
       "      <th>use_credit</th>\n",
       "      <th>hora</th>\n",
       "      <th>polygon_size</th>\n",
       "      <th>cashback</th>\n",
       "    </tr>\n",
       "  </thead>\n",
       "  <tbody>\n",
       "    <tr>\n",
       "      <th>0</th>\n",
       "      <td>CL</td>\n",
       "      <td>Campus Oriente SCL4</td>\n",
       "      <td>2023-06-30 00:00:00</td>\n",
       "      <td>Friday</td>\n",
       "      <td>88222630</td>\n",
       "      <td>111</td>\n",
       "      <td>95.50 %</td>\n",
       "      <td>rappi_pay_gateway</td>\n",
       "      <td>25.407407</td>\n",
       "      <td>2.0</td>\n",
       "      <td>Santiago de Chile</td>\n",
       "      <td>Botillería Echenique</td>\n",
       "      <td>-33.433491</td>\n",
       "      <td>-70.581792</td>\n",
       "      <td>NaN</td>\n",
       "      <td>14187.0</td>\n",
       "      <td>NaN</td>\n",
       "      <td>Bicycle</td>\n",
       "      <td>Licours Shop</td>\n",
       "      <td>0</td>\n",
       "      <td>False</td>\n",
       "      <td>False</td>\n",
       "      <td>2.0</td>\n",
       "      <td>NaN</td>\n",
       "      <td>23</td>\n",
       "      <td>NaN</td>\n",
       "      <td>NaN</td>\n",
       "    </tr>\n",
       "    <tr>\n",
       "      <th>1</th>\n",
       "      <td>CL</td>\n",
       "      <td>23 Senador Jaime Guzman</td>\n",
       "      <td>2023-06-27 00:00:00</td>\n",
       "      <td>Tuesday</td>\n",
       "      <td>88256140</td>\n",
       "      <td>4</td>\n",
       "      <td>50.00 %</td>\n",
       "      <td>cc-N/A</td>\n",
       "      <td>43.049383</td>\n",
       "      <td>1.0</td>\n",
       "      <td>Santiago de Chile</td>\n",
       "      <td>SOLOROSASYALGOMAS</td>\n",
       "      <td>-33.403637</td>\n",
       "      <td>-70.657823</td>\n",
       "      <td>2.0</td>\n",
       "      <td>0.0</td>\n",
       "      <td>NaN</td>\n",
       "      <td>Motorcycle</td>\n",
       "      <td>E-commerce</td>\n",
       "      <td>0</td>\n",
       "      <td>True</td>\n",
       "      <td>True</td>\n",
       "      <td>3.0</td>\n",
       "      <td>NaN</td>\n",
       "      <td>0</td>\n",
       "      <td>NaN</td>\n",
       "      <td>NaN</td>\n",
       "    </tr>\n",
       "    <tr>\n",
       "      <th>2</th>\n",
       "      <td>CL</td>\n",
       "      <td>Las Condes Poniente SCL3</td>\n",
       "      <td>2023-06-27 00:00:00</td>\n",
       "      <td>Tuesday</td>\n",
       "      <td>88287753</td>\n",
       "      <td>208</td>\n",
       "      <td>99.04 %</td>\n",
       "      <td>cc-credit</td>\n",
       "      <td>119.438889</td>\n",
       "      <td>11.0</td>\n",
       "      <td>Santiago de Chile</td>\n",
       "      <td>Jumbo</td>\n",
       "      <td>-33.402225</td>\n",
       "      <td>-70.598952</td>\n",
       "      <td>8.0</td>\n",
       "      <td>12.0</td>\n",
       "      <td>1.0</td>\n",
       "      <td>Motorcycle</td>\n",
       "      <td>NaN</td>\n",
       "      <td>0</td>\n",
       "      <td>False</td>\n",
       "      <td>False</td>\n",
       "      <td>4.0</td>\n",
       "      <td>NaN</td>\n",
       "      <td>12</td>\n",
       "      <td>NaN</td>\n",
       "      <td>NaN</td>\n",
       "    </tr>\n",
       "    <tr>\n",
       "      <th>3</th>\n",
       "      <td>CL</td>\n",
       "      <td>20 Pedro Fontova</td>\n",
       "      <td>2023-06-27 00:00:00</td>\n",
       "      <td>Tuesday</td>\n",
       "      <td>88290753</td>\n",
       "      <td>405</td>\n",
       "      <td>95.31 %</td>\n",
       "      <td>cc-N/A</td>\n",
       "      <td>13.061728</td>\n",
       "      <td>1.0</td>\n",
       "      <td>Santiago de Chile</td>\n",
       "      <td>Lider</td>\n",
       "      <td>-33.380700</td>\n",
       "      <td>-70.686793</td>\n",
       "      <td>NaN</td>\n",
       "      <td>0.0</td>\n",
       "      <td>NaN</td>\n",
       "      <td>NaN</td>\n",
       "      <td>NaN</td>\n",
       "      <td>0</td>\n",
       "      <td>True</td>\n",
       "      <td>True</td>\n",
       "      <td>2.0</td>\n",
       "      <td>NaN</td>\n",
       "      <td>13</td>\n",
       "      <td>NaN</td>\n",
       "      <td>NaN</td>\n",
       "    </tr>\n",
       "    <tr>\n",
       "      <th>4</th>\n",
       "      <td>CL</td>\n",
       "      <td>Campus Oriente SCL4</td>\n",
       "      <td>2023-06-27 00:00:00</td>\n",
       "      <td>Tuesday</td>\n",
       "      <td>88291146</td>\n",
       "      <td>455</td>\n",
       "      <td>96.92 %</td>\n",
       "      <td>cc-N/A</td>\n",
       "      <td>36.740741</td>\n",
       "      <td>3.0</td>\n",
       "      <td>Santiago de Chile</td>\n",
       "      <td>Jardineria teresa jacqueline huenun espinoza</td>\n",
       "      <td>-33.449619</td>\n",
       "      <td>-70.635816</td>\n",
       "      <td>NaN</td>\n",
       "      <td>0.0</td>\n",
       "      <td>NaN</td>\n",
       "      <td>Motorcycle</td>\n",
       "      <td>E-commerce</td>\n",
       "      <td>0</td>\n",
       "      <td>True</td>\n",
       "      <td>True</td>\n",
       "      <td>4.0</td>\n",
       "      <td>NaN</td>\n",
       "      <td>13</td>\n",
       "      <td>NaN</td>\n",
       "      <td>NaN</td>\n",
       "    </tr>\n",
       "  </tbody>\n",
       "</table>\n",
       "</div>"
      ],
      "text/plain": [
       "  country             district_name                 date  weekday  order_id  \\\n",
       "0      CL       Campus Oriente SCL4  2023-06-30 00:00:00   Friday  88222630   \n",
       "1      CL   23 Senador Jaime Guzman  2023-06-27 00:00:00  Tuesday  88256140   \n",
       "2      CL  Las Condes Poniente SCL3  2023-06-27 00:00:00  Tuesday  88287753   \n",
       "3      CL          20 Pedro Fontova  2023-06-27 00:00:00  Tuesday  88290753   \n",
       "4      CL       Campus Oriente SCL4  2023-06-27 00:00:00  Tuesday  88291146   \n",
       "\n",
       "   user_total_orders % completed orders user     payment_method  order_value  \\\n",
       "0                111                 95.50 %  rappi_pay_gateway    25.407407   \n",
       "1                  4                 50.00 %             cc-N/A    43.049383   \n",
       "2                208                 99.04 %          cc-credit   119.438889   \n",
       "3                405                 95.31 %             cc-N/A    13.061728   \n",
       "4                455                 96.92 %             cc-N/A    36.740741   \n",
       "\n",
       "   item_count               city  \\\n",
       "0         2.0  Santiago de Chile   \n",
       "1         1.0  Santiago de Chile   \n",
       "2        11.0  Santiago de Chile   \n",
       "3         1.0  Santiago de Chile   \n",
       "4         3.0  Santiago de Chile   \n",
       "\n",
       "                                        partner        lat        lng  \\\n",
       "0                          Botillería Echenique -33.433491 -70.581792   \n",
       "1                             SOLOROSASYALGOMAS -33.403637 -70.657823   \n",
       "2                                         Jumbo -33.402225 -70.598952   \n",
       "3                                         Lider -33.380700 -70.686793   \n",
       "4  Jardineria teresa jacqueline huenun espinoza -33.449619 -70.635816   \n",
       "\n",
       "   picking_time  cashier_time  requesting_transport_time vehicle_type  \\\n",
       "0           NaN       14187.0                        NaN      Bicycle   \n",
       "1           2.0           0.0                        NaN   Motorcycle   \n",
       "2           8.0          12.0                        1.0   Motorcycle   \n",
       "3           NaN           0.0                        NaN          NaN   \n",
       "4           NaN           0.0                        NaN   Motorcycle   \n",
       "\n",
       "  store_category  out_of_stock  order_wrong  tag_cancel  distance_km  \\\n",
       "0   Licours Shop             0        False       False          2.0   \n",
       "1     E-commerce             0         True        True          3.0   \n",
       "2            NaN             0        False       False          4.0   \n",
       "3            NaN             0         True        True          2.0   \n",
       "4     E-commerce             0         True        True          4.0   \n",
       "\n",
       "  use_credit  hora  polygon_size  cashback  \n",
       "0        NaN    23           NaN       NaN  \n",
       "1        NaN     0           NaN       NaN  \n",
       "2        NaN    12           NaN       NaN  \n",
       "3        NaN    13           NaN       NaN  \n",
       "4        NaN    13           NaN       NaN  "
      ]
     },
     "execution_count": 13,
     "metadata": {},
     "output_type": "execute_result"
    }
   ],
   "source": [
    "df.head()"
   ]
  },
  {
   "cell_type": "code",
   "execution_count": 44,
   "id": "85b08904",
   "metadata": {
    "tags": []
   },
   "outputs": [],
   "source": [
    "df['city'].replace({'Santiago de Chile': 'Maule', 'Lima': 'Xauxa', 'Guayaquil': 'Ingapirca'}, inplace=True)"
   ]
  },
  {
   "cell_type": "code",
   "execution_count": 45,
   "id": "d8bae02e",
   "metadata": {
    "tags": []
   },
   "outputs": [
    {
     "data": {
      "text/plain": [
       "array(['rappi_pay_gateway', 'cc-N/A', 'cc-credit', 'cash', 'cc-DEBIT',\n",
       "       'cc-CHARGE CARD', 'paypal', 'apple_pay', 'rappi_pay',\n",
       "       'rappi_pay_gateway_wallet'], dtype=object)"
      ]
     },
     "execution_count": 45,
     "metadata": {},
     "output_type": "execute_result"
    }
   ],
   "source": [
    "df['payment_method'].unique()"
   ]
  },
  {
   "cell_type": "code",
   "execution_count": 46,
   "id": "54d4ea00",
   "metadata": {
    "tags": []
   },
   "outputs": [],
   "source": [
    "df['payment_method'].replace({'rappi_pay_gateway': 'revol_pay', 'rappi_pay_gateway_wallet': 'revol_pay', 'rappi_pay': 'revol_pay'}, inplace=True)"
   ]
  },
  {
   "cell_type": "code",
   "execution_count": 24,
   "id": "61f95eef",
   "metadata": {},
   "outputs": [
    {
     "data": {
      "text/plain": [
       "array(['CL', 'EC', 'PE'], dtype=object)"
      ]
     },
     "execution_count": 24,
     "metadata": {},
     "output_type": "execute_result"
    }
   ],
   "source": [
    "df['country'].unique()"
   ]
  },
  {
   "cell_type": "code",
   "execution_count": 47,
   "id": "be526dd4",
   "metadata": {
    "tags": []
   },
   "outputs": [],
   "source": [
    "df['country'].replace({'CL': 'Llaqta_1', 'EC': 'Llaqta_2', 'PE': 'Llaqta_3'}, inplace=True)"
   ]
  },
  {
   "cell_type": "code",
   "execution_count": 48,
   "id": "f2dd21ec",
   "metadata": {
    "tags": []
   },
   "outputs": [
    {
     "data": {
      "text/plain": [
       "array(['Campus Oriente SCL4', '23 Senador Jaime Guzman',\n",
       "       'Las Condes Poniente SCL3', '20 Pedro Fontova',\n",
       "       'Jardin de la Dehesa SCL2', 'Providencia SCL4',\n",
       "       'Parque Quinta Normal SCL1', 'Movistar Arena SCL5',\n",
       "       'Estadio nacional SCL5', 'La Reina Alta SCL4',\n",
       "       'Penalolen Alto SCL4', 'El Parrón', 'La Moneda SCL1',\n",
       "       'Los Dominicos SCL3', ' Estadio Bicentenario SCL7',\n",
       "       'La Dehesa Norte SCL2', 'Mall Tobalaba', 'Barrio Italia SCL4',\n",
       "       'Santa Maria de Manquehue SCL2', 'Santuario Maipú',\n",
       "       'Vina Cousino Macul', 'Mall plaza sur', 'Recoleta SCL1',\n",
       "       'San Carlos de Apoquindo SCL2', 'Florida Center SCL7',\n",
       "       '1 Arauco Maipu', 'La Castrina', '16 El Peral', 'Barrio Holanda',\n",
       "       '18 Zapadores', 'Plaza Viva', 'Pudahuel Sur', '24 El Cortijo',\n",
       "       'Chicureo', '19 El Guanaco', 'Quilicura', 'El abrazo',\n",
       "       '5 El Rosal', 'El bosque 1', 'Plaza Oeste',\n",
       "       'Municipalidad Pudahuel', 'Hacienda', 'san bernardo centro',\n",
       "       'Colina mz', 'Plaza Puente Alto', 'Los Nogales SCL6',\n",
       "       'Sotero del Río', 'Chamisero', 'Padahuel', 'Industrial maipu',\n",
       "       'Lo arcaya'], dtype=object)"
      ]
     },
     "execution_count": 48,
     "metadata": {},
     "output_type": "execute_result"
    }
   ],
   "source": [
    "filtered_district_names = df.loc[df['country'] == 'Llaqta_1', 'district_name'].unique()\n",
    "filtered_district_names"
   ]
  },
  {
   "cell_type": "code",
   "execution_count": 49,
   "id": "bbc7a685",
   "metadata": {
    "tags": []
   },
   "outputs": [],
   "source": [
    "df['district_name'].replace({\n",
    "'Campus Oriente SCL4':'MA_1', \n",
    "'23 Senador Jaime Guzman':'MA_2',\n",
    "'Las Condes Poniente SCL3':'MA_3', \n",
    "'20 Pedro Fontova':'MA_4',\n",
    "'Jardin de la Dehesa SCL2':'MA_5',\n",
    "'Providencia SCL4':'MA_6',\n",
    "'Parque Quinta Normal SCL1':'MA_7', \n",
    "'Movistar Arena SCL5':'MA_8',\n",
    "'Estadio nacional SCL5':'MA_9', \n",
    "'La Reina Alta SCL4':'MA_10',\n",
    "'Penalolen Alto SCL4':'MA_11', \n",
    "'El Parrón':'MA_12', \n",
    "'La Moneda SCL1':'MA_13',\n",
    "'Los Dominicos SCL3':'MA_14', \n",
    "' Estadio Bicentenario SCL7':'MA_15',\n",
    "'La Dehesa Norte SCL2':'MA_16',\n",
    "'Mall Tobalaba':'MA_17',\n",
    " 'Barrio Italia SCL4':'MA_18',\n",
    "'Santa Maria de Manquehue SCL2':'MA_19', \n",
    "'Santuario Maipú':'MA_20',\n",
    "'Vina Cousino Macul':'MA_21', \n",
    "'Mall plaza sur':'MA_22',\n",
    " 'Recoleta SCL1':'MA_23',\n",
    "'San Carlos de Apoquindo SCL2':'MA_24', \n",
    "'Florida Center SCL7':'MA_25',\n",
    "'1 Arauco Maipu':'MA_26', \n",
    "'La Castrina':'MA_27',\n",
    " '16 El Peral':'MA_28', \n",
    " 'Barrio Holanda':'MA_29',\n",
    "'18 Zapadores':'MA_30',\n",
    " 'Plaza Viva':'MA_31',\n",
    "  'Pudahuel Sur':'MA_32',\n",
    "   '24 El Cortijo':'MA_33',\n",
    "'Chicureo':'MA_34', \n",
    "'19 El Guanaco':'MA_35',\n",
    " 'Quilicura':'MA_36',\n",
    "  'El abrazo':'MA_37',\n",
    "'5 El Rosal':'MA_38',\n",
    " 'El bosque 1':'MA_39',\n",
    "  'Plaza Oeste':'MA_40',\n",
    "'Municipalidad Pudahuel':'MA_41',\n",
    " 'Hacienda':'MA_42',\n",
    "  'san bernardo centro':'MA_43',\n",
    "'Colina mz':'MA_44',\n",
    " 'Plaza Puente Alto':'MA_45',\n",
    "  'Los Nogales SCL6':'MA_46',\n",
    "'Sotero del Río':'MA_47',\n",
    " 'Chamisero':'MA_48',\n",
    "  'Padahuel':'MA_49',\n",
    "   'Industrial maipu':'MA_50',\n",
    " 'Lo arcaya':'MA_51'}, inplace=True)"
   ]
  },
  {
   "cell_type": "code",
   "execution_count": 50,
   "id": "f966dc84",
   "metadata": {
    "tags": []
   },
   "outputs": [
    {
     "data": {
      "text/plain": [
       "array(['Vía la Costa', 'Extension Duran', 'URDESA', 'ALBORADA',\n",
       "       'Sur de Guayaquil', 'Extensión Mucho lote 1', 'LA BAHIA',\n",
       "       'Parque California', 'KENNEDY', 'El Dorado', 'Samborondon Sur',\n",
       "       'extensión suburbio', 'Samborondon Norte', 'Joya Autopista',\n",
       "       'extensión guasmo'], dtype=object)"
      ]
     },
     "execution_count": 50,
     "metadata": {},
     "output_type": "execute_result"
    }
   ],
   "source": [
    "filtered_district_names = df.loc[df['country'] == 'Llaqta_2', 'district_name'].unique()\n",
    "filtered_district_names"
   ]
  },
  {
   "cell_type": "code",
   "execution_count": 32,
   "id": "ea2ef7fe",
   "metadata": {},
   "outputs": [
    {
     "data": {
      "text/html": [
       "<div>\n",
       "<style scoped>\n",
       "    .dataframe tbody tr th:only-of-type {\n",
       "        vertical-align: middle;\n",
       "    }\n",
       "\n",
       "    .dataframe tbody tr th {\n",
       "        vertical-align: top;\n",
       "    }\n",
       "\n",
       "    .dataframe thead th {\n",
       "        text-align: right;\n",
       "    }\n",
       "</style>\n",
       "<table border=\"1\" class=\"dataframe\">\n",
       "  <thead>\n",
       "    <tr style=\"text-align: right;\">\n",
       "      <th></th>\n",
       "      <th>country</th>\n",
       "      <th>district_name</th>\n",
       "      <th>date</th>\n",
       "      <th>weekday</th>\n",
       "      <th>order_id</th>\n",
       "      <th>user_total_orders</th>\n",
       "      <th>% completed orders user</th>\n",
       "      <th>payment_method</th>\n",
       "      <th>order_value</th>\n",
       "      <th>item_count</th>\n",
       "      <th>city</th>\n",
       "      <th>partner</th>\n",
       "      <th>lat</th>\n",
       "      <th>lng</th>\n",
       "      <th>picking_time</th>\n",
       "      <th>cashier_time</th>\n",
       "      <th>requesting_transport_time</th>\n",
       "      <th>vehicle_type</th>\n",
       "      <th>store_category</th>\n",
       "      <th>out_of_stock</th>\n",
       "      <th>order_wrong</th>\n",
       "      <th>tag_cancel</th>\n",
       "      <th>distance_km</th>\n",
       "      <th>use_credit</th>\n",
       "      <th>hora</th>\n",
       "      <th>polygon_size</th>\n",
       "      <th>cashback</th>\n",
       "    </tr>\n",
       "  </thead>\n",
       "  <tbody>\n",
       "    <tr>\n",
       "      <th>0</th>\n",
       "      <td>Llaqta_1</td>\n",
       "      <td>Campus Oriente SCL4</td>\n",
       "      <td>2023-06-30 00:00:00</td>\n",
       "      <td>Friday</td>\n",
       "      <td>88222630</td>\n",
       "      <td>111</td>\n",
       "      <td>95.50 %</td>\n",
       "      <td>revol_pay</td>\n",
       "      <td>25.407407</td>\n",
       "      <td>2.0</td>\n",
       "      <td>Maule</td>\n",
       "      <td>Botillería Echenique</td>\n",
       "      <td>-33.433491</td>\n",
       "      <td>-70.581792</td>\n",
       "      <td>NaN</td>\n",
       "      <td>14187.0</td>\n",
       "      <td>NaN</td>\n",
       "      <td>Bicycle</td>\n",
       "      <td>Licours Shop</td>\n",
       "      <td>0</td>\n",
       "      <td>False</td>\n",
       "      <td>False</td>\n",
       "      <td>2.0</td>\n",
       "      <td>NaN</td>\n",
       "      <td>23</td>\n",
       "      <td>NaN</td>\n",
       "      <td>NaN</td>\n",
       "    </tr>\n",
       "    <tr>\n",
       "      <th>1</th>\n",
       "      <td>Llaqta_1</td>\n",
       "      <td>23 Senador Jaime Guzman</td>\n",
       "      <td>2023-06-27 00:00:00</td>\n",
       "      <td>Tuesday</td>\n",
       "      <td>88256140</td>\n",
       "      <td>4</td>\n",
       "      <td>50.00 %</td>\n",
       "      <td>cc-N/A</td>\n",
       "      <td>43.049383</td>\n",
       "      <td>1.0</td>\n",
       "      <td>Maule</td>\n",
       "      <td>SOLOROSASYALGOMAS</td>\n",
       "      <td>-33.403637</td>\n",
       "      <td>-70.657823</td>\n",
       "      <td>2.0</td>\n",
       "      <td>0.0</td>\n",
       "      <td>NaN</td>\n",
       "      <td>Motorcycle</td>\n",
       "      <td>E-commerce</td>\n",
       "      <td>0</td>\n",
       "      <td>True</td>\n",
       "      <td>True</td>\n",
       "      <td>3.0</td>\n",
       "      <td>NaN</td>\n",
       "      <td>0</td>\n",
       "      <td>NaN</td>\n",
       "      <td>NaN</td>\n",
       "    </tr>\n",
       "    <tr>\n",
       "      <th>2</th>\n",
       "      <td>Llaqta_1</td>\n",
       "      <td>Las Condes Poniente SCL3</td>\n",
       "      <td>2023-06-27 00:00:00</td>\n",
       "      <td>Tuesday</td>\n",
       "      <td>88287753</td>\n",
       "      <td>208</td>\n",
       "      <td>99.04 %</td>\n",
       "      <td>cc-credit</td>\n",
       "      <td>119.438889</td>\n",
       "      <td>11.0</td>\n",
       "      <td>Maule</td>\n",
       "      <td>Jumbo</td>\n",
       "      <td>-33.402225</td>\n",
       "      <td>-70.598952</td>\n",
       "      <td>8.0</td>\n",
       "      <td>12.0</td>\n",
       "      <td>1.0</td>\n",
       "      <td>Motorcycle</td>\n",
       "      <td>NaN</td>\n",
       "      <td>0</td>\n",
       "      <td>False</td>\n",
       "      <td>False</td>\n",
       "      <td>4.0</td>\n",
       "      <td>NaN</td>\n",
       "      <td>12</td>\n",
       "      <td>NaN</td>\n",
       "      <td>NaN</td>\n",
       "    </tr>\n",
       "    <tr>\n",
       "      <th>3</th>\n",
       "      <td>Llaqta_1</td>\n",
       "      <td>20 Pedro Fontova</td>\n",
       "      <td>2023-06-27 00:00:00</td>\n",
       "      <td>Tuesday</td>\n",
       "      <td>88290753</td>\n",
       "      <td>405</td>\n",
       "      <td>95.31 %</td>\n",
       "      <td>cc-N/A</td>\n",
       "      <td>13.061728</td>\n",
       "      <td>1.0</td>\n",
       "      <td>Maule</td>\n",
       "      <td>Lider</td>\n",
       "      <td>-33.380700</td>\n",
       "      <td>-70.686793</td>\n",
       "      <td>NaN</td>\n",
       "      <td>0.0</td>\n",
       "      <td>NaN</td>\n",
       "      <td>NaN</td>\n",
       "      <td>NaN</td>\n",
       "      <td>0</td>\n",
       "      <td>True</td>\n",
       "      <td>True</td>\n",
       "      <td>2.0</td>\n",
       "      <td>NaN</td>\n",
       "      <td>13</td>\n",
       "      <td>NaN</td>\n",
       "      <td>NaN</td>\n",
       "    </tr>\n",
       "    <tr>\n",
       "      <th>4</th>\n",
       "      <td>Llaqta_1</td>\n",
       "      <td>Campus Oriente SCL4</td>\n",
       "      <td>2023-06-27 00:00:00</td>\n",
       "      <td>Tuesday</td>\n",
       "      <td>88291146</td>\n",
       "      <td>455</td>\n",
       "      <td>96.92 %</td>\n",
       "      <td>cc-N/A</td>\n",
       "      <td>36.740741</td>\n",
       "      <td>3.0</td>\n",
       "      <td>Maule</td>\n",
       "      <td>Jardineria teresa jacqueline huenun espinoza</td>\n",
       "      <td>-33.449619</td>\n",
       "      <td>-70.635816</td>\n",
       "      <td>NaN</td>\n",
       "      <td>0.0</td>\n",
       "      <td>NaN</td>\n",
       "      <td>Motorcycle</td>\n",
       "      <td>E-commerce</td>\n",
       "      <td>0</td>\n",
       "      <td>True</td>\n",
       "      <td>True</td>\n",
       "      <td>4.0</td>\n",
       "      <td>NaN</td>\n",
       "      <td>13</td>\n",
       "      <td>NaN</td>\n",
       "      <td>NaN</td>\n",
       "    </tr>\n",
       "  </tbody>\n",
       "</table>\n",
       "</div>"
      ],
      "text/plain": [
       "    country             district_name                 date  weekday  order_id  \\\n",
       "0  Llaqta_1       Campus Oriente SCL4  2023-06-30 00:00:00   Friday  88222630   \n",
       "1  Llaqta_1   23 Senador Jaime Guzman  2023-06-27 00:00:00  Tuesday  88256140   \n",
       "2  Llaqta_1  Las Condes Poniente SCL3  2023-06-27 00:00:00  Tuesday  88287753   \n",
       "3  Llaqta_1          20 Pedro Fontova  2023-06-27 00:00:00  Tuesday  88290753   \n",
       "4  Llaqta_1       Campus Oriente SCL4  2023-06-27 00:00:00  Tuesday  88291146   \n",
       "\n",
       "   user_total_orders % completed orders user payment_method  order_value  \\\n",
       "0                111                 95.50 %      revol_pay    25.407407   \n",
       "1                  4                 50.00 %         cc-N/A    43.049383   \n",
       "2                208                 99.04 %      cc-credit   119.438889   \n",
       "3                405                 95.31 %         cc-N/A    13.061728   \n",
       "4                455                 96.92 %         cc-N/A    36.740741   \n",
       "\n",
       "   item_count   city                                       partner        lat  \\\n",
       "0         2.0  Maule                          Botillería Echenique -33.433491   \n",
       "1         1.0  Maule                             SOLOROSASYALGOMAS -33.403637   \n",
       "2        11.0  Maule                                         Jumbo -33.402225   \n",
       "3         1.0  Maule                                         Lider -33.380700   \n",
       "4         3.0  Maule  Jardineria teresa jacqueline huenun espinoza -33.449619   \n",
       "\n",
       "         lng  picking_time  cashier_time  requesting_transport_time  \\\n",
       "0 -70.581792           NaN       14187.0                        NaN   \n",
       "1 -70.657823           2.0           0.0                        NaN   \n",
       "2 -70.598952           8.0          12.0                        1.0   \n",
       "3 -70.686793           NaN           0.0                        NaN   \n",
       "4 -70.635816           NaN           0.0                        NaN   \n",
       "\n",
       "  vehicle_type store_category  out_of_stock  order_wrong  tag_cancel  \\\n",
       "0      Bicycle   Licours Shop             0        False       False   \n",
       "1   Motorcycle     E-commerce             0         True        True   \n",
       "2   Motorcycle            NaN             0        False       False   \n",
       "3          NaN            NaN             0         True        True   \n",
       "4   Motorcycle     E-commerce             0         True        True   \n",
       "\n",
       "   distance_km use_credit  hora  polygon_size  cashback  \n",
       "0          2.0        NaN    23           NaN       NaN  \n",
       "1          3.0        NaN     0           NaN       NaN  \n",
       "2          4.0        NaN    12           NaN       NaN  \n",
       "3          2.0        NaN    13           NaN       NaN  \n",
       "4          4.0        NaN    13           NaN       NaN  "
      ]
     },
     "execution_count": 32,
     "metadata": {},
     "output_type": "execute_result"
    }
   ],
   "source": [
    "df.head()"
   ]
  },
  {
   "cell_type": "code",
   "execution_count": 51,
   "id": "f7fb139d",
   "metadata": {
    "tags": []
   },
   "outputs": [],
   "source": [
    "df['district_name'].replace({\n",
    "'Vía la Costa':'IN_1', \n",
    "'Extension Duran':'IN_2',\n",
    " 'URDESA':'IN_3',\n",
    "  'ALBORADA':'IN_4',\n",
    "'Sur de Guayaquil':'IN_5', \n",
    "'Extensión Mucho lote 1':'IN_6',\n",
    " 'LA BAHIA':'IN_7',\n",
    "'Parque California':'IN_8', \n",
    "'KENNEDY':'IN_9',\n",
    " 'El Dorado':'IN_10',\n",
    "  'Samborondon Sur':'IN_11',\n",
    "'extensión suburbio':'IN_12',\n",
    " 'Samborondon Norte':'IN_13',\n",
    "  'Joya Autopista':'IN_14',\n",
    "'extensión guasmo':'IN_15'}, inplace=True)"
   ]
  },
  {
   "cell_type": "code",
   "execution_count": 52,
   "id": "3f828155",
   "metadata": {
    "tags": []
   },
   "outputs": [
    {
     "data": {
      "text/plain": [
       "array(['Zona Empresarial (San Isidro Corpac) LIM2',\n",
       "       'San Isidro Residencial\\xa0LIM2', 'Miraflores Oeste\\xa0LIM3',\n",
       "       'Comas', 'Cono Norte norte', 'San Borja LIM2', 'Chacarilla LIM2',\n",
       "       'Centro de Lima - Breña LIM4', 'Surquillo LIM2',\n",
       "       'Pueblo Libre LIM1', 'Jesús Maria - Lince LIM1',\n",
       "       'Miraflores Este LIM2', 'Molina Centro\\xa0LIM4',\n",
       "       'Monterrico y Casuarinas LIM2', 'Surco Sur LIM3', 'Ate LIM4',\n",
       "       'Molina Sur LIM4', 'San Luis LIM2', 'San Miguel - Magdalena LIM1',\n",
       "       'Microzona Bellavista', 'Lima 1 sin h',\n",
       "       'Breña Hospital Loayza LIM4', 'Centros comerciales',\n",
       "       'Camacho y Monterrico Norte LIM4', 'Barranco LIM3',\n",
       "       'Santa Catalina LIM2', 'Surco Viejo\\xa0LIM3', 'El Carmen',\n",
       "       'Chorrillos Sur LIM4', 'Chorrillos Villa norte', 'Cerro La regla',\n",
       "       'Santa Anita LIM4', 'San Miguel Maranga LIM1', 'Cono Norte Oeste',\n",
       "       'San Juan de Lurigancho', 'San Juan Miraflores', 'Plaza de Acho',\n",
       "       'San Juan de Miraflores LIM3', 'Zona Negra Surco Viejo LIM3',\n",
       "       'La Florida', 'Lucyana', 'Puruchuco', 'Los Geranios', 'Callao',\n",
       "       'Chorrillos LIM3', 'San Juan de Lurigancho Centro',\n",
       "       'Zona Negra La Victoria LIM4', 'Ate Centro', 'Tres Regiones',\n",
       "       'Ventanilla Alta', 'Mateo Pamacahua', 'Molina Oeste',\n",
       "       'San Gabriel Alto', 'Rosa Luz'], dtype=object)"
      ]
     },
     "execution_count": 52,
     "metadata": {},
     "output_type": "execute_result"
    }
   ],
   "source": [
    "filtered_district_names = df.loc[df['country'] == 'Llaqta_3', 'district_name'].unique()\n",
    "filtered_district_names"
   ]
  },
  {
   "cell_type": "code",
   "execution_count": 53,
   "id": "eaa50839",
   "metadata": {
    "tags": []
   },
   "outputs": [],
   "source": [
    "df['district_name'].replace({\n",
    "'Zona Empresarial (San Isidro Corpac) LIM2':'XA_1',\n",
    "'San Isidro Residencial\\xa0LIM2':'XA_2', \n",
    "'Miraflores Oeste\\xa0LIM3':'XA_3',\n",
    "'Comas':'XA_4',\n",
    "'Cono Norte norte':'XA_5',\n",
    "'San Borja LIM2':'XA_6',\n",
    "'Chacarilla LIM2':'XA_7',\n",
    "'Centro de Lima - Breña LIM4':'XA_8',\n",
    "'Surquillo LIM2':'XA_9',\n",
    "'Pueblo Libre LIM1':'XA_10',\n",
    "'Jesús Maria - Lince LIM1':'XA_11',\n",
    "'Miraflores Este LIM2':'XA_12',\n",
    "'Molina Centro\\xa0LIM4':'XA_13',\n",
    "'Monterrico y Casuarinas LIM2':'XA_14',\n",
    "'Surco Sur LIM3':'XA_15',\n",
    "'Ate LIM4':'XA_16',\n",
    "'Molina Sur LIM4':'XA_17',\n",
    "'San Luis LIM2':'XA_18',\n",
    "'San Miguel - Magdalena LIM1':'XA_19',\n",
    "'Microzona Bellavista':'XA_20',\n",
    "'Lima 1 sin h':'XA_21',\n",
    "'Breña Hospital Loayza LIM4':'XA_22',\n",
    "'Centros comerciales':'XA_23',\n",
    "'Camacho y Monterrico Norte LIM4':'XA_24',\n",
    "'Barranco LIM3':'XA_25',\n",
    "'Santa Catalina LIM2':'XA_26',\n",
    "'Surco Viejo\\xa0LIM3':'XA_27',\n",
    "'El Carmen':'XA_28',\n",
    "'Chorrillos Sur LIM4':'XA_29',\n",
    "'Chorrillos Villa norte':'XA_30',\n",
    "'Cerro La regla':'XA_31',\n",
    "'Santa Anita LIM4':'XA_32', \n",
    "'San Miguel Maranga LIM1':'XA_33',\n",
    "'Cono Norte Oeste':'XA_34',\n",
    "'San Juan de Lurigancho':'XA_35',\n",
    "'San Juan Miraflores':'XA_36',\n",
    "'Plaza de Acho':'XA_37',\n",
    "'San Juan de Miraflores LIM3':'XA_38',\n",
    "'Zona Negra Surco Viejo LIM3':'XA_39',\n",
    "'La Florida':'XA_40',\n",
    "'Lucyana':'XA_41',\n",
    " 'Puruchuco':'XA_42',\n",
    "  'Los Geranios':'XA_43',\n",
    "   'Callao':'XA_44',\n",
    "'Chorrillos LIM3':'XA_45',\n",
    "'San Juan de Lurigancho Centro':'XA_46',\n",
    "'Zona Negra La Victoria LIM4':'XA_47',\n",
    " 'Ate Centro':'XA_48',\n",
    "  'Tres Regiones':'XA_49',\n",
    "'Ventanilla Alta':'XA_50',\n",
    " 'Mateo Pamacahua':'XA_51',\n",
    "  'Molina Oeste':'XA_52',\n",
    "'San Gabriel Alto':'XA_53',\n",
    " 'Rosa Luz':'XA_54'}, inplace=True)"
   ]
  },
  {
   "cell_type": "code",
   "execution_count": 54,
   "id": "2321c518",
   "metadata": {
    "tags": []
   },
   "outputs": [
    {
     "data": {
      "text/plain": [
       "array(['Mi Comisariato MT', 'Listo', 'Amor Animal MT', 'Mi Jugueteria',\n",
       "       'Rio Store', 'Pet Center', 'Tecno Riedi MT', 'PETSGO', 'Maninaec',\n",
       "       'Russe', 'Computron', 'City Pet', 'DIPASO', 'Santa Maria',\n",
       "       'Papoches Pet', 'Turbo X', 'Dmujeres Beauty Market', 'Medicity',\n",
       "       'Importadora Tecnotrade', 'COMPANIA LIMITADA FAMEDIC',\n",
       "       'Farmacias 911', 'Kywi', 'Mini', 'Super Paco', 'Pharmacys',\n",
       "       'SUPER EASY', 'Fernandez', 'Bebemundo', 'PetPro',\n",
       "       'DogTown Organic', 'PRIME NUTRITION EC', 'Juan Marcet', 'ANCISA',\n",
       "       'Vapeo Ec', 'Ferrisariato EC', 'FERCHOS COMPUTER BOYACA',\n",
       "       'La Santa Paloma', 'Violeta Flower Shop', 'Va & Ven',\n",
       "       'Completo XpressMarket', 'PopLife', 'Taylor sky flowers', 'DIZZY',\n",
       "       'Novicompu', 'Happy Food', 'Miniso', 'Distribuidora Mary Tech',\n",
       "       'Funky Fish', 'Pinto', 'MiniMondo', 'La Taberna',\n",
       "       'Floreria Los Helechos', 'Mini Market Cabutos', 'Laguarda',\n",
       "       'TVC Disposables', 'Calavera Vapes', 'Oki Doki',\n",
       "       'DEDSA TIENDA TECNOLOGICA', 'LA LICORERIA', 'El Bodegón',\n",
       "       'AlgoTranqui', 'ElectroSpot', 'Esvelts Sa', 'EL FARAON MARKET',\n",
       "       'Roland', 'Nutri Nicky', 'La Bodeguita', 'Ashley_makeup',\n",
       "       'Valença Drinks Ec', 'Despensa Dominguito', 'Las fragancias',\n",
       "       'HACIENDA SUIZA', 'Esteelart', 'PetBox', 'Tijerita', 'MeCompras',\n",
       "       'Impalcasa', 'RedFarmacy', 'ECUAVAPES', 'Shark', 'Luna Flowers',\n",
       "       'Puff Ec', 'Guimsa', 'Vapor Cigarrillos Electrónicos',\n",
       "       'WINEGIFTSSA', 'INTCOM SAS', 'Multiarticulos Import', 'PymesTIC',\n",
       "       'Vice Store', 'Alcoholizados Express EC', 'El Duende Smoke Shop',\n",
       "       'La Carniceria Market', 'Florería Fantasías En Flores', 'Maxitec',\n",
       "       'Happy Flower'], dtype=object)"
      ]
     },
     "execution_count": 54,
     "metadata": {},
     "output_type": "execute_result"
    }
   ],
   "source": [
    "df.loc[df['country'] == 'Llaqta_2', 'partner'].unique()"
   ]
  },
  {
   "cell_type": "code",
   "execution_count": 55,
   "id": "5f097386",
   "metadata": {
    "tags": []
   },
   "outputs": [],
   "source": [
    "df.drop(['order_id','lat','lng'], axis= 1,inplace= True)"
   ]
  },
  {
   "cell_type": "code",
   "execution_count": 56,
   "id": "eb140930",
   "metadata": {
    "tags": []
   },
   "outputs": [
    {
     "data": {
      "text/html": [
       "<div>\n",
       "<style scoped>\n",
       "    .dataframe tbody tr th:only-of-type {\n",
       "        vertical-align: middle;\n",
       "    }\n",
       "\n",
       "    .dataframe tbody tr th {\n",
       "        vertical-align: top;\n",
       "    }\n",
       "\n",
       "    .dataframe thead th {\n",
       "        text-align: right;\n",
       "    }\n",
       "</style>\n",
       "<table border=\"1\" class=\"dataframe\">\n",
       "  <thead>\n",
       "    <tr style=\"text-align: right;\">\n",
       "      <th></th>\n",
       "      <th>country</th>\n",
       "      <th>district_name</th>\n",
       "      <th>date</th>\n",
       "      <th>weekday</th>\n",
       "      <th>user_total_orders</th>\n",
       "      <th>% completed orders user</th>\n",
       "      <th>payment_method</th>\n",
       "      <th>order_value</th>\n",
       "      <th>item_count</th>\n",
       "      <th>city</th>\n",
       "      <th>partner</th>\n",
       "      <th>picking_time</th>\n",
       "      <th>cashier_time</th>\n",
       "      <th>requesting_transport_time</th>\n",
       "      <th>vehicle_type</th>\n",
       "      <th>store_category</th>\n",
       "      <th>out_of_stock</th>\n",
       "      <th>order_wrong</th>\n",
       "      <th>tag_cancel</th>\n",
       "      <th>distance_km</th>\n",
       "      <th>use_credit</th>\n",
       "      <th>hora</th>\n",
       "      <th>polygon_size</th>\n",
       "      <th>cashback</th>\n",
       "    </tr>\n",
       "  </thead>\n",
       "  <tbody>\n",
       "    <tr>\n",
       "      <th>0</th>\n",
       "      <td>Llaqta_1</td>\n",
       "      <td>MA_1</td>\n",
       "      <td>2023-06-30 00:00:00</td>\n",
       "      <td>Friday</td>\n",
       "      <td>111</td>\n",
       "      <td>95.50 %</td>\n",
       "      <td>revol_pay</td>\n",
       "      <td>25.407407</td>\n",
       "      <td>2.0</td>\n",
       "      <td>Maule</td>\n",
       "      <td>Botillería Echenique</td>\n",
       "      <td>NaN</td>\n",
       "      <td>14187.0</td>\n",
       "      <td>NaN</td>\n",
       "      <td>Bicycle</td>\n",
       "      <td>Licours Shop</td>\n",
       "      <td>0</td>\n",
       "      <td>False</td>\n",
       "      <td>False</td>\n",
       "      <td>2.0</td>\n",
       "      <td>NaN</td>\n",
       "      <td>23</td>\n",
       "      <td>NaN</td>\n",
       "      <td>NaN</td>\n",
       "    </tr>\n",
       "    <tr>\n",
       "      <th>1</th>\n",
       "      <td>Llaqta_1</td>\n",
       "      <td>MA_2</td>\n",
       "      <td>2023-06-27 00:00:00</td>\n",
       "      <td>Tuesday</td>\n",
       "      <td>4</td>\n",
       "      <td>50.00 %</td>\n",
       "      <td>cc-N/A</td>\n",
       "      <td>43.049383</td>\n",
       "      <td>1.0</td>\n",
       "      <td>Maule</td>\n",
       "      <td>SOLOROSASYALGOMAS</td>\n",
       "      <td>2.0</td>\n",
       "      <td>0.0</td>\n",
       "      <td>NaN</td>\n",
       "      <td>Motorcycle</td>\n",
       "      <td>E-commerce</td>\n",
       "      <td>0</td>\n",
       "      <td>True</td>\n",
       "      <td>True</td>\n",
       "      <td>3.0</td>\n",
       "      <td>NaN</td>\n",
       "      <td>0</td>\n",
       "      <td>NaN</td>\n",
       "      <td>NaN</td>\n",
       "    </tr>\n",
       "    <tr>\n",
       "      <th>2</th>\n",
       "      <td>Llaqta_1</td>\n",
       "      <td>MA_3</td>\n",
       "      <td>2023-06-27 00:00:00</td>\n",
       "      <td>Tuesday</td>\n",
       "      <td>208</td>\n",
       "      <td>99.04 %</td>\n",
       "      <td>cc-credit</td>\n",
       "      <td>119.438889</td>\n",
       "      <td>11.0</td>\n",
       "      <td>Maule</td>\n",
       "      <td>Jumbo</td>\n",
       "      <td>8.0</td>\n",
       "      <td>12.0</td>\n",
       "      <td>1.0</td>\n",
       "      <td>Motorcycle</td>\n",
       "      <td>NaN</td>\n",
       "      <td>0</td>\n",
       "      <td>False</td>\n",
       "      <td>False</td>\n",
       "      <td>4.0</td>\n",
       "      <td>NaN</td>\n",
       "      <td>12</td>\n",
       "      <td>NaN</td>\n",
       "      <td>NaN</td>\n",
       "    </tr>\n",
       "    <tr>\n",
       "      <th>3</th>\n",
       "      <td>Llaqta_1</td>\n",
       "      <td>MA_4</td>\n",
       "      <td>2023-06-27 00:00:00</td>\n",
       "      <td>Tuesday</td>\n",
       "      <td>405</td>\n",
       "      <td>95.31 %</td>\n",
       "      <td>cc-N/A</td>\n",
       "      <td>13.061728</td>\n",
       "      <td>1.0</td>\n",
       "      <td>Maule</td>\n",
       "      <td>Lider</td>\n",
       "      <td>NaN</td>\n",
       "      <td>0.0</td>\n",
       "      <td>NaN</td>\n",
       "      <td>NaN</td>\n",
       "      <td>NaN</td>\n",
       "      <td>0</td>\n",
       "      <td>True</td>\n",
       "      <td>True</td>\n",
       "      <td>2.0</td>\n",
       "      <td>NaN</td>\n",
       "      <td>13</td>\n",
       "      <td>NaN</td>\n",
       "      <td>NaN</td>\n",
       "    </tr>\n",
       "    <tr>\n",
       "      <th>4</th>\n",
       "      <td>Llaqta_1</td>\n",
       "      <td>MA_1</td>\n",
       "      <td>2023-06-27 00:00:00</td>\n",
       "      <td>Tuesday</td>\n",
       "      <td>455</td>\n",
       "      <td>96.92 %</td>\n",
       "      <td>cc-N/A</td>\n",
       "      <td>36.740741</td>\n",
       "      <td>3.0</td>\n",
       "      <td>Maule</td>\n",
       "      <td>Jardineria teresa jacqueline huenun espinoza</td>\n",
       "      <td>NaN</td>\n",
       "      <td>0.0</td>\n",
       "      <td>NaN</td>\n",
       "      <td>Motorcycle</td>\n",
       "      <td>E-commerce</td>\n",
       "      <td>0</td>\n",
       "      <td>True</td>\n",
       "      <td>True</td>\n",
       "      <td>4.0</td>\n",
       "      <td>NaN</td>\n",
       "      <td>13</td>\n",
       "      <td>NaN</td>\n",
       "      <td>NaN</td>\n",
       "    </tr>\n",
       "  </tbody>\n",
       "</table>\n",
       "</div>"
      ],
      "text/plain": [
       "    country district_name                 date  weekday  user_total_orders  \\\n",
       "0  Llaqta_1          MA_1  2023-06-30 00:00:00   Friday                111   \n",
       "1  Llaqta_1          MA_2  2023-06-27 00:00:00  Tuesday                  4   \n",
       "2  Llaqta_1          MA_3  2023-06-27 00:00:00  Tuesday                208   \n",
       "3  Llaqta_1          MA_4  2023-06-27 00:00:00  Tuesday                405   \n",
       "4  Llaqta_1          MA_1  2023-06-27 00:00:00  Tuesday                455   \n",
       "\n",
       "  % completed orders user payment_method  order_value  item_count   city  \\\n",
       "0                 95.50 %      revol_pay    25.407407         2.0  Maule   \n",
       "1                 50.00 %         cc-N/A    43.049383         1.0  Maule   \n",
       "2                 99.04 %      cc-credit   119.438889        11.0  Maule   \n",
       "3                 95.31 %         cc-N/A    13.061728         1.0  Maule   \n",
       "4                 96.92 %         cc-N/A    36.740741         3.0  Maule   \n",
       "\n",
       "                                        partner  picking_time  cashier_time  \\\n",
       "0                          Botillería Echenique           NaN       14187.0   \n",
       "1                             SOLOROSASYALGOMAS           2.0           0.0   \n",
       "2                                         Jumbo           8.0          12.0   \n",
       "3                                         Lider           NaN           0.0   \n",
       "4  Jardineria teresa jacqueline huenun espinoza           NaN           0.0   \n",
       "\n",
       "   requesting_transport_time vehicle_type store_category  out_of_stock  \\\n",
       "0                        NaN      Bicycle   Licours Shop             0   \n",
       "1                        NaN   Motorcycle     E-commerce             0   \n",
       "2                        1.0   Motorcycle            NaN             0   \n",
       "3                        NaN          NaN            NaN             0   \n",
       "4                        NaN   Motorcycle     E-commerce             0   \n",
       "\n",
       "   order_wrong  tag_cancel  distance_km use_credit  hora  polygon_size  \\\n",
       "0        False       False          2.0        NaN    23           NaN   \n",
       "1         True        True          3.0        NaN     0           NaN   \n",
       "2        False       False          4.0        NaN    12           NaN   \n",
       "3         True        True          2.0        NaN    13           NaN   \n",
       "4         True        True          4.0        NaN    13           NaN   \n",
       "\n",
       "   cashback  \n",
       "0       NaN  \n",
       "1       NaN  \n",
       "2       NaN  \n",
       "3       NaN  \n",
       "4       NaN  "
      ]
     },
     "execution_count": 56,
     "metadata": {},
     "output_type": "execute_result"
    }
   ],
   "source": [
    "df.head()"
   ]
  },
  {
   "cell_type": "code",
   "execution_count": 58,
   "id": "b41660de",
   "metadata": {},
   "outputs": [],
   "source": [
    "df.to_csv('.//ml_dlv_1'+'.csv',index=False)"
   ]
  },
  {
   "cell_type": "markdown",
   "id": "pWr9srVJhS-G",
   "metadata": {
    "id": "pWr9srVJhS-G"
   },
   "source": [
    "The variables ORDER_ID and DATE are being dropped since these data  is most useful in traceability than predictibility"
   ]
  },
  {
   "cell_type": "code",
   "execution_count": null,
   "id": "abb65b27-4703-4c39-98ef-9942e85e28aa",
   "metadata": {
    "id": "b345f0fc"
   },
   "outputs": [],
   "source": [
    "#Dropping unecessary columns\n",
    "df.drop(['date'], axis= 1,inplace= True)"
   ]
  },
  {
   "cell_type": "markdown",
   "id": "81e812a6-3cf7-4b3b-9eed-ddd0cd544da8",
   "metadata": {},
   "source": [
    "# DELIVERY APP "
   ]
  },
  {
   "cell_type": "markdown",
   "id": "ad197cd6-fba7-48b4-b59d-35520090aafc",
   "metadata": {},
   "source": [
    "## Preview"
   ]
  },
  {
   "cell_type": "markdown",
   "id": "j_P-t7xyhjBK",
   "metadata": {
    "id": "j_P-t7xyhjBK"
   },
   "source": [
    "The data checked present a lot of variables with blank data. The next strategies are going to be implemented on the data:\n",
    "\n",
    "+ Imputing the mean or mode value for the blank values: For the variables  'STORE_CATEGORY','VEHICLE_TYPE' Since, in this categories,the is an actual probability that the values are related to the median or mode.\n",
    "+ Drop rows of the null values: 'LAT','LNG','POLYGON_SIZE'. The number of rows are low and can be dropped.\n",
    "+ Put the fixed value 'FALSE' in 'USE_CREDIT': Since this is a boolean variable, and the blanks values mean False\n",
    "+ Put the fixed value of 0: For the variables T04,T05,T06, and rappi_amount because these variabkes are time variables and currency, in which if they don't have value means that for that field, it doesn't apply the variable.\n",
    "+ Finally, the variable % completed orders is in varchar and is going to be changed to decimal value"
   ]
  },
  {
   "cell_type": "code",
   "execution_count": 1,
   "id": "e7aeb682-d853-4a17-bd83-4528aa3be108",
   "metadata": {
    "tags": []
   },
   "outputs": [],
   "source": [
    "# Importing libraries\n",
    "import pandas as pd\n",
    "import numpy as np\n",
    "import seaborn as sns\n",
    "import matplotlib.pyplot as plt"
   ]
  },
  {
   "cell_type": "code",
   "execution_count": 4,
   "id": "69e39bfd-3639-4de9-9ba7-4dfe66e69785",
   "metadata": {
    "tags": []
   },
   "outputs": [],
   "source": [
    "# @hidden_cell\n",
    "delivery = pd.read_csv('.//ml_dlv_1.csv')"
   ]
  },
  {
   "cell_type": "markdown",
   "id": "08cfb0cb-9757-4ce5-bcab-c5b3dfd67ff3",
   "metadata": {},
   "source": [
    "| Field | Concept |\n",
    "|------|------|\n",
    "| country  | There are going to three countries in the dataset |\n",
    "|district_name|Name of the village in the city|\n",
    "|date|day when the order was commanded|\n",
    "|weekday|name of the day when the order was commanded|\n",
    "|user_total_orders|number of previous orders that the client had ordered before|\n",
    "|completed orders user|Percentage of the orders that actually were well delivered to the client|\n",
    "|payment_method|Defines the way in which the client pays for the order|\n",
    "|order_value|value of the order|\n",
    "|item_count|number of elements that the basket of the order have|\n",
    "|city|location of the order|\n",
    "|partner|Store or brand that provided the items requested by the client|\n",
    "|picking_time|Lead  time that the clerk takes to gather all the items of the order. |\n",
    "|cashier_time|Time take by the cashier to generate the bill|\n",
    "|requesting_transport_time|Time that the clerk takes to ask for a courier to pick up the basket.|\n",
    "|vehicle_type|Type of vehicle that the courier have|\n",
    "|store_category|Macro classification of the partner|\n",
    "|out_of_stock|Number of elements that were reported to be out of stock in the store.|\n",
    "|order_wrong|Indicades if the order was sucessfully delivered or not|\n",
    "|tag_cancel|Indicades if the order was cancelled or not.|\n",
    "|distance_km|Total number of km that the delivery had from the partner to the client|\n",
    "|use_credit|Indicades if the order was payed with some promotion code|\n",
    "|hora|Have the hour in which the order was issued|\n",
    "|polygon_size|Defines the km of coverage of the partner|\n",
    "|cashback|Provides the total amount of promotion code value in possess of the client|\n",
    "\n"
   ]
  },
  {
   "cell_type": "code",
   "execution_count": 3,
   "id": "5f0442dc-fcc7-4af8-8e8a-3141006b9848",
   "metadata": {
    "tags": []
   },
   "outputs": [
    {
     "data": {
      "text/html": [
       "<div>\n",
       "<style scoped>\n",
       "    .dataframe tbody tr th:only-of-type {\n",
       "        vertical-align: middle;\n",
       "    }\n",
       "\n",
       "    .dataframe tbody tr th {\n",
       "        vertical-align: top;\n",
       "    }\n",
       "\n",
       "    .dataframe thead th {\n",
       "        text-align: right;\n",
       "    }\n",
       "</style>\n",
       "<table border=\"1\" class=\"dataframe\">\n",
       "  <thead>\n",
       "    <tr style=\"text-align: right;\">\n",
       "      <th></th>\n",
       "      <th>country</th>\n",
       "      <th>district_name</th>\n",
       "      <th>date</th>\n",
       "      <th>weekday</th>\n",
       "      <th>user_total_orders</th>\n",
       "      <th>% completed orders user</th>\n",
       "      <th>payment_method</th>\n",
       "      <th>order_value</th>\n",
       "      <th>item_count</th>\n",
       "      <th>city</th>\n",
       "      <th>...</th>\n",
       "      <th>vehicle_type</th>\n",
       "      <th>store_category</th>\n",
       "      <th>out_of_stock</th>\n",
       "      <th>order_wrong</th>\n",
       "      <th>tag_cancel</th>\n",
       "      <th>distance_km</th>\n",
       "      <th>use_credit</th>\n",
       "      <th>hora</th>\n",
       "      <th>polygon_size</th>\n",
       "      <th>cashback</th>\n",
       "    </tr>\n",
       "  </thead>\n",
       "  <tbody>\n",
       "    <tr>\n",
       "      <th>0</th>\n",
       "      <td>Llaqta_1</td>\n",
       "      <td>MA_1</td>\n",
       "      <td>2023-06-30 00:00:00</td>\n",
       "      <td>Friday</td>\n",
       "      <td>111</td>\n",
       "      <td>95.50 %</td>\n",
       "      <td>revol_pay</td>\n",
       "      <td>25.407407</td>\n",
       "      <td>2.0</td>\n",
       "      <td>Maule</td>\n",
       "      <td>...</td>\n",
       "      <td>Bicycle</td>\n",
       "      <td>Licours Shop</td>\n",
       "      <td>0</td>\n",
       "      <td>False</td>\n",
       "      <td>False</td>\n",
       "      <td>2.0</td>\n",
       "      <td>NaN</td>\n",
       "      <td>23</td>\n",
       "      <td>NaN</td>\n",
       "      <td>NaN</td>\n",
       "    </tr>\n",
       "    <tr>\n",
       "      <th>1</th>\n",
       "      <td>Llaqta_1</td>\n",
       "      <td>MA_2</td>\n",
       "      <td>2023-06-27 00:00:00</td>\n",
       "      <td>Tuesday</td>\n",
       "      <td>4</td>\n",
       "      <td>50.00 %</td>\n",
       "      <td>cc-N/A</td>\n",
       "      <td>43.049383</td>\n",
       "      <td>1.0</td>\n",
       "      <td>Maule</td>\n",
       "      <td>...</td>\n",
       "      <td>Motorcycle</td>\n",
       "      <td>E-commerce</td>\n",
       "      <td>0</td>\n",
       "      <td>True</td>\n",
       "      <td>True</td>\n",
       "      <td>3.0</td>\n",
       "      <td>NaN</td>\n",
       "      <td>0</td>\n",
       "      <td>NaN</td>\n",
       "      <td>NaN</td>\n",
       "    </tr>\n",
       "    <tr>\n",
       "      <th>2</th>\n",
       "      <td>Llaqta_1</td>\n",
       "      <td>MA_3</td>\n",
       "      <td>2023-06-27 00:00:00</td>\n",
       "      <td>Tuesday</td>\n",
       "      <td>208</td>\n",
       "      <td>99.04 %</td>\n",
       "      <td>cc-credit</td>\n",
       "      <td>119.438889</td>\n",
       "      <td>11.0</td>\n",
       "      <td>Maule</td>\n",
       "      <td>...</td>\n",
       "      <td>Motorcycle</td>\n",
       "      <td>NaN</td>\n",
       "      <td>0</td>\n",
       "      <td>False</td>\n",
       "      <td>False</td>\n",
       "      <td>4.0</td>\n",
       "      <td>NaN</td>\n",
       "      <td>12</td>\n",
       "      <td>NaN</td>\n",
       "      <td>NaN</td>\n",
       "    </tr>\n",
       "  </tbody>\n",
       "</table>\n",
       "<p>3 rows × 24 columns</p>\n",
       "</div>"
      ],
      "text/plain": [
       "    country district_name                 date  weekday  user_total_orders  \\\n",
       "0  Llaqta_1          MA_1  2023-06-30 00:00:00   Friday                111   \n",
       "1  Llaqta_1          MA_2  2023-06-27 00:00:00  Tuesday                  4   \n",
       "2  Llaqta_1          MA_3  2023-06-27 00:00:00  Tuesday                208   \n",
       "\n",
       "  % completed orders user payment_method  order_value  item_count   city  ...  \\\n",
       "0                 95.50 %      revol_pay    25.407407         2.0  Maule  ...   \n",
       "1                 50.00 %         cc-N/A    43.049383         1.0  Maule  ...   \n",
       "2                 99.04 %      cc-credit   119.438889        11.0  Maule  ...   \n",
       "\n",
       "  vehicle_type  store_category  out_of_stock  order_wrong tag_cancel  \\\n",
       "0      Bicycle    Licours Shop             0        False      False   \n",
       "1   Motorcycle      E-commerce             0         True       True   \n",
       "2   Motorcycle             NaN             0        False      False   \n",
       "\n",
       "  distance_km  use_credit  hora  polygon_size  cashback  \n",
       "0         2.0         NaN    23           NaN       NaN  \n",
       "1         3.0         NaN     0           NaN       NaN  \n",
       "2         4.0         NaN    12           NaN       NaN  \n",
       "\n",
       "[3 rows x 24 columns]"
      ]
     },
     "execution_count": 3,
     "metadata": {},
     "output_type": "execute_result"
    }
   ],
   "source": [
    "delivery.head(3)"
   ]
  },
  {
   "cell_type": "code",
   "execution_count": 19,
   "id": "4d909457",
   "metadata": {
    "colab": {
     "base_uri": "https://localhost:8080/"
    },
    "id": "4d909457",
    "outputId": "43ade14f-190a-4b71-d420-bf5b12b91ede"
   },
   "outputs": [
    {
     "data": {
      "text/plain": [
       "country                          0\n",
       "district_name                    0\n",
       "weekday                          0\n",
       "order_id                         0\n",
       "user_total_orders                0\n",
       "% completed orders user          0\n",
       "payment_method                   0\n",
       "order_value                      0\n",
       "item_count                     398\n",
       "city                             0\n",
       "partner                          0\n",
       "lat                              2\n",
       "lng                              2\n",
       "picking_time                 11149\n",
       "cashier_time                  1191\n",
       "requesting_transport_time    30258\n",
       "vehicle_type                   994\n",
       "store_category               18125\n",
       "out_of_stock                     0\n",
       "order_wrong                      0\n",
       "tag_cancel                       0\n",
       "distance_km                      2\n",
       "use_credit                   54448\n",
       "hora                             0\n",
       "polygon_size                   226\n",
       "cashback                     54448\n",
       "dtype: int64"
      ]
     },
     "execution_count": 19,
     "metadata": {},
     "output_type": "execute_result"
    }
   ],
   "source": [
    "# Checking null values\n",
    "df.isnull().sum()"
   ]
  },
  {
   "cell_type": "code",
   "execution_count": 20,
   "id": "a49cd8c9",
   "metadata": {
    "colab": {
     "base_uri": "https://localhost:8080/"
    },
    "id": "a49cd8c9",
    "outputId": "a6d29dc4-33f9-4c9e-ed89-387c8feb570d"
   },
   "outputs": [
    {
     "name": "stdout",
     "output_type": "stream",
     "text": [
      "<class 'pandas.core.frame.DataFrame'>\n",
      "RangeIndex: 62382 entries, 0 to 62381\n",
      "Data columns (total 26 columns):\n",
      " #   Column                     Non-Null Count  Dtype  \n",
      "---  ------                     --------------  -----  \n",
      " 0   country                    62382 non-null  object \n",
      " 1   district_name              62382 non-null  object \n",
      " 2   weekday                    62382 non-null  object \n",
      " 3   order_id                   62382 non-null  int64  \n",
      " 4   user_total_orders          62382 non-null  int64  \n",
      " 5   % completed orders user    62382 non-null  object \n",
      " 6   payment_method             62382 non-null  object \n",
      " 7   order_value                62382 non-null  float64\n",
      " 8   item_count                 61984 non-null  float64\n",
      " 9   city                       62382 non-null  object \n",
      " 10  partner                    62382 non-null  object \n",
      " 11  lat                        62380 non-null  float64\n",
      " 12  lng                        62380 non-null  float64\n",
      " 13  picking_time               51233 non-null  float64\n",
      " 14  cashier_time               61191 non-null  float64\n",
      " 15  requesting_transport_time  32124 non-null  float64\n",
      " 16  vehicle_type               61388 non-null  object \n",
      " 17  store_category             44257 non-null  object \n",
      " 18  out_of_stock               62382 non-null  int64  \n",
      " 19  order_wrong                62382 non-null  bool   \n",
      " 20  tag_cancel                 62382 non-null  bool   \n",
      " 21  distance_km                62380 non-null  float64\n",
      " 22  use_credit                 7934 non-null   object \n",
      " 23  hora                       62382 non-null  int64  \n",
      " 24  polygon_size               62156 non-null  float64\n",
      " 25  cashback                   7934 non-null   float64\n",
      "dtypes: bool(2), float64(10), int64(4), object(10)\n",
      "memory usage: 11.5+ MB\n"
     ]
    }
   ],
   "source": [
    "df.info()"
   ]
  },
  {
   "cell_type": "code",
   "execution_count": 21,
   "id": "2e90ef84",
   "metadata": {
    "colab": {
     "base_uri": "https://localhost:8080/"
    },
    "id": "2e90ef84",
    "outputId": "cc4b0b35-8b05-42eb-d202-ba81070badb2"
   },
   "outputs": [
    {
     "name": "stdout",
     "output_type": "stream",
     "text": [
      "<class 'pandas.core.frame.DataFrame'>\n",
      "RangeIndex: 62382 entries, 0 to 62381\n",
      "Data columns (total 4 columns):\n",
      " #   Column          Non-Null Count  Dtype  \n",
      "---  ------          --------------  -----  \n",
      " 0   vehicle_type    61388 non-null  object \n",
      " 1   store_category  44257 non-null  object \n",
      " 2   distance_km     62380 non-null  float64\n",
      " 3   out_of_stock    62382 non-null  int64  \n",
      "dtypes: float64(1), int64(1), object(2)\n",
      "memory usage: 1.9+ MB\n"
     ]
    }
   ],
   "source": [
    "df[['vehicle_type', 'store_category', 'distance_km', 'out_of_stock']].info()"
   ]
  },
  {
   "cell_type": "code",
   "execution_count": 22,
   "id": "4a688ba9",
   "metadata": {
    "id": "4a688ba9"
   },
   "outputs": [],
   "source": [
    "# Removing % label\n",
    "df['% completed orders user']=df['% completed orders user'].str.replace('%',' ')\n",
    "\n",
    "df['% completed orders user']=df['% completed orders user'].astype('float')\n",
    "df['% completed orders user']=df['% completed orders user']/100\n"
   ]
  },
  {
   "cell_type": "code",
   "execution_count": 23,
   "id": "MgiW6B7J4J0p",
   "metadata": {
    "colab": {
     "base_uri": "https://localhost:8080/"
    },
    "id": "MgiW6B7J4J0p",
    "outputId": "b2e20ad5-5ad2-43a8-a657-821a86b866f5"
   },
   "outputs": [
    {
     "name": "stdout",
     "output_type": "stream",
     "text": [
      "<class 'pandas.core.frame.DataFrame'>\n",
      "RangeIndex: 62382 entries, 0 to 62381\n",
      "Data columns (total 1 columns):\n",
      " #   Column                   Non-Null Count  Dtype  \n",
      "---  ------                   --------------  -----  \n",
      " 0   % completed orders user  62382 non-null  float64\n",
      "dtypes: float64(1)\n",
      "memory usage: 487.5 KB\n"
     ]
    }
   ],
   "source": [
    "df[['% completed orders user']].info()"
   ]
  },
  {
   "cell_type": "code",
   "execution_count": 24,
   "id": "fdde55dd",
   "metadata": {
    "id": "fdde55dd"
   },
   "outputs": [],
   "source": [
    "# Remove missing values\n",
    "df.dropna(subset=['lat','lng','vehicle_type'],inplace=True)\n",
    "\n"
   ]
  },
  {
   "cell_type": "code",
   "execution_count": 25,
   "id": "TnWu4NDLqX4y",
   "metadata": {
    "id": "TnWu4NDLqX4y"
   },
   "outputs": [],
   "source": [
    "#Imputing values of mode and mean for the variables\n",
    "\n",
    "mode_ps = df['polygon_size'].mode()[0]\n",
    "df['polygon_size'].fillna(mode_ps, inplace=True)\n"
   ]
  },
  {
   "cell_type": "code",
   "execution_count": 26,
   "id": "9gFYOI6JtXUY",
   "metadata": {
    "id": "9gFYOI6JtXUY"
   },
   "outputs": [],
   "source": [
    "mean_ic = df['item_count'].mean()\n",
    "df['item_count'].fillna(mean_ic, inplace=True)\n",
    "\n"
   ]
  },
  {
   "cell_type": "code",
   "execution_count": 27,
   "id": "VDNTiq8zvmYs",
   "metadata": {
    "id": "VDNTiq8zvmYs"
   },
   "outputs": [],
   "source": [
    "mode_sc = df['store_category'].mode()[0]\n",
    "df['store_category'].fillna(mode_sc, inplace=True)\n"
   ]
  },
  {
   "cell_type": "code",
   "execution_count": 28,
   "id": "0a0f5e1b",
   "metadata": {
    "id": "0a0f5e1b"
   },
   "outputs": [],
   "source": [
    "# Replace missing values\n",
    "df.fillna({'t04_picking_time': 0, 't05_cashier_time': 0, 't06_requesting_rt_time':0, 'rappi_amount':0}, inplace=True)"
   ]
  },
  {
   "cell_type": "code",
   "execution_count": 29,
   "id": "0f78a9f6",
   "metadata": {
    "id": "0f78a9f6"
   },
   "outputs": [],
   "source": [
    "# Replace missing values\n",
    "df.fillna({'use_credit': False},inplace=True)"
   ]
  },
  {
   "cell_type": "code",
   "execution_count": 30,
   "id": "3d2589a5",
   "metadata": {
    "colab": {
     "base_uri": "https://localhost:8080/"
    },
    "id": "3d2589a5",
    "outputId": "4425c91c-1c07-406f-b461-12ac6541bc66"
   },
   "outputs": [
    {
     "ename": "KeyError",
     "evalue": "'order_value_usd'",
     "output_type": "error",
     "traceback": [
      "\u001b[1;31m---------------------------------------------------------------------------\u001b[0m",
      "\u001b[1;31mKeyError\u001b[0m                                  Traceback (most recent call last)",
      "File \u001b[1;32m~\\anaconda3\\Lib\\site-packages\\pandas\\core\\indexes\\base.py:3653\u001b[0m, in \u001b[0;36mIndex.get_loc\u001b[1;34m(self, key)\u001b[0m\n\u001b[0;32m   3652\u001b[0m \u001b[38;5;28;01mtry\u001b[39;00m:\n\u001b[1;32m-> 3653\u001b[0m     \u001b[38;5;28;01mreturn\u001b[39;00m \u001b[38;5;28mself\u001b[39m\u001b[38;5;241m.\u001b[39m_engine\u001b[38;5;241m.\u001b[39mget_loc(casted_key)\n\u001b[0;32m   3654\u001b[0m \u001b[38;5;28;01mexcept\u001b[39;00m \u001b[38;5;167;01mKeyError\u001b[39;00m \u001b[38;5;28;01mas\u001b[39;00m err:\n",
      "File \u001b[1;32m~\\anaconda3\\Lib\\site-packages\\pandas\\_libs\\index.pyx:147\u001b[0m, in \u001b[0;36mpandas._libs.index.IndexEngine.get_loc\u001b[1;34m()\u001b[0m\n",
      "File \u001b[1;32m~\\anaconda3\\Lib\\site-packages\\pandas\\_libs\\index.pyx:176\u001b[0m, in \u001b[0;36mpandas._libs.index.IndexEngine.get_loc\u001b[1;34m()\u001b[0m\n",
      "File \u001b[1;32mpandas\\_libs\\hashtable_class_helper.pxi:7080\u001b[0m, in \u001b[0;36mpandas._libs.hashtable.PyObjectHashTable.get_item\u001b[1;34m()\u001b[0m\n",
      "File \u001b[1;32mpandas\\_libs\\hashtable_class_helper.pxi:7088\u001b[0m, in \u001b[0;36mpandas._libs.hashtable.PyObjectHashTable.get_item\u001b[1;34m()\u001b[0m\n",
      "\u001b[1;31mKeyError\u001b[0m: 'order_value_usd'",
      "\nThe above exception was the direct cause of the following exception:\n",
      "\u001b[1;31mKeyError\u001b[0m                                  Traceback (most recent call last)",
      "Cell \u001b[1;32mIn[30], line 2\u001b[0m\n\u001b[0;32m      1\u001b[0m \u001b[38;5;66;03m#$0 could be relate to bad order\u001b[39;00m\n\u001b[1;32m----> 2\u001b[0m zero_count \u001b[38;5;241m=\u001b[39m (df[\u001b[38;5;124m'\u001b[39m\u001b[38;5;124morder_value_usd\u001b[39m\u001b[38;5;124m'\u001b[39m] \u001b[38;5;241m==\u001b[39m \u001b[38;5;241m0\u001b[39m)\u001b[38;5;241m.\u001b[39msum()\n\u001b[0;32m      3\u001b[0m \u001b[38;5;28mprint\u001b[39m(zero_count)\n",
      "File \u001b[1;32m~\\anaconda3\\Lib\\site-packages\\pandas\\core\\frame.py:3761\u001b[0m, in \u001b[0;36mDataFrame.__getitem__\u001b[1;34m(self, key)\u001b[0m\n\u001b[0;32m   3759\u001b[0m \u001b[38;5;28;01mif\u001b[39;00m \u001b[38;5;28mself\u001b[39m\u001b[38;5;241m.\u001b[39mcolumns\u001b[38;5;241m.\u001b[39mnlevels \u001b[38;5;241m>\u001b[39m \u001b[38;5;241m1\u001b[39m:\n\u001b[0;32m   3760\u001b[0m     \u001b[38;5;28;01mreturn\u001b[39;00m \u001b[38;5;28mself\u001b[39m\u001b[38;5;241m.\u001b[39m_getitem_multilevel(key)\n\u001b[1;32m-> 3761\u001b[0m indexer \u001b[38;5;241m=\u001b[39m \u001b[38;5;28mself\u001b[39m\u001b[38;5;241m.\u001b[39mcolumns\u001b[38;5;241m.\u001b[39mget_loc(key)\n\u001b[0;32m   3762\u001b[0m \u001b[38;5;28;01mif\u001b[39;00m is_integer(indexer):\n\u001b[0;32m   3763\u001b[0m     indexer \u001b[38;5;241m=\u001b[39m [indexer]\n",
      "File \u001b[1;32m~\\anaconda3\\Lib\\site-packages\\pandas\\core\\indexes\\base.py:3655\u001b[0m, in \u001b[0;36mIndex.get_loc\u001b[1;34m(self, key)\u001b[0m\n\u001b[0;32m   3653\u001b[0m     \u001b[38;5;28;01mreturn\u001b[39;00m \u001b[38;5;28mself\u001b[39m\u001b[38;5;241m.\u001b[39m_engine\u001b[38;5;241m.\u001b[39mget_loc(casted_key)\n\u001b[0;32m   3654\u001b[0m \u001b[38;5;28;01mexcept\u001b[39;00m \u001b[38;5;167;01mKeyError\u001b[39;00m \u001b[38;5;28;01mas\u001b[39;00m err:\n\u001b[1;32m-> 3655\u001b[0m     \u001b[38;5;28;01mraise\u001b[39;00m \u001b[38;5;167;01mKeyError\u001b[39;00m(key) \u001b[38;5;28;01mfrom\u001b[39;00m \u001b[38;5;21;01merr\u001b[39;00m\n\u001b[0;32m   3656\u001b[0m \u001b[38;5;28;01mexcept\u001b[39;00m \u001b[38;5;167;01mTypeError\u001b[39;00m:\n\u001b[0;32m   3657\u001b[0m     \u001b[38;5;66;03m# If we have a listlike key, _check_indexing_error will raise\u001b[39;00m\n\u001b[0;32m   3658\u001b[0m     \u001b[38;5;66;03m#  InvalidIndexError. Otherwise we fall through and re-raise\u001b[39;00m\n\u001b[0;32m   3659\u001b[0m     \u001b[38;5;66;03m#  the TypeError.\u001b[39;00m\n\u001b[0;32m   3660\u001b[0m     \u001b[38;5;28mself\u001b[39m\u001b[38;5;241m.\u001b[39m_check_indexing_error(key)\n",
      "\u001b[1;31mKeyError\u001b[0m: 'order_value_usd'"
     ]
    }
   ],
   "source": [
    "#$0 could be relate to bad order\n",
    "zero_count = (df['order_value_usd'] == 0).sum()\n",
    "print(zero_count)"
   ]
  },
  {
   "cell_type": "code",
   "execution_count": null,
   "id": "eeed3c0e",
   "metadata": {
    "colab": {
     "base_uri": "https://localhost:8080/"
    },
    "id": "eeed3c0e",
    "outputId": "aea1cf6c-64c4-489b-be54-9c070e444764"
   },
   "outputs": [],
   "source": [
    "# Check duplicate values\n",
    "dup_value = df.duplicated().sum()\n",
    "print(dup_value)"
   ]
  },
  {
   "cell_type": "code",
   "execution_count": null,
   "id": "ITbvK_bRvt_G",
   "metadata": {
    "colab": {
     "base_uri": "https://localhost:8080/"
    },
    "id": "ITbvK_bRvt_G",
    "outputId": "9cda9ae6-bc82-4a3c-a89f-bd681c202b76"
   },
   "outputs": [],
   "source": [
    "\n",
    "df.isnull().sum()"
   ]
  },
  {
   "cell_type": "code",
   "execution_count": null,
   "id": "a6f25443",
   "metadata": {
    "colab": {
     "base_uri": "https://localhost:8080/",
     "height": 337
    },
    "id": "a6f25443",
    "outputId": "5e4f76a0-ca18-468d-9097-04d670449512"
   },
   "outputs": [],
   "source": [
    "df.describe()"
   ]
  },
  {
   "cell_type": "code",
   "execution_count": null,
   "id": "HcbM-FWT3mRy",
   "metadata": {
    "colab": {
     "base_uri": "https://localhost:8080/",
     "height": 382
    },
    "id": "HcbM-FWT3mRy",
    "outputId": "7b788859-7363-4f79-cabe-e6f9143717c0"
   },
   "outputs": [],
   "source": [
    "df.head()"
   ]
  },
  {
   "cell_type": "code",
   "execution_count": null,
   "id": "YFNWGwR70dD_",
   "metadata": {
    "id": "YFNWGwR70dD_"
   },
   "outputs": [],
   "source": [
    "# Removing negative values\n",
    "negative_cols = ['user_total_orders', 'item_count', 't04_picking_time', 't05_cashier_time', 't06_requesting_rt_time',\n",
    "                 'out_of_stock', 'distance_km', 'hora', 'polygon_size', 'rappi_amount']\n",
    "\n",
    "# Create a mask that identifies rows with any negative value in the specified columns\n",
    "negative_mask = df[negative_cols].lt(0).any(axis=1)\n",
    "\n",
    "# Use the mask to filter out rows with negative values\n",
    "df1 = df[~negative_mask]"
   ]
  },
  {
   "cell_type": "code",
   "execution_count": null,
   "id": "075c878a",
   "metadata": {
    "id": "075c878a"
   },
   "outputs": [],
   "source": [
    "# Separating quantiative & Categorical variables\n",
    "df_cat = df.select_dtypes(include=['object','bool'])\n",
    "df_quan = df.select_dtypes(exclude=['object','bool'])"
   ]
  },
  {
   "cell_type": "code",
   "execution_count": null,
   "id": "578d0afc",
   "metadata": {
    "colab": {
     "base_uri": "https://localhost:8080/",
     "height": 825
    },
    "id": "578d0afc",
    "outputId": "9c641fe6-9222-48f8-efec-bace87d20362"
   },
   "outputs": [],
   "source": [
    "# Create a heatmap\n",
    "plt.figure(figsize=(10, 8))\n",
    "df_quan_corr = df_quan.corr(method = 'spearman' )\n",
    "ax = sns.heatmap(df_quan_corr, annot=True, cmap='coolwarm', center=0,fmt='.2g',xticklabels='auto', yticklabels='auto',linewidth=.8,cbar_kws={\"shrink\": .8})\n",
    "ax.tick_params(axis='both', which='both', labelsize=8)\n",
    "plt.title(\"Correlation Heatmap\")\n",
    "plt.show()"
   ]
  },
  {
   "cell_type": "code",
   "execution_count": null,
   "id": "fb13e892",
   "metadata": {
    "colab": {
     "base_uri": "https://localhost:8080/",
     "height": 1000
    },
    "id": "fb13e892",
    "outputId": "a75cbf89-f1b5-48e0-e4f8-6357b77dfc7c"
   },
   "outputs": [],
   "source": [
    "# Create a pairplot\n",
    "sns.pairplot(df_quan)"
   ]
  },
  {
   "cell_type": "code",
   "execution_count": null,
   "id": "DydpUVdj3HEK",
   "metadata": {
    "colab": {
     "base_uri": "https://localhost:8080/",
     "height": 1000
    },
    "id": "DydpUVdj3HEK",
    "outputId": "6d8ea6aa-e0b4-4464-9bbf-ff1a06d2bcf3"
   },
   "outputs": [],
   "source": [
    "for col in df_quan.columns:\n",
    "    fig, ax = plt.subplots(1, 2, figsize=(10, 4))\n",
    "\n",
    "    # Histogram\n",
    "    sns.histplot(df_quan[col], kde=True, bins=20, ax=ax[0])\n",
    "    ax[0].set_title(f'Histogram for {col}')\n",
    "    ax[0].set_xlabel(col)\n",
    "    ax[0].set_ylabel('Frequency')\n",
    "\n",
    "    # Box plot\n",
    "    sns.boxplot(x=df_quan[col], ax=ax[1])\n",
    "    ax[1].set_title(f'Boxplot for {col}')\n",
    "    ax[1].set_xlabel(col)\n",
    "\n",
    "    plt.tight_layout()\n",
    "    plt.show()"
   ]
  },
  {
   "cell_type": "code",
   "execution_count": null,
   "id": "3MzrqOjUTry1",
   "metadata": {
    "colab": {
     "base_uri": "https://localhost:8080/"
    },
    "id": "3MzrqOjUTry1",
    "outputId": "7d9acb50-fc98-42ab-8168-9b4edd15a23a"
   },
   "outputs": [],
   "source": [
    "df_quan.columns"
   ]
  },
  {
   "cell_type": "code",
   "execution_count": null,
   "id": "9DckTUvbSDU6",
   "metadata": {
    "colab": {
     "base_uri": "https://localhost:8080/"
    },
    "id": "9DckTUvbSDU6",
    "outputId": "043048d0-eb4b-416f-d8e4-1627ae7da4aa"
   },
   "outputs": [],
   "source": [
    "#Removing outliers for : % completed orders user, picking_time, cashier_time, t_06, polygon size, rapi_amount\n",
    "columns = ['t04_picking_time', 't05_cashier_time',\n",
    "           't06_requesting_rt_time', 'polygon_size', 'rappi_amount']\n",
    "\n",
    "Q1 = df[columns].quantile(0.25)\n",
    "Q3 = df[columns].quantile(0.75)\n",
    "IQR = Q3 - Q1\n",
    "\n",
    "lower_bound = Q1 - 1.5 * IQR\n",
    "upper_bound = Q3 + 1.5 * IQR\n",
    "\n",
    "outliers = pd.DataFrame()\n",
    "for col in columns:\n",
    "    condition = (df[col] < lower_bound[col]) | (df[col] > upper_bound[col])\n",
    "    outliers = pd.concat([outliers, df[condition]], ignore_index=True)\n"
   ]
  },
  {
   "cell_type": "code",
   "execution_count": null,
   "id": "851ee88b",
   "metadata": {
    "colab": {
     "base_uri": "https://localhost:8080/",
     "height": 423
    },
    "id": "851ee88b",
    "outputId": "ae94df23-985b-41a6-c9be-f99a1be8221c"
   },
   "outputs": [],
   "source": [
    "#chi_squared for categorical\n",
    "from scipy.stats import chi2_contingency\n",
    "\n",
    "chi_squared_results = pd.DataFrame(columns=['Variable 1', 'Variable 2', 'Chi-Squared', 'P-Value'])\n",
    "\n",
    "for var1 in df_cat:\n",
    "    for var2 in df_cat:\n",
    "        if var1 != var2:\n",
    "          #if var2 =='bad_order':\n",
    "            contingency_table = pd.crosstab(df[var1], df[var2])\n",
    "\n",
    "            chi2, p, _, _ = chi2_contingency(contingency_table)\n",
    "\n",
    "\n",
    "            new_row = pd.DataFrame({'Variable 1': [var1], 'Variable 2': [var2], 'Chi-Squared': [chi2], 'P-Value': [p]})\n",
    "\n",
    "            chi_squared_results = pd.concat([chi_squared_results, new_row], ignore_index=True)\n",
    "\n",
    "chi_squared_results\n"
   ]
  },
  {
   "cell_type": "code",
   "execution_count": null,
   "id": "2lBB8sKG2Qs6",
   "metadata": {
    "id": "2lBB8sKG2Qs6"
   },
   "outputs": [],
   "source": [
    "#Checking for independance between our outcome bad_order and the categorical variables"
   ]
  },
  {
   "cell_type": "code",
   "execution_count": null,
   "id": "aVISIIh601uN",
   "metadata": {
    "colab": {
     "base_uri": "https://localhost:8080/",
     "height": 537
    },
    "id": "aVISIIh601uN",
    "outputId": "97f08420-5c5a-456b-800d-c935d62e4b04"
   },
   "outputs": [],
   "source": [
    "#chi_squared for categorical\n",
    "from scipy.stats import chi2_contingency\n",
    "\n",
    "chi_squared_results = pd.DataFrame(columns=['Variable', 'Chi-Squared', 'P-Value'])\n",
    "\n",
    "outcome_variable = 'bad_order'\n",
    "\n",
    "for var in df_cat:\n",
    "        if var != outcome_variable:\n",
    "            contingency_table = pd.crosstab(df[outcome_variable], df[var])\n",
    "\n",
    "            chi2, p, _, _ = chi2_contingency(contingency_table)\n",
    "\n",
    "\n",
    "            new_row = pd.DataFrame({'Variable': var, 'Chi-Squared': [chi2], 'P-Value': [p]})\n",
    "\n",
    "            chi_squared_results = pd.concat([chi_squared_results, new_row], ignore_index=True)\n",
    "\n",
    "            if p < 0.05:\n",
    "              print(f\"There is a significant association between {outcome_variable} and {var} (p-value = {p:.2f})\")\n",
    "            else:\n",
    "              print(f\"There is no significant association between {outcome_variable} and {var} (p-value = {p:.2f})\")\n",
    "\n",
    "#H0 there is no relathionship between the variables\n",
    "\n",
    "chi_squared_results\n"
   ]
  },
  {
   "cell_type": "code",
   "execution_count": null,
   "id": "5osM0-AIrvPj",
   "metadata": {
    "id": "5osM0-AIrvPj"
   },
   "outputs": [],
   "source": [
    "#Perfoming ANOVA TEST for mixed categorical and numerical values"
   ]
  },
  {
   "cell_type": "code",
   "execution_count": null,
   "id": "9jwSPeji97v-",
   "metadata": {
    "colab": {
     "base_uri": "https://localhost:8080/"
    },
    "id": "9jwSPeji97v-",
    "outputId": "822d4449-239e-4c23-d69d-e560ce11b5f7"
   },
   "outputs": [],
   "source": [
    "import statsmodels.api as sm\n",
    "from statsmodels.formula.api import ols\n",
    "from statsmodels.stats.anova import anova_lm\n",
    "\n",
    "# List of numerical variables for the ANOVA tests\n",
    "df_cuantitative = ['% completed orders user', 'order_value_usd', 'item_count', 't04_picking_time', 't05_cashier_time', 't06_requesting_rt_time', 'out_of_stock', 'distance_km', 'hora']\n",
    "\n",
    "# Perform ANOVA for numerical variables\n",
    "for num_var in df_cuantitative:\n",
    "    formula = f'{num_var} ~ C(bad_order)'\n",
    "    try:\n",
    "        model = ols(formula, data=df).fit()\n",
    "        anova_table = anova_lm(model)\n",
    "        print(f\"ANOVA table for {num_var} and bad_order:\")\n",
    "        print(anova_table)\n",
    "\n",
    "        p_value = anova_table['PR(>F)'][0]\n",
    "        if p_value < 0.05:\n",
    "            print(f\"There is a significant difference between the means of the groups defined by bad_order for {num_var} (p-value = {p_value:.2f})\")\n",
    "        else:\n",
    "            print(f\"There is no difference between the means of k groups\")\n",
    "\n",
    "        print(\"=\" * 40)\n",
    "\n",
    "    except Exception as e:\n",
    "        print(f\"Error for {num_var} and bad_order: {str(e)}\")\n",
    "\n"
   ]
  },
  {
   "cell_type": "markdown",
   "id": "dXgqGEtQ-pIL",
   "metadata": {
    "id": "dXgqGEtQ-pIL"
   },
   "source": [
    "#"
   ]
  },
  {
   "cell_type": "markdown",
   "id": "EyYjCMcsBDeR",
   "metadata": {
    "id": "EyYjCMcsBDeR"
   },
   "source": [
    "# 4. Machine Learning\n"
   ]
  },
  {
   "cell_type": "code",
   "execution_count": null,
   "id": "n-XcZfCc2sBM",
   "metadata": {
    "colab": {
     "base_uri": "https://localhost:8080/",
     "height": 496
    },
    "id": "n-XcZfCc2sBM",
    "outputId": "f74e815c-4824-46b3-de18-e2883cc07b72"
   },
   "outputs": [],
   "source": [
    "# Feature engineering\n",
    "df_quan"
   ]
  },
  {
   "cell_type": "markdown",
   "id": "GFAECDyYBNrX",
   "metadata": {
    "id": "GFAECDyYBNrX"
   },
   "source": [
    "For this part we are going to start put the data in a standarization and onehot encoding so the data is ready to be inserted in the modeling. For it, we are going to use the Pipeline method"
   ]
  },
  {
   "cell_type": "code",
   "execution_count": null,
   "id": "RiJbeE4aRMk3",
   "metadata": {
    "id": "RiJbeE4aRMk3"
   },
   "outputs": [],
   "source": [
    "from sklearn.base import BaseEstimator, TransformerMixin\n",
    "\n",
    "class VariableSelector(BaseEstimator, TransformerMixin):\n",
    "    def __init__(self,attribute_names):\n",
    "        self.attribute_names = attribute_names\n",
    "\n",
    "    def fit(self, X , y=None):\n",
    "        return self\n",
    "\n",
    "    def transform(self, X):\n",
    "        return X[self.attribute_names]"
   ]
  },
  {
   "cell_type": "code",
   "execution_count": null,
   "id": "8YFs5anrS2fZ",
   "metadata": {
    "id": "8YFs5anrS2fZ"
   },
   "outputs": [],
   "source": [
    "columns_quan = list(df_quan.columns)"
   ]
  },
  {
   "cell_type": "code",
   "execution_count": null,
   "id": "FUdB_49oqFEX",
   "metadata": {
    "colab": {
     "base_uri": "https://localhost:8080/"
    },
    "id": "FUdB_49oqFEX",
    "outputId": "dc53a649-d787-42a7-b711-6a7307bea2ba"
   },
   "outputs": [],
   "source": [
    "columns_quan\n"
   ]
  },
  {
   "cell_type": "code",
   "execution_count": null,
   "id": "Vf0TtPVlCI4s",
   "metadata": {
    "id": "Vf0TtPVlCI4s"
   },
   "outputs": [],
   "source": [
    "#quantitative\n",
    "from sklearn.pipeline import Pipeline\n",
    "from sklearn.preprocessing import StandardScaler\n",
    "\n",
    "quanti_pipeline = Pipeline(\n",
    "    [\n",
    "     ('selector', VariableSelector(columns_quan)),\n",
    "     ('std_scaler', StandardScaler())\n",
    "    ]\n",
    "    )\n",
    "\n"
   ]
  },
  {
   "cell_type": "code",
   "execution_count": null,
   "id": "vr58mI9wPnSb",
   "metadata": {
    "id": "vr58mI9wPnSb"
   },
   "outputs": [],
   "source": [
    "#It is being checked in the case of the categorical variables, which values can be apprved for a OHE method or label encoding\n",
    "\n",
    "df_cat_oh = ['country','payment_method','city','vehicle_type','store_category','use_credit']\n",
    "df_cat_le = ['district_name','brand_group']\n",
    "\n"
   ]
  },
  {
   "cell_type": "code",
   "execution_count": null,
   "id": "Q7ry8PnmuA52",
   "metadata": {
    "id": "Q7ry8PnmuA52"
   },
   "outputs": [],
   "source": [
    "from sklearn.preprocessing import OneHotEncoder as OHE\n",
    "\n",
    "cuali_pipeline_ohe = Pipeline(\n",
    "\n",
    "  [\n",
    "    ('selector',VariableSelector(df_cat_oh)),\n",
    "    ('OHE_columns',OHE(sparse=False))\n",
    "\n",
    "  ]\n",
    "\n",
    ")"
   ]
  },
  {
   "cell_type": "code",
   "execution_count": null,
   "id": "6KzHw1JwwpZW",
   "metadata": {
    "id": "6KzHw1JwwpZW"
   },
   "outputs": [],
   "source": [
    "from sklearn.preprocessing import OrdinalEncoder as OE\n",
    "\n",
    "cuali_pipeline_le =Pipeline(\n",
    "\n",
    "                            [\n",
    "                             ('selector',VariableSelector(df_cat_le)),\n",
    "                             ('LE_columns', OE())\n",
    "                            ]\n",
    "\n",
    ")"
   ]
  },
  {
   "cell_type": "code",
   "execution_count": null,
   "id": "ezXkHJ0jxDWs",
   "metadata": {
    "id": "ezXkHJ0jxDWs"
   },
   "outputs": [],
   "source": [
    "from sklearn.pipeline import FeatureUnion\n",
    "\n",
    "full_pipeline =FeatureUnion(\n",
    "    transformer_list=[\n",
    "        ('num_pipeline', quanti_pipeline),\n",
    "        ('ohe_pipeline',cuali_pipeline_ohe),\n",
    "        ('le_pipeline',cuali_pipeline_le)\n",
    "                      ]\n",
    ")"
   ]
  },
  {
   "cell_type": "markdown",
   "id": "KCKIZ9APyr-3",
   "metadata": {
    "id": "KCKIZ9APyr-3"
   },
   "source": [
    "Once that is defined the Pipeline, to do the adjustements on the data. It is going to be retrieved from the main dataset the y to be predicted\n"
   ]
  },
  {
   "cell_type": "code",
   "execution_count": null,
   "id": "BYIKpwCqzz0a",
   "metadata": {
    "colab": {
     "base_uri": "https://localhost:8080/"
    },
    "id": "BYIKpwCqzz0a",
    "outputId": "897e3ee9-9387-4fee-8655-457e425dec89"
   },
   "outputs": [],
   "source": [
    "x_df = full_pipeline.fit_transform(df)\n"
   ]
  },
  {
   "cell_type": "code",
   "execution_count": null,
   "id": "HrrMSxjb-Oq3",
   "metadata": {
    "id": "HrrMSxjb-Oq3"
   },
   "outputs": [],
   "source": [
    "X = x_df\n",
    "y = df['bad_order']"
   ]
  },
  {
   "cell_type": "code",
   "execution_count": null,
   "id": "sNkdNGhY-WZk",
   "metadata": {
    "id": "sNkdNGhY-WZk"
   },
   "outputs": [],
   "source": [
    "from sklearn.model_selection import train_test_split\n",
    "X_train,X_test,y_train,y_test = train_test_split(X,y, test_size=0.2,random_state=42,shuffle=True,stratify = y)"
   ]
  },
  {
   "cell_type": "markdown",
   "id": "LrARxetXUHiZ",
   "metadata": {
    "id": "LrARxetXUHiZ"
   },
   "source": [
    "Now that we splited our data, we will apply 3 models on our categorical outcome (Logistic regression, Classification Tree, Random Forest)"
   ]
  },
  {
   "cell_type": "markdown",
   "id": "MgqRoeXL98gN",
   "metadata": {
    "id": "MgqRoeXL98gN"
   },
   "source": [
    "+ LOGISTICS REGRESSION"
   ]
  },
  {
   "cell_type": "code",
   "execution_count": null,
   "id": "oKfS9uCnUQ1K",
   "metadata": {
    "colab": {
     "base_uri": "https://localhost:8080/"
    },
    "id": "oKfS9uCnUQ1K",
    "outputId": "d57870aa-ec02-44dc-d1de-58e27dbdc87b"
   },
   "outputs": [],
   "source": [
    "#Logistic Regression Model Fitting\n",
    "\n",
    "from sklearn.linear_model import LogisticRegression\n",
    "logreg = LogisticRegression(penalty = None, solver = 'newton-cholesky')\n",
    "logreg.fit(X_train, y_train)\n",
    "\n",
    "#Predicting the test set results\n",
    "lr_pred = logreg.predict(X_test)"
   ]
  },
  {
   "cell_type": "code",
   "execution_count": null,
   "id": "ZHYqr_e4aFGa",
   "metadata": {
    "colab": {
     "base_uri": "https://localhost:8080/"
    },
    "id": "ZHYqr_e4aFGa",
    "outputId": "e735ed6f-daa8-4861-90c8-ecddb3afea46"
   },
   "outputs": [],
   "source": [
    "#Calculating the accuracy\n",
    "print('Accuracy of Logistic Regression classifier on test set: {:.2f}'.format(logreg.score(X_test, y_test)))"
   ]
  },
  {
   "cell_type": "code",
   "execution_count": null,
   "id": "QXt-103laHKX",
   "metadata": {
    "colab": {
     "base_uri": "https://localhost:8080/"
    },
    "id": "QXt-103laHKX",
    "outputId": "4b68c1b2-fcc9-4ec8-935c-a5d06d77d166"
   },
   "outputs": [],
   "source": [
    "#Checking crossvalidated performance\n",
    "from sklearn.model_selection import cross_val_score\n",
    "cv_score = cross_val_score(logreg, X_test, y_test)\n",
    "print(f\"average cross validated score : {np.mean(cv_score)}\")"
   ]
  },
  {
   "cell_type": "code",
   "execution_count": null,
   "id": "sRyfNy49akb1",
   "metadata": {
    "colab": {
     "base_uri": "https://localhost:8080/",
     "height": 605
    },
    "id": "sRyfNy49akb1",
    "outputId": "c9211f44-275c-4f72-d01c-6317d12ce990"
   },
   "outputs": [],
   "source": [
    "#Logistic Regression model performance with Confusion Matrix\n",
    "from sklearn.metrics import confusion_matrix, classification_report, ConfusionMatrixDisplay\n",
    "confusion_matrix_lr = confusion_matrix(y_test, lr_pred, labels= logreg.classes_)\n",
    "ConfusionMatrixDisplay(confusion_matrix_lr, display_labels = logreg.classes_).plot()\n",
    "print(classification_report(y_test,lr_pred))"
   ]
  },
  {
   "cell_type": "code",
   "execution_count": null,
   "id": "mi95v6wXuWLW",
   "metadata": {
    "colab": {
     "base_uri": "https://localhost:8080/",
     "height": 81
    },
    "id": "mi95v6wXuWLW",
    "outputId": "b19ecd0e-fe2a-489e-cb4a-430da91cd511"
   },
   "outputs": [],
   "source": [
    "from sklearn.metrics import accuracy_score,precision_score,recall_score, f1_score,roc_auc_score,cohen_kappa_score,roc_curve\n",
    "accuracy_lr = accuracy_score(y_test, lr_pred)\n",
    "precision_lr = precision_score(y_test, lr_pred)\n",
    "sensitivity_lr = recall_score(y_test, lr_pred)\n",
    "f1_lr = f1_score(y_test, lr_pred)\n",
    "\n",
    "#ROC Curve\n",
    "lr_pred_prob= logreg.predict_proba(X_test)\n",
    "fpr, tpr, thresholds = roc_curve(y_test, lr_pred_prob[:,1])\n",
    "lr_roc_auc = roc_auc_score(y_test, lr_pred_prob[:,1])\n",
    "\n",
    "\n",
    "result_lr = pd.DataFrame([['Log. reg.',accuracy_lr, precision_lr, sensitivity_lr,f1_lr,lr_roc_auc]], columns=('model','accuracy','precision','sensitivity','f1','roc'))\n",
    "result_lr"
   ]
  },
  {
   "cell_type": "code",
   "execution_count": null,
   "id": "8L9_Uz8F2_Et",
   "metadata": {
    "colab": {
     "base_uri": "https://localhost:8080/",
     "height": 547
    },
    "id": "8L9_Uz8F2_Et",
    "outputId": "f4ef2538-279b-49e8-e6ec-ab92b18129f9"
   },
   "outputs": [],
   "source": [
    "plt.figure(figsize=(8, 6))\n",
    "plt.plot(fpr, tpr, color='blue', lw=2, label=' Logit Regression - ROC curve (area = {:.2f})'.format(lr_roc_auc))\n",
    "plt.plot([0, 1], [0, 1], color='black', lw=2, linestyle='--')\n",
    "plt.xlim([0.0, 1])\n",
    "plt.ylim([0.0, 1])\n",
    "plt.xlabel('False Positive Rate')\n",
    "plt.ylabel('True Positive Rate')\n",
    "plt.legend(loc='lower center')\n",
    "plt.show()"
   ]
  },
  {
   "cell_type": "markdown",
   "id": "BwMG1WEh-J19",
   "metadata": {
    "id": "BwMG1WEh-J19"
   },
   "source": [
    "+ Decision Tree"
   ]
  },
  {
   "cell_type": "code",
   "execution_count": null,
   "id": "Y61JiIaRc-ok",
   "metadata": {
    "id": "Y61JiIaRc-ok"
   },
   "outputs": [],
   "source": [
    "#Classification Tree Model Fitting\n",
    "\n",
    "from sklearn.tree import DecisionTreeClassifier\n",
    "# Initializing Decision Tree classifer object\n",
    "clf = DecisionTreeClassifier()\n",
    "\n",
    "# Train Decision Tree Classifer\n",
    "clf.fit(X_train,y_train)\n",
    "\n",
    "#Predicting on the test set\n",
    "clf_pred = clf.predict(X_test)"
   ]
  },
  {
   "cell_type": "code",
   "execution_count": null,
   "id": "ODs86tWzfBaQ",
   "metadata": {
    "colab": {
     "base_uri": "https://localhost:8080/"
    },
    "id": "ODs86tWzfBaQ",
    "outputId": "587ee7bc-1e66-4e13-a4ec-e19251f222a3"
   },
   "outputs": [],
   "source": [
    "#Calculating the model accuracy, how often is the classifier correct ?\n",
    "from sklearn.metrics import accuracy_score\n",
    "\n",
    "print(\"Accuracy Decision Tree Classifier: {:.2f}\".format(accuracy_score(y_test, clf_pred)))\n"
   ]
  },
  {
   "cell_type": "code",
   "execution_count": null,
   "id": "XsBI-HvQgl-Y",
   "metadata": {
    "colab": {
     "base_uri": "https://localhost:8080/",
     "height": 605
    },
    "id": "XsBI-HvQgl-Y",
    "outputId": "1d6a834a-9106-45eb-ffda-7c00f460e39d"
   },
   "outputs": [],
   "source": [
    "#Classification Tree Model performance\n",
    "from sklearn.metrics import confusion_matrix, classification_report, ConfusionMatrixDisplay\n",
    "confusion_matrix_clf = confusion_matrix(y_test, clf_pred, labels = clf.classes_)\n",
    "ConfusionMatrixDisplay(confusion_matrix_clf, display_labels= clf.classes_).plot()\n",
    "print(classification_report(y_test, clf_pred))"
   ]
  },
  {
   "cell_type": "code",
   "execution_count": null,
   "id": "EUylQmhboMdl",
   "metadata": {
    "id": "EUylQmhboMdl"
   },
   "outputs": [],
   "source": [
    "from sklearn.tree import export_graphviz\n",
    "\n",
    "export_graphviz(\n",
    " clf,\n",
    " out_file=(\"order_simple.dot\"),\n",
    " feature_names=None,\n",
    " class_names=None,\n",
    " filled=True,\n",
    ")"
   ]
  },
  {
   "cell_type": "code",
   "execution_count": null,
   "id": "51qc8leCp7HL",
   "metadata": {
    "colab": {
     "base_uri": "https://localhost:8080/"
    },
    "id": "51qc8leCp7HL",
    "outputId": "c44e4b24-fc4d-49b5-ad2e-6265ae063a48"
   },
   "outputs": [],
   "source": [
    "!dot -Tpng hitters_simple.dot -o hitters_simple.png"
   ]
  },
  {
   "cell_type": "code",
   "execution_count": null,
   "id": "Lc8ZBLsQp_C_",
   "metadata": {
    "colab": {
     "base_uri": "https://localhost:8080/",
     "height": 1000
    },
    "id": "Lc8ZBLsQp_C_",
    "outputId": "2cc96b19-d524-401b-86cb-a05fa1c2b3d6"
   },
   "outputs": [],
   "source": [
    "#from IPython.display import Image\n",
    "#Image(\"order_simple.png\")"
   ]
  },
  {
   "cell_type": "code",
   "execution_count": null,
   "id": "P9tFz8LE7lA6",
   "metadata": {
    "colab": {
     "base_uri": "https://localhost:8080/",
     "height": 81
    },
    "id": "P9tFz8LE7lA6",
    "outputId": "064abd2c-2201-4212-c2d9-243621df8726"
   },
   "outputs": [],
   "source": [
    "accuracy_clf = accuracy_score(y_test, clf_pred)\n",
    "precision_clf = precision_score(y_test, clf_pred)\n",
    "sensitivity_clf = recall_score(y_test, clf_pred)\n",
    "f1_clf = f1_score(y_test, clf_pred)\n",
    "\n",
    "\n",
    "#ROC Curve\n",
    "clf_pred_prob= clf.predict_proba(X_test)\n",
    "fpr, tpr, thresholds = roc_curve(y_test, clf_pred_prob[:,1])\n",
    "clf_roc_auc = roc_auc_score(y_test, clf_pred_prob[:,1])\n",
    "\n",
    "\n",
    "result_clf = pd.DataFrame([['decision tree',accuracy_clf, precision_clf, sensitivity_clf,f1_clf,clf_roc_auc]], columns=('model','accuracy','precision','sensitivity','f1','roc'))\n",
    "result_clf"
   ]
  },
  {
   "cell_type": "code",
   "execution_count": null,
   "id": "ELiIc4Kjt72I",
   "metadata": {
    "colab": {
     "base_uri": "https://localhost:8080/",
     "height": 547
    },
    "id": "ELiIc4Kjt72I",
    "outputId": "325ffcf5-f64e-4141-ae4e-a67bd3cf18ae"
   },
   "outputs": [],
   "source": [
    "plt.figure(figsize=(8, 6))\n",
    "plt.plot(fpr, tpr, color='blue', lw=2, label='Tree Dec. -ROC curve (area = {:.2f})'.format(clf_roc_auc))\n",
    "plt.plot([0, 1], [0, 1], color='black', lw=2, linestyle='--')\n",
    "plt.xlim([0.0, 1])\n",
    "plt.ylim([0.0, 1])\n",
    "plt.xlabel('False Positive Rate')\n",
    "plt.ylabel('True Positive Rate')\n",
    "plt.legend(loc='lower center')\n",
    "plt.show()"
   ]
  },
  {
   "cell_type": "markdown",
   "id": "b1BTwI3T_y0h",
   "metadata": {
    "id": "b1BTwI3T_y0h"
   },
   "source": [
    "+ Random Forest"
   ]
  },
  {
   "cell_type": "code",
   "execution_count": null,
   "id": "8JGYuksQisjK",
   "metadata": {
    "id": "8JGYuksQisjK"
   },
   "outputs": [],
   "source": [
    "#Random Forest Model Fitting\n",
    "\n",
    "from sklearn.ensemble import RandomForestClassifier\n",
    "# Initializing Random Forest Classifer object\n",
    "rf = RandomForestClassifier()\n",
    "\n",
    "# Train Random Forest Classifer\n",
    "rf.fit(X_train, y_train)\n",
    "\n",
    "#Predicting on the test set\n",
    "rf_pred = rf.predict(X_test)"
   ]
  },
  {
   "cell_type": "code",
   "execution_count": null,
   "id": "YZ8oAdkWkTpX",
   "metadata": {
    "colab": {
     "base_uri": "https://localhost:8080/"
    },
    "id": "YZ8oAdkWkTpX",
    "outputId": "c3ff737a-5431-48d1-8a91-acf4e6a92edc"
   },
   "outputs": [],
   "source": [
    "#Calculating Random Forest model accuracy\n",
    "accuracy_rf = accuracy_score(y_test, rf_pred)\n",
    "print(\"Accuracy Random Forest Classifier: {:.2f}\".format(accuracy_rf))"
   ]
  },
  {
   "cell_type": "code",
   "execution_count": null,
   "id": "eF4f7xImkbqS",
   "metadata": {
    "colab": {
     "base_uri": "https://localhost:8080/",
     "height": 605
    },
    "id": "eF4f7xImkbqS",
    "outputId": "a3a305cb-befa-4fc7-d8bd-24ee343bbe8b"
   },
   "outputs": [],
   "source": [
    "#Random Forest Classifier model performance\n",
    "confusion_matrix_rf = confusion_matrix(y_test, rf_pred, labels = rf.classes_)\n",
    "ConfusionMatrixDisplay(confusion_matrix_rf, display_labels= rf.classes_).plot()\n",
    "print(classification_report(y_test, rf_pred))"
   ]
  },
  {
   "cell_type": "code",
   "execution_count": null,
   "id": "uWRF0k6z9Ux_",
   "metadata": {
    "colab": {
     "base_uri": "https://localhost:8080/",
     "height": 81
    },
    "id": "uWRF0k6z9Ux_",
    "outputId": "f760f5d2-3bab-427f-f0c0-daad0c065363"
   },
   "outputs": [],
   "source": [
    "accuracy_rf = accuracy_score(y_test, rf_pred)\n",
    "precision_rf = precision_score(y_test, rf_pred)\n",
    "sensitivity_rf = recall_score(y_test, rf_pred)\n",
    "f1_rf = f1_score(y_test, rf_pred)\n",
    "\n",
    "\n",
    "#ROC Curve\n",
    "rf_pred_prob= rf.predict_proba(X_test)\n",
    "fpr, tpr, thresholds = roc_curve(y_test, rf_pred_prob[:,1])\n",
    "rf_roc_auc = roc_auc_score(y_test, rf_pred_prob[:,1])\n",
    "\n",
    "result_rf = pd.DataFrame([['random forest',accuracy_rf, precision_rf, sensitivity_rf,f1_rf,rf_roc_auc]], columns=('model','accuracy','precision','sensitivity','f1','roc'))\n",
    "result_rf"
   ]
  },
  {
   "cell_type": "markdown",
   "id": "GDCwa-rpCZVE",
   "metadata": {
    "id": "GDCwa-rpCZVE"
   },
   "source": [
    "\n",
    "After checking model performance accuracy (counts of correct classification) we can assume that our best model is Random Forest Classifier with 0.93% of correctly predicted predictions\n",
    "\n",
    "\n"
   ]
  },
  {
   "cell_type": "code",
   "execution_count": null,
   "id": "PHFDp0zAu6jO",
   "metadata": {
    "colab": {
     "base_uri": "https://localhost:8080/",
     "height": 547
    },
    "id": "PHFDp0zAu6jO",
    "outputId": "5e6e03be-5e5c-4f44-e1fb-fe950cf2fb2e"
   },
   "outputs": [],
   "source": [
    "plt.figure(figsize=(8, 6))\n",
    "plt.plot(fpr, tpr, color='blue', lw=2, label='Rand. forest -ROC curve (area = {:.2f})'.format(rf_roc_auc))\n",
    "plt.plot([0, 1], [0, 1], color='black', lw=2, linestyle='--')\n",
    "plt.xlim([0.0, 1])\n",
    "plt.ylim([0.0, 1])\n",
    "plt.xlabel('False Positive Rate')\n",
    "plt.ylabel('True Positive Rate')\n",
    "plt.legend(loc='lower center')\n",
    "plt.show()"
   ]
  },
  {
   "cell_type": "code",
   "execution_count": null,
   "id": "nmHDc6Eex3ST",
   "metadata": {
    "colab": {
     "base_uri": "https://localhost:8080/",
     "height": 143
    },
    "id": "nmHDc6Eex3ST",
    "outputId": "b702ff4d-13fc-4430-e77e-7a8c6a0fbaab"
   },
   "outputs": [],
   "source": [
    "resultados = pd.concat([result_lr, result_clf,result_rf], axis=0)\n",
    "resultados"
   ]
  },
  {
   "cell_type": "markdown",
   "id": "jk-Ut73sCyKM",
   "metadata": {
    "id": "jk-Ut73sCyKM"
   },
   "source": [
    "Results:\n",
    "\n",
    "\n",
    "> Metrics\n",
    "\n",
    "+ Overall the accuracy between all the models seems to be high (between 86 and 92%) which meant that the models have been a great deal into predicting if the order was labeled as a good one or bad one.\n",
    "+ Precision: However, for this exercise it is most interesting to predict only the bad orders, to which this metric is most important. As it can be revised, the random forest model is the one with the best result out of the three. Which means that of the total predicted true bad orders, the model have an 86% of good prediction\n",
    "\n",
    "+ Sensitivity: However, all the models had a bad ratio in this metric. This metric indicates that the of all the True orders labeled as bad order, only ;in the best case; was predicted 30% of this cases. To make the model more fit, it will be used the methods for reduce the overfitting of the models.\n"
   ]
  },
  {
   "cell_type": "markdown",
   "id": "_h4JM2cXHEnQ",
   "metadata": {
    "id": "_h4JM2cXHEnQ"
   },
   "source": [
    "# Tuning model"
   ]
  },
  {
   "cell_type": "code",
   "execution_count": null,
   "id": "1bbX2UFaCxSS",
   "metadata": {
    "id": "1bbX2UFaCxSS"
   },
   "outputs": [],
   "source": [
    "\n",
    "\n",
    "estimators = list(range(2, 50, 5))\n",
    "sens_rf_num_estimators = []\n",
    "accu_rf_num_estimators = []\n",
    "\n",
    "for n in estimators:\n",
    "    rf = RandomForestClassifier(n_estimators=n, random_state=42)\n",
    "    rf.fit(X_train, y_train)\n",
    "    y_pred = rf.predict(X_test)\n",
    "    sensitivity_rf = recall_score(y_test, rf_pred)\n",
    "    accuracy_rf = accuracy_score(y_test, rf_pred)\n",
    "\n",
    "    sens_rf_num_estimators.append(sensitivity_rf)\n",
    "    accu_rf_num_estimators.append(accuracy_rf)\n"
   ]
  },
  {
   "cell_type": "code",
   "execution_count": null,
   "id": "0iEoV53AKUGO",
   "metadata": {
    "colab": {
     "base_uri": "https://localhost:8080/",
     "height": 564
    },
    "id": "0iEoV53AKUGO",
    "outputId": "1473a373-bbf4-469e-cc8f-1075eac47fa9"
   },
   "outputs": [],
   "source": [
    "# Plotting the results\n",
    "plt.figure(figsize=(10, 6))\n",
    "plt.plot(estimators, sens_rf_num_estimators, marker='o', linestyle='-', color='b')\n",
    "plt.plot(estimators,accu_rf_num_estimators, marker='x', linestyle='-', color='r')\n",
    "plt.title('Sensitivity vs. Number of Estimators')\n",
    "plt.xlabel('Number of Estimators')\n",
    "plt.ylabel('%')\n",
    "plt.grid(True)\n",
    "plt.show()"
   ]
  },
  {
   "cell_type": "code",
   "execution_count": null,
   "id": "vn02GvzvLL30",
   "metadata": {
    "colab": {
     "base_uri": "https://localhost:8080/",
     "height": 696
    },
    "id": "vn02GvzvLL30",
    "outputId": "c99fa809-9ef5-49e6-ccb0-043bfc90ee13"
   },
   "outputs": [],
   "source": [
    "\n",
    "train_scores = []\n",
    "valid_scores = []\n",
    "leaves = list(range(2,30))\n",
    "for leaf in leaves :\n",
    "    dtr = RandomForestClassifier(min_samples_leaf = leaf)\n",
    "    dtr.fit(X_train, y_train)\n",
    "    train_scores.append(dtr.score(X_train, y_train))\n",
    "    valid_scores.append(dtr.score(X_test, y_test))\n",
    "\n",
    "plt.figure(figsize=(10,8))\n",
    "plt.plot(leaves, train_scores)\n",
    "plt.plot(leaves, valid_scores)\n",
    "plt.xlabel(\"minimum samples per leaf\")\n",
    "plt.ylabel(\"score values\")\n",
    "plt.legend([\"training scores\", \"validation scores\"])\n",
    "plt.show()"
   ]
  },
  {
   "cell_type": "code",
   "execution_count": null,
   "id": "XQI8Wp2DNOt5",
   "metadata": {
    "colab": {
     "base_uri": "https://localhost:8080/",
     "height": 696
    },
    "id": "XQI8Wp2DNOt5",
    "outputId": "4c0b9bf4-66a9-4594-a1d4-7c780003ddef"
   },
   "outputs": [],
   "source": [
    "train_scores = []\n",
    "valid_scores = []\n",
    "depths = list(range(2,40))\n",
    "for depth in depths :\n",
    "    dtr = RandomForestClassifier(max_depth = depth)\n",
    "    dtr.fit(X_train, y_train)\n",
    "    train_scores.append(dtr.score(X_train, y_train))\n",
    "    valid_scores.append(dtr.score(X_test, y_test))\n",
    "\n",
    "plt.figure(figsize=(10,8))\n",
    "plt.plot(depths, train_scores)\n",
    "plt.plot(depths, valid_scores)\n",
    "plt.xlabel(\"maximum depth\")\n",
    "plt.ylabel(\"score values\")\n",
    "plt.legend([\"training scores\", \"validation scores\"])\n",
    "plt.show()"
   ]
  },
  {
   "cell_type": "markdown",
   "id": "67RkAlqNOzyC",
   "metadata": {
    "id": "67RkAlqNOzyC"
   },
   "source": [
    "+ GridSearchCV"
   ]
  },
  {
   "cell_type": "code",
   "execution_count": null,
   "id": "0Yk9dKlYO2mc",
   "metadata": {
    "colab": {
     "base_uri": "https://localhost:8080/",
     "height": 134
    },
    "id": "0Yk9dKlYO2mc",
    "outputId": "82d9dd65-5fa0-4145-a6ee-f599d753dcaa"
   },
   "outputs": [],
   "source": [
    "from sklearn.model_selection import GridSearchCV\n",
    "\n",
    "params = {'max_depth': list(range(2, 15)), 'min_samples_leaf': list(range(2,20))}\n",
    "\n",
    "grid_search_cv = GridSearchCV(RandomForestClassifier(),\n",
    "                              params,\n",
    "                              verbose=1,\n",
    "                              cv=3,\n",
    "                              n_jobs=-1)\n",
    "\n",
    "grid_search_cv.fit(X_train, y_train)"
   ]
  },
  {
   "cell_type": "code",
   "execution_count": null,
   "id": "xD9kqcgUQnNx",
   "metadata": {
    "colab": {
     "base_uri": "https://localhost:8080/",
     "height": 74
    },
    "id": "xD9kqcgUQnNx",
    "outputId": "5e375fb7-bf2b-4c91-f3f6-804f272ea3a5"
   },
   "outputs": [],
   "source": [
    "\n",
    "best_tree_model = grid_search_cv.best_estimator_\n",
    "best_tree_model"
   ]
  },
  {
   "cell_type": "code",
   "execution_count": null,
   "id": "W9hq3JbYQunC",
   "metadata": {
    "colab": {
     "base_uri": "https://localhost:8080/"
    },
    "id": "W9hq3JbYQunC",
    "outputId": "61a41b4a-a6dd-4e1f-cbd2-a5946f1328b8"
   },
   "outputs": [],
   "source": [
    "best_tree_model.fit(X_train,y_train)\n",
    "best_tree_model.score(X_test,y_test)"
   ]
  },
  {
   "cell_type": "code",
   "execution_count": null,
   "id": "JUTjHP8gaJlL",
   "metadata": {
    "id": "JUTjHP8gaJlL"
   },
   "outputs": [],
   "source": [
    "rfo_pred = best_tree_model.predict(X_test)"
   ]
  },
  {
   "cell_type": "code",
   "execution_count": null,
   "id": "ygeK2tDOZAlC",
   "metadata": {
    "id": "ygeK2tDOZAlC"
   },
   "outputs": [],
   "source": [
    "from sklearn.tree import export_graphviz\n",
    "tree_to_visualize = best_tree_model.estimators_[0]\n",
    "\n"
   ]
  },
  {
   "cell_type": "code",
   "execution_count": null,
   "id": "d1VZ6NcShhpE",
   "metadata": {
    "colab": {
     "base_uri": "https://localhost:8080/"
    },
    "id": "d1VZ6NcShhpE",
    "outputId": "50efe939-7656-469b-bbd7-81c4cbd4f22b"
   },
   "outputs": [],
   "source": [
    "from sklearn.tree import export_graphviz\n",
    "import subprocess\n",
    "\n",
    "export_graphviz(\n",
    "    tree_to_visualize,\n",
    "    out_file=\"optimal_tree.dot\",\n",
    "    feature_names=None,\n",
    "    class_names=None,\n",
    "    filled=True\n",
    ")\n",
    "\n",
    "\n",
    "subprocess.call(['dot', '-Tpng', 'optimal_tree.dot', '-o', 'optimal_tree.png'])\n"
   ]
  },
  {
   "cell_type": "code",
   "execution_count": null,
   "id": "_XQGB6DgZN1S",
   "metadata": {
    "colab": {
     "base_uri": "https://localhost:8080/",
     "height": 989
    },
    "id": "_XQGB6DgZN1S",
    "outputId": "ae1df72e-f747-4107-d478-4599200b6220"
   },
   "outputs": [],
   "source": [
    "from IPython.display import Image\n",
    "\n",
    "Image(\"optimal_tree.png\")"
   ]
  },
  {
   "cell_type": "code",
   "execution_count": null,
   "id": "515ZiPm3Z0Ik",
   "metadata": {
    "colab": {
     "base_uri": "https://localhost:8080/",
     "height": 81
    },
    "id": "515ZiPm3Z0Ik",
    "outputId": "6756adb0-c02b-42ba-f05c-07a9028b2925"
   },
   "outputs": [],
   "source": [
    "accuracy_rfo = accuracy_score(y_test, rfo_pred)\n",
    "precision_rfo = precision_score(y_test, rfo_pred)\n",
    "sensitivity_rfo = recall_score(y_test, rfo_pred)\n",
    "f1_rfo = f1_score(y_test, rfo_pred)\n",
    "\n",
    "\n",
    "#ROC Curve\n",
    "rfo_pred_prob= clf.predict_proba(X_test)\n",
    "fpr, tpr, thresholds = roc_curve(y_test, rfo_pred_prob[:,1])\n",
    "rfo_roc_auc = roc_auc_score(y_test, rfo_pred_prob[:,1])\n",
    "\n",
    "result_rfo = pd.DataFrame([['optimal random forest',accuracy_rfo, precision_rfo, sensitivity_rfo,f1_rfo,rfo_roc_auc]], columns=('model','accuracy','precision','sensitivity','f1','roc'))\n",
    "result_rfo"
   ]
  },
  {
   "cell_type": "code",
   "execution_count": null,
   "id": "WKJPsEmHj1Zu",
   "metadata": {
    "colab": {
     "base_uri": "https://localhost:8080/",
     "height": 547
    },
    "id": "WKJPsEmHj1Zu",
    "outputId": "064bd1e2-8a82-47d3-8d38-cc2372ae03f0"
   },
   "outputs": [],
   "source": [
    "plt.figure(figsize=(8, 6))\n",
    "plt.plot(fpr, tpr, color='blue', lw=2, label='Rand. forest -ROC curve (area = {:.2f})'.format(rfo_roc_auc))\n",
    "plt.plot([0, 1], [0, 1], color='black', lw=2, linestyle='--')\n",
    "plt.xlim([0.0, 1])\n",
    "plt.ylim([0.0, 1])\n",
    "plt.xlabel('False Positive Rate')\n",
    "plt.ylabel('True Positive Rate')\n",
    "plt.legend(loc='lower center')\n",
    "plt.show()"
   ]
  },
  {
   "cell_type": "markdown",
   "id": "bL0GKb0PH4Qk",
   "metadata": {
    "id": "bL0GKb0PH4Qk"
   },
   "source": [
    "# Unsupervised Learning"
   ]
  },
  {
   "cell_type": "code",
   "execution_count": null,
   "id": "zT2-ILS2H2RY",
   "metadata": {
    "id": "zT2-ILS2H2RY"
   },
   "outputs": [],
   "source": [
    "'''Importing the needed libraries and getting a basic idea on the df_quant to see what we are looking at'''\n",
    "try:\n",
    "    from fanalysis.pca import PCA\n",
    "except:\n",
    "    !pip install fanalysis\n",
    "    from fanalysis.pca import PCA\n",
    "display(df[df_quan].head(3))\n",
    "display(df[df_quan].info())\n",
    "D = df[df_quan]\n",
    "p = D.shape[1]\n",
    "n = D.shape[0]\n",
    "D = df[df_quan]\n",
    "X = D.values"
   ]
  },
  {
   "cell_type": "code",
   "execution_count": null,
   "id": "65xLXL2hH7T0",
   "metadata": {
    "id": "65xLXL2hH7T0"
   },
   "outputs": [],
   "source": [
    "'''Step 1: Try PCA to reduce dimensionality'''\n",
    "# instantiate acp object form PCA class\n",
    "acp = PCA(std_unit=True,row_labels=D.index,col_labels=D.columns) #std_unit=True, doing standardized PCA)\n",
    "\n",
    "# run PCA on X observed data\n",
    "try:\n",
    "    acp.fit(X)  # This will raise a ZeroDivisionError\n",
    "except Exception as e:\n",
    "    display(f\"An error occurred: {e}\")"
   ]
  },
  {
   "cell_type": "code",
   "execution_count": null,
   "id": "hL0ergXNH-rq",
   "metadata": {
    "colab": {
     "base_uri": "https://localhost:8080/",
     "height": 578
    },
    "id": "hL0ergXNH-rq",
    "outputId": "b1fac967-b45b-4eae-eb6c-06a150a9d8b2"
   },
   "outputs": [],
   "source": [
    "'''Step 2: Trouble shooting the error, which may indicate that there are columns that are zero'''\n",
    "D_corr = D.corr()\n",
    "ax = sns.heatmap(D_corr, annot=True, cmap='coolwarm', center=0,fmt='.1g',xticklabels='auto', yticklabels='auto',linewidth=.8,cbar_kws={\"shrink\": .8})\n",
    "ax.tick_params(axis='both', which='both', labelsize=8)\n",
    "plt.title(\"Correlation Heatmap\")\n",
    "plt.show()"
   ]
  },
  {
   "cell_type": "code",
   "execution_count": null,
   "id": "D4rdcQYyIAV_",
   "metadata": {
    "colab": {
     "base_uri": "https://localhost:8080/",
     "height": 227
    },
    "id": "D4rdcQYyIAV_",
    "outputId": "2f0f8558-a40a-4bfa-8e39-2b369784cdb2"
   },
   "outputs": [],
   "source": [
    "'''\n",
    "Step 3: Issue becomes clear that the 't06_requesting_rt_time' is the problematic one because apparently\n",
    "after data cleaning, all the values we kept are zero, which makes sense given the value means the time it took for\n",
    "a delivery personnel to be assigned to the order, which is expected to be swifty in any delivery app.\n",
    "\n",
    "Solution here: get rid off such column and do it again\n",
    "'''\n",
    "display(D.columns[5])\n",
    "D1 = D.drop(columns = [D.columns[5]])\n",
    "X1 = D1.values\n",
    "p1 = D1.shape[1]\n",
    "n1 = D1.shape[0]\n",
    "acp = PCA(std_unit=True,row_labels=D1.index,col_labels=D1.columns) #std_unit=True, doing standardized PCA)\n",
    "acp.fit(X1)  # This will raise a ZeroDivisionError\n",
    "display(acp.col_labels)\n",
    "display(acp.eig_) # each lamda k is in the first array, and then each lamda k divided by the sum of lamda k\n",
    "#(proportion of variance explained by k),\n",
    "# aka the variance explained by each component, is in the second row.\n",
    "# The third row is the cumulative variance.\n",
    "'''Looking at the cumulative variance, the most variable with the most variance only took 22%\n",
    "of the total variance in the quantitative columns'''\n",
    "display(acp.eig_.shape)"
   ]
  },
  {
   "cell_type": "code",
   "execution_count": null,
   "id": "tT3N4GP4ICl8",
   "metadata": {
    "colab": {
     "base_uri": "https://localhost:8080/",
     "height": 506
    },
    "id": "tT3N4GP4ICl8",
    "outputId": "5343c799-d317-4d92-f9fb-7a4222568d6a"
   },
   "outputs": [],
   "source": [
    "'''Step 4: determining the threshold'''\n",
    "\n",
    "# first the main plot\n",
    "fig, ax = plt.subplots(nrows=1, ncols=2, figsize=(10,5))\n",
    "ax[0].plot(range(1,p1+1),acp.eig_[0],\".-\")\n",
    "ax[0].set_xlabel(\"Nb. of factors\")\n",
    "ax[0].set_ylabel(\"Eigenvalues\")\n",
    "ax[0].set_title(\"Scree Plot\")\n",
    "\n",
    "# add Kaiser's threshold line\n",
    "ax[0].plot([1,p1+3],[1,1],\"r--\",linewidth=1)\n",
    "\n",
    "# print explained variance plot\n",
    "\n",
    "\n",
    "ax[1].plot(range(0,p1+1),np.append(0,acp.eig_[2]),\".-\")\n",
    "ax[1].set_xlabel(\"Nb. of factors\")\n",
    "ax[1].set_ylabel(\"% of explained variance\")\n",
    "ax[1].set_title(\"Explained Variance\")\n",
    "\n",
    "'''According to the plot, I decided to choose 4 as the threshold'''"
   ]
  },
  {
   "cell_type": "code",
   "execution_count": null,
   "id": "Qd1E5ikDIEnB",
   "metadata": {
    "colab": {
     "base_uri": "https://localhost:8080/"
    },
    "id": "Qd1E5ikDIEnB",
    "outputId": "65f125a6-923b-4515-fbac-0f49a11fa709"
   },
   "outputs": [],
   "source": [
    "# Applying Barlett's test of Sphericity\n",
    "try:\n",
    "    from factor_analyzer.factor_analyzer import calculate_bartlett_sphericity\n",
    "except:\n",
    "    !pip install factor_analyzer\n",
    "    from factor_analyzer.factor_analyzer import calculate_bartlett_sphericity\n",
    "\n",
    "chi_square_value, p_value = calculate_bartlett_sphericity(X1)\n",
    "print(chi_square_value, p_value)"
   ]
  },
  {
   "cell_type": "code",
   "execution_count": null,
   "id": "_aofvNUEIGF_",
   "metadata": {
    "colab": {
     "base_uri": "https://localhost:8080/"
    },
    "id": "_aofvNUEIGF_",
    "outputId": "45600f1b-1f1f-42de-c815-16db4b734614"
   },
   "outputs": [],
   "source": [
    "# Computing Karlis-Saporta-Spinaki threshold\n",
    "# impor math package\n",
    "import math\n",
    "\n",
    "#seuil de Karlis-Saporta-Spinaki\n",
    "kss = 1+2*math.sqrt((p1-1)/(n1-1))\n",
    "print(f\"Karlis-Saporta-Spinaki threshold: {kss:.3f}\")"
   ]
  },
  {
   "cell_type": "code",
   "execution_count": null,
   "id": "v0n-b_XwIHPO",
   "metadata": {
    "colab": {
     "base_uri": "https://localhost:8080/",
     "height": 522
    },
    "id": "v0n-b_XwIHPO",
    "outputId": "ba8c38d4-ab7e-4af1-d484-2d655a66f415"
   },
   "outputs": [],
   "source": [
    "# Broken sticks method\n",
    "# threshold for the broken sticks\n",
    "b = np.flip(np.cumsum(1/np.arange(p1,0,-1)))\n",
    "print(f\"thresholds for the broken sticks: {b}\")\n",
    "\n",
    "# plot eigenvalues\n",
    "fig, ax = plt.subplots(figsize=(5,5))\n",
    "ax.plot(range(1,p1+1),acp.eig_[0],\".-\")\n",
    "ax.set_xlabel(\"Nb. if factors\")\n",
    "ax.set_ylabel(\"Eigenvalues\")\n",
    "plt.title(\"Eigenvalues and broken sticks thresholds\")\n",
    "\n",
    "# add broken sticks thresholds\n",
    "ax.plot(range(1,p1+1),b,\"r--\",linewidth=1)\n",
    "\n",
    "plt.show()"
   ]
  },
  {
   "cell_type": "code",
   "execution_count": null,
   "id": "xd0qBlz4IJAZ",
   "metadata": {
    "colab": {
     "base_uri": "https://localhost:8080/"
    },
    "id": "xd0qBlz4IJAZ",
    "outputId": "9cee1568-5a4f-4cd8-8f25-f306f071deb2"
   },
   "outputs": [],
   "source": [
    "'''Step 5: Variable representation'''\n",
    "print(pd.DataFrame(acp.col_coord_[:,:4],index=D1.columns, columns=['F1','F2','F3','F4']))"
   ]
  },
  {
   "cell_type": "code",
   "execution_count": null,
   "id": "RFBQxCfQIKNH",
   "metadata": {
    "colab": {
     "base_uri": "https://localhost:8080/",
     "height": 976
    },
    "id": "RFBQxCfQIKNH",
    "outputId": "c2ff17eb-0563-4db4-a8d5-72fdaaf0f287"
   },
   "outputs": [],
   "source": [
    "# Correlations circle\n",
    "acp.correlation_circle(num_x_axis=1,num_y_axis=2, figsize=(5,5))\n",
    "acp.correlation_circle(num_x_axis=3,num_y_axis=4, figsize=(5,5))\n",
    "'''Interpretation of the two dimensions'''\n",
    "'''Three variables have a quite negative correlation with Dim 1, which are item_count, picking_time\n",
    "and cashier_time. This means the speed the store can get those orders ready, which, unsurprisingly, also partially\n",
    "comes down to the size of the order. There is clearly a size effect in this dimension'''\n",
    "'''Two variables have a quite negative correlation with Dim 2, which are distance_km and order_value_USD. This means\n",
    "that whether the order is cheap and within a shorter distance, most likely being some everyday shopping needs versus\n",
    "some more expensive order traveling a longer distance. This shows a shape effect while Dim 1 shows a size effect'''\n",
    "'''Two variables have a quite strong positive correlation with Dim 3, namely 'hora' which means hour, meaning the\n",
    "time in the day, and 'out_of_stock'. This indicates that this axis talks about a general time variation, since the\n",
    "early an order is placed, the less likely that the specific item a customer wants would be sold out.'''\n",
    "'''The fourth dimension has a very high correlation on '% completed orders user' which could just be interpreted as\n",
    "that specific variable.'''"
   ]
  },
  {
   "cell_type": "code",
   "execution_count": null,
   "id": "HVrt6PUCIL_8",
   "metadata": {
    "colab": {
     "base_uri": "https://localhost:8080/"
    },
    "id": "HVrt6PUCIL_8",
    "outputId": "c9aebe92-b9d6-44d9-9443-ffc4c2cb2914"
   },
   "outputs": [],
   "source": [
    "# Cos² if the variables on the two first factors\n",
    "print(pd.DataFrame(acp.col_cos2_[:,:4],index=D1.columns, columns=['F1','F2','F3','F4']))"
   ]
  },
  {
   "cell_type": "code",
   "execution_count": null,
   "id": "PSfo0AuJINN4",
   "metadata": {
    "colab": {
     "base_uri": "https://localhost:8080/"
    },
    "id": "PSfo0AuJINN4",
    "outputId": "2a0d0adc-2f5a-4ae8-87a6-41b4d9b29c82"
   },
   "outputs": [],
   "source": [
    "# Cumulated Cos² on the two first factors\n",
    "print(pd.DataFrame(np.cumsum(acp.col_cos2_[:,:4],axis=1),index=D1.columns, columns=['F1','F2',\"F3\",'F4']))"
   ]
  },
  {
   "cell_type": "code",
   "execution_count": null,
   "id": "izs5b1QtIOhG",
   "metadata": {
    "colab": {
     "base_uri": "https://localhost:8080/"
    },
    "id": "izs5b1QtIOhG",
    "outputId": "b15eebdb-e917-4b03-b9ad-c71076b15502"
   },
   "outputs": [],
   "source": [
    "# Contributions of each variable on the two first factors (in %)\n",
    "print(pd.DataFrame(acp.col_contrib_[:,:4],index=D1.columns, columns=['F1','F2',\"F3\",'F4']))"
   ]
  },
  {
   "cell_type": "code",
   "execution_count": null,
   "id": "31NL7MMMIPl4",
   "metadata": {
    "colab": {
     "base_uri": "https://localhost:8080/",
     "height": 641
    },
    "id": "31NL7MMMIPl4",
    "outputId": "a49bdb3c-ad0c-41f8-bb6b-a858e5e89cf3"
   },
   "outputs": [],
   "source": [
    "# chart of the individuals\n",
    "acp.mapping_row(num_x_axis=1,num_y_axis=2,figsize=(7,7))"
   ]
  },
  {
   "cell_type": "code",
   "execution_count": null,
   "id": "QgK0z8-UIcRb",
   "metadata": {
    "colab": {
     "base_uri": "https://localhost:8080/",
     "height": 677
    },
    "id": "QgK0z8-UIcRb",
    "outputId": "0b3b658e-df39-4f1b-cd75-b28462d58d6f"
   },
   "outputs": [],
   "source": [
    "# chart of the individuals\n",
    "acp.mapping_row(num_x_axis=3,num_y_axis=4,figsize=(7,7))\n",
    "'''From this factor map, we can see clearly that if we use Dim 3 and Dim 4 as our x1 and x2 axis and plot the data\n",
    "points, there is a CLEAR tendency that different clusters are formed likely due to the variance introduced by\n",
    "different rows, aka different groups of the customers behaving differently'''"
   ]
  },
  {
   "cell_type": "code",
   "execution_count": null,
   "id": "lla2qLkqIeCZ",
   "metadata": {
    "colab": {
     "base_uri": "https://localhost:8080/",
     "height": 206
    },
    "id": "lla2qLkqIeCZ",
    "outputId": "1bd3326c-0ea9-4a53-dfc8-9b6b7d48d5b1"
   },
   "outputs": [],
   "source": [
    "# creating a new data frame with the row coordinates of F1, F2, F3 and F4\n",
    "df_row_coord = pd.DataFrame(np.cumsum(acp.row_coord_[:,:4],axis=1),index=D1.index, columns=['F1','F2','F3',\"F4\"])\n",
    "df_row_coord.head(5)"
   ]
  },
  {
   "cell_type": "code",
   "execution_count": null,
   "id": "4dKx1KNgIfVW",
   "metadata": {
    "colab": {
     "base_uri": "https://localhost:8080/",
     "height": 81
    },
    "id": "4dKx1KNgIfVW",
    "outputId": "81f7f31d-6d44-4aeb-918b-e2bf23a420da"
   },
   "outputs": [],
   "source": [
    "mask = df_row_coord['F1'] == df_row_coord['F1'].min()\n",
    "df_row_coord.loc[df_row_coord[mask].index, :]"
   ]
  },
  {
   "cell_type": "code",
   "execution_count": null,
   "id": "bHklQgomIgcI",
   "metadata": {
    "colab": {
     "base_uri": "https://localhost:8080/",
     "height": 1000
    },
    "id": "bHklQgomIgcI",
    "outputId": "6824da60-8af3-41a0-b5c3-2301963d7d53"
   },
   "outputs": [],
   "source": [
    "'''Clustering'''\n",
    "'''Plotting them one axis by another first'''\n",
    "sns.pairplot(df_row_coord)"
   ]
  },
  {
   "cell_type": "code",
   "execution_count": null,
   "id": "5dPLo-pLFmx9",
   "metadata": {
    "id": "5dPLo-pLFmx9"
   },
   "outputs": [],
   "source": [
    "df_row_coord1 = df_row_coord.copy()\n",
    "if df_row_coord1.shape[0] == y.shape[0]:\n",
    "   df_row_coord1['bad_order'] = y\n",
    "    sns.pairplot(df_row_coord1, hue='bad_order')\n"
   ]
  },
  {
   "cell_type": "code",
   "execution_count": null,
   "id": "YfG4dXgLFu4M",
   "metadata": {
    "id": "YfG4dXgLFu4M"
   },
   "outputs": [],
   "source": [
    "display(df_row_coord.head(3))\n",
    "display(df_row_coord1.head(3))\n",
    "display(df_row_coord1['bad_order'].mean())"
   ]
  },
  {
   "cell_type": "code",
   "execution_count": null,
   "id": "6gx9QBgnF19Z",
   "metadata": {
    "id": "6gx9QBgnF19Z"
   },
   "outputs": [],
   "source": [
    "'''clustering with K-Means'''\n",
    "from sklearn.cluster import KMeans\n",
    "\n",
    "X = df_row_coord.values\n",
    "\n",
    "km = KMeans(n_clusters = 2, init = 'k-means++' , n_init = 10, max_iter = 300, random_state = 0, tol = 0.0001)\n",
    "\n",
    "y_km = km.fit_predict(X)"
   ]
  },
  {
   "cell_type": "code",
   "execution_count": null,
   "id": "U6dRxPNEIjOZ",
   "metadata": {
    "colab": {
     "base_uri": "https://localhost:8080/",
     "height": 34
    },
    "id": "U6dRxPNEIjOZ",
    "outputId": "7cfde84e-a84c-4225-b358-191a2c0bdced"
   },
   "outputs": [],
   "source": [
    "km.labels_\n",
    "from collections import Counter\n",
    "unique_counts = Counter(km.labels_)\n",
    "display(unique_counts)"
   ]
  },
  {
   "cell_type": "code",
   "execution_count": null,
   "id": "ff9VDxz-IkZH",
   "metadata": {
    "colab": {
     "base_uri": "https://localhost:8080/",
     "height": 1000
    },
    "id": "ff9VDxz-IkZH",
    "outputId": "b0839f77-7f7d-45f2-e85e-1ffaf6bdd1a5"
   },
   "outputs": [],
   "source": [
    "#Added the clustering info to the dataframe, but it won't affect the original X since X was done in the front as\n",
    "#X = df_row_coord.values\n",
    "df_row_coord['Y_KMean'] = y_km\n",
    "sns.pairplot(df_row_coord, hue='Y_KMean')"
   ]
  },
  {
   "cell_type": "code",
   "execution_count": null,
   "id": "3Io9kOBgImd1",
   "metadata": {
    "colab": {
     "base_uri": "https://localhost:8080/",
     "height": 245
    },
    "id": "3Io9kOBgImd1",
    "outputId": "ffe020ab-0f9d-40ad-9349-aad1b83d25c3",
    "tags": []
   },
   "outputs": [],
   "source": [
    "from sklearn.cluster import DBSCAN\n",
    "eps_list = [0.2, 0.5, 1, 2, 2.2, 2.5, 2.7, 3, 4, 5]\n",
    "for eps_ in eps_list\n",
    "    DBSCAN_model = DBSCAN(eps = eps_, min_samples=5, metric='euclidean')\n",
    "    DBSCAN_model.fit_predict(X)\n",
    "    y_DBSCAN = DBSCAN_model.labels_\n",
    "    df_row_coord['Y_DBSCAN'] = y_DBSCAN\n",
    "    display(df_row_coord['Y_DBSCAN'].value_counts())\n",
    "    sns.pairplot(df_row_coord.drop(columns = ['Y_KMean']), hue='Y_DBSCAN')"
   ]
  }
 ],
 "metadata": {
  "accelerator": "GPU",
  "colab": {
   "provenance": []
  },
  "kernelspec": {
   "display_name": "Python 3 (ipykernel)",
   "language": "python",
   "name": "python3"
  },
  "language_info": {
   "codemirror_mode": {
    "name": "ipython",
    "version": 3
   },
   "file_extension": ".py",
   "mimetype": "text/x-python",
   "name": "python",
   "nbconvert_exporter": "python",
   "pygments_lexer": "ipython3",
   "version": "3.11.5"
  }
 },
 "nbformat": 4,
 "nbformat_minor": 5
}
