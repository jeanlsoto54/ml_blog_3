{
 "cells": [
  {
   "cell_type": "markdown",
   "id": "81e812a6-3cf7-4b3b-9eed-ddd0cd544da8",
   "metadata": {},
   "source": [
    "# DELIVERY APP "
   ]
  },
  {
   "cell_type": "markdown",
   "id": "ad197cd6-fba7-48b4-b59d-35520090aafc",
   "metadata": {},
   "source": [
    "## 1. Context"
   ]
  },
  {
   "cell_type": "markdown",
   "id": "j_P-t7xyhjBK",
   "metadata": {
    "id": "j_P-t7xyhjBK"
   },
   "source": [
    "The data checked present a lot of variables with blank data. The next strategies are going to be implemented on the data:\n",
    "\n",
    "+ Imputing the mean or mode value for the blank values: For the variables  'STORE_CATEGORY','VEHICLE_TYPE' Since, in this categories,the is an actual probability that the values are related to the median or mode.\n",
    "+ Drop rows of the null values: 'LAT','LNG','POLYGON_SIZE'. The number of rows are low and can be dropped.\n",
    "+ Put the fixed value 'FALSE' in 'USE_CREDIT': Since this is a boolean variable, and the blanks values mean False\n",
    "+ Put the fixed value of 0: For the variables T04,T05,T06, and rappi_amount because these variabkes are time variables and currency, in which if they don't have value means that for that field, it doesn't apply the variable.\n",
    "+ Finally, the variable % completed orders is in varchar and is going to be changed to decimal value"
   ]
  },
  {
   "cell_type": "code",
   "execution_count": 2,
   "id": "a3348f73",
   "metadata": {
    "id": "a3348f73",
    "tags": []
   },
   "outputs": [],
   "source": [
    "# Displaying at least 50 columns\n",
    "pd.set_option('display.max_columns',50)"
   ]
  },
  {
   "cell_type": "code",
   "execution_count": 1,
   "id": "e7aeb682-d853-4a17-bd83-4528aa3be108",
   "metadata": {
    "tags": []
   },
   "outputs": [],
   "source": [
    "# Importing libraries\n",
    "import pandas as pd\n",
    "import numpy as np\n",
    "import seaborn as sns\n",
    "import matplotlib.pyplot as plt"
   ]
  },
  {
   "cell_type": "code",
   "execution_count": 4,
   "id": "69e39bfd-3639-4de9-9ba7-4dfe66e69785",
   "metadata": {
    "tags": []
   },
   "outputs": [],
   "source": [
    "# @hidden_cell\n",
    "delivery = pd.read_csv('.//ml_dlv_1.csv')"
   ]
  },
  {
   "cell_type": "markdown",
   "id": "08cfb0cb-9757-4ce5-bcab-c5b3dfd67ff3",
   "metadata": {},
   "source": [
    "\n",
    "In the next piece of code is going to be presented the data about a company that has as goal to deliver different products to the clients in the countries that it operates. Now it is being defined the fields that are included in the dataset.\n",
    "\n",
    "\n",
    "| Field | Concept |\n",
    "|------|------|\n",
    "| country  | There are going to three countries in the dataset |\n",
    "|district_name|Name of the village in the city|\n",
    "|date|day when the order was commanded|\n",
    "|weekday|name of the day when the order was commanded|\n",
    "|user_total_orders|number of previous orders that the client had ordered before|\n",
    "|completed orders user|Percentage of the orders that actually were well delivered to the client|\n",
    "|payment_method|Defines the way in which the client pays for the order|\n",
    "|order_value|value of the order|\n",
    "|item_count|number of elements that the basket of the order have|\n",
    "|city|location of the order|\n",
    "|partner|Store or brand that provided the items requested by the client|\n",
    "|picking_time|Lead  time that the clerk takes to gather all the items of the order. |\n",
    "|cashier_time|Time take by the cashier to generate the bill|\n",
    "|requesting_transport_time|Time that the clerk takes to ask for a courier to pick up the basket.|\n",
    "|vehicle_type|Type of vehicle that the courier have|\n",
    "|store_category|Macro classification of the partner|\n",
    "|out_of_stock|Number of elements that were reported to be out of stock in the store.|\n",
    "|order_wrong|Indicades if the order was sucessfully delivered or not|\n",
    "|tag_cancel|Indicades if the order was cancelled or not.|\n",
    "|distance_km|Total number of km that the delivery had from the partner to the client|\n",
    "|use_credit|Indicades if the order was payed with some promotion code|\n",
    "|hora|Have the hour in which the order was issued|\n",
    "|polygon_size|Defines the km of coverage of the partner|\n",
    "|cashback|Provides the total amount of promotion code value in possess of the client|\n",
    "\n"
   ]
  },
  {
   "cell_type": "code",
   "execution_count": 5,
   "id": "5f0442dc-fcc7-4af8-8e8a-3141006b9848",
   "metadata": {
    "tags": []
   },
   "outputs": [
    {
     "data": {
      "text/html": [
       "<div>\n",
       "<style scoped>\n",
       "    .dataframe tbody tr th:only-of-type {\n",
       "        vertical-align: middle;\n",
       "    }\n",
       "\n",
       "    .dataframe tbody tr th {\n",
       "        vertical-align: top;\n",
       "    }\n",
       "\n",
       "    .dataframe thead th {\n",
       "        text-align: right;\n",
       "    }\n",
       "</style>\n",
       "<table border=\"1\" class=\"dataframe\">\n",
       "  <thead>\n",
       "    <tr style=\"text-align: right;\">\n",
       "      <th></th>\n",
       "      <th>country</th>\n",
       "      <th>district_name</th>\n",
       "      <th>date</th>\n",
       "      <th>weekday</th>\n",
       "      <th>user_total_orders</th>\n",
       "      <th>% completed orders user</th>\n",
       "      <th>payment_method</th>\n",
       "      <th>order_value</th>\n",
       "      <th>item_count</th>\n",
       "      <th>city</th>\n",
       "      <th>...</th>\n",
       "      <th>vehicle_type</th>\n",
       "      <th>store_category</th>\n",
       "      <th>out_of_stock</th>\n",
       "      <th>order_wrong</th>\n",
       "      <th>tag_cancel</th>\n",
       "      <th>distance_km</th>\n",
       "      <th>use_credit</th>\n",
       "      <th>hora</th>\n",
       "      <th>polygon_size</th>\n",
       "      <th>cashback</th>\n",
       "    </tr>\n",
       "  </thead>\n",
       "  <tbody>\n",
       "    <tr>\n",
       "      <th>0</th>\n",
       "      <td>Llaqta_1</td>\n",
       "      <td>MA_1</td>\n",
       "      <td>2023-06-30 00:00:00</td>\n",
       "      <td>Friday</td>\n",
       "      <td>111</td>\n",
       "      <td>95.50 %</td>\n",
       "      <td>revol_pay</td>\n",
       "      <td>25.407407</td>\n",
       "      <td>2.0</td>\n",
       "      <td>Maule</td>\n",
       "      <td>...</td>\n",
       "      <td>Bicycle</td>\n",
       "      <td>Licours Shop</td>\n",
       "      <td>0</td>\n",
       "      <td>False</td>\n",
       "      <td>False</td>\n",
       "      <td>2.0</td>\n",
       "      <td>NaN</td>\n",
       "      <td>23</td>\n",
       "      <td>NaN</td>\n",
       "      <td>NaN</td>\n",
       "    </tr>\n",
       "    <tr>\n",
       "      <th>1</th>\n",
       "      <td>Llaqta_1</td>\n",
       "      <td>MA_2</td>\n",
       "      <td>2023-06-27 00:00:00</td>\n",
       "      <td>Tuesday</td>\n",
       "      <td>4</td>\n",
       "      <td>50.00 %</td>\n",
       "      <td>cc-N/A</td>\n",
       "      <td>43.049383</td>\n",
       "      <td>1.0</td>\n",
       "      <td>Maule</td>\n",
       "      <td>...</td>\n",
       "      <td>Motorcycle</td>\n",
       "      <td>E-commerce</td>\n",
       "      <td>0</td>\n",
       "      <td>True</td>\n",
       "      <td>True</td>\n",
       "      <td>3.0</td>\n",
       "      <td>NaN</td>\n",
       "      <td>0</td>\n",
       "      <td>NaN</td>\n",
       "      <td>NaN</td>\n",
       "    </tr>\n",
       "    <tr>\n",
       "      <th>2</th>\n",
       "      <td>Llaqta_1</td>\n",
       "      <td>MA_3</td>\n",
       "      <td>2023-06-27 00:00:00</td>\n",
       "      <td>Tuesday</td>\n",
       "      <td>208</td>\n",
       "      <td>99.04 %</td>\n",
       "      <td>cc-credit</td>\n",
       "      <td>119.438889</td>\n",
       "      <td>11.0</td>\n",
       "      <td>Maule</td>\n",
       "      <td>...</td>\n",
       "      <td>Motorcycle</td>\n",
       "      <td>NaN</td>\n",
       "      <td>0</td>\n",
       "      <td>False</td>\n",
       "      <td>False</td>\n",
       "      <td>4.0</td>\n",
       "      <td>NaN</td>\n",
       "      <td>12</td>\n",
       "      <td>NaN</td>\n",
       "      <td>NaN</td>\n",
       "    </tr>\n",
       "  </tbody>\n",
       "</table>\n",
       "<p>3 rows × 24 columns</p>\n",
       "</div>"
      ],
      "text/plain": [
       "    country district_name                 date  weekday  user_total_orders  \\\n",
       "0  Llaqta_1          MA_1  2023-06-30 00:00:00   Friday                111   \n",
       "1  Llaqta_1          MA_2  2023-06-27 00:00:00  Tuesday                  4   \n",
       "2  Llaqta_1          MA_3  2023-06-27 00:00:00  Tuesday                208   \n",
       "\n",
       "  % completed orders user payment_method  order_value  item_count   city  ...  \\\n",
       "0                 95.50 %      revol_pay    25.407407         2.0  Maule  ...   \n",
       "1                 50.00 %         cc-N/A    43.049383         1.0  Maule  ...   \n",
       "2                 99.04 %      cc-credit   119.438889        11.0  Maule  ...   \n",
       "\n",
       "  vehicle_type  store_category  out_of_stock  order_wrong tag_cancel  \\\n",
       "0      Bicycle    Licours Shop             0        False      False   \n",
       "1   Motorcycle      E-commerce             0         True       True   \n",
       "2   Motorcycle             NaN             0        False      False   \n",
       "\n",
       "  distance_km  use_credit  hora  polygon_size  cashback  \n",
       "0         2.0         NaN    23           NaN       NaN  \n",
       "1         3.0         NaN     0           NaN       NaN  \n",
       "2         4.0         NaN    12           NaN       NaN  \n",
       "\n",
       "[3 rows x 24 columns]"
      ]
     },
     "execution_count": 5,
     "metadata": {},
     "output_type": "execute_result"
    }
   ],
   "source": [
    "#| output: true\n",
    "\n",
    "delivery.head(3)"
   ]
  },
  {
   "cell_type": "code",
   "execution_count": 6,
   "id": "4d909457",
   "metadata": {
    "colab": {
     "base_uri": "https://localhost:8080/"
    },
    "id": "4d909457",
    "outputId": "43ade14f-190a-4b71-d420-bf5b12b91ede",
    "tags": []
   },
   "outputs": [
    {
     "data": {
      "text/plain": [
       "country                          0\n",
       "district_name                    0\n",
       "date                             0\n",
       "weekday                          0\n",
       "user_total_orders                0\n",
       "% completed orders user          0\n",
       "payment_method                   0\n",
       "order_value                      0\n",
       "item_count                     398\n",
       "city                             0\n",
       "partner                          0\n",
       "picking_time                 11149\n",
       "cashier_time                  1191\n",
       "requesting_transport_time    30258\n",
       "vehicle_type                   994\n",
       "store_category               18125\n",
       "out_of_stock                     0\n",
       "order_wrong                      0\n",
       "tag_cancel                       0\n",
       "distance_km                      2\n",
       "use_credit                   54448\n",
       "hora                             0\n",
       "polygon_size                   226\n",
       "cashback                     54448\n",
       "dtype: int64"
      ]
     },
     "execution_count": 6,
     "metadata": {},
     "output_type": "execute_result"
    }
   ],
   "source": [
    "# Checking null values\n",
    "delivery.isnull().sum()"
   ]
  },
  {
   "cell_type": "code",
   "execution_count": 7,
   "id": "a49cd8c9",
   "metadata": {
    "colab": {
     "base_uri": "https://localhost:8080/"
    },
    "id": "a49cd8c9",
    "outputId": "a6d29dc4-33f9-4c9e-ed89-387c8feb570d",
    "tags": []
   },
   "outputs": [
    {
     "name": "stdout",
     "output_type": "stream",
     "text": [
      "<class 'pandas.core.frame.DataFrame'>\n",
      "RangeIndex: 62382 entries, 0 to 62381\n",
      "Data columns (total 24 columns):\n",
      " #   Column                     Non-Null Count  Dtype  \n",
      "---  ------                     --------------  -----  \n",
      " 0   country                    62382 non-null  object \n",
      " 1   district_name              62382 non-null  object \n",
      " 2   date                       62382 non-null  object \n",
      " 3   weekday                    62382 non-null  object \n",
      " 4   user_total_orders          62382 non-null  int64  \n",
      " 5   % completed orders user    62382 non-null  object \n",
      " 6   payment_method             62382 non-null  object \n",
      " 7   order_value                62382 non-null  float64\n",
      " 8   item_count                 61984 non-null  float64\n",
      " 9   city                       62382 non-null  object \n",
      " 10  partner                    62382 non-null  object \n",
      " 11  picking_time               51233 non-null  float64\n",
      " 12  cashier_time               61191 non-null  float64\n",
      " 13  requesting_transport_time  32124 non-null  float64\n",
      " 14  vehicle_type               61388 non-null  object \n",
      " 15  store_category             44257 non-null  object \n",
      " 16  out_of_stock               62382 non-null  int64  \n",
      " 17  order_wrong                62382 non-null  bool   \n",
      " 18  tag_cancel                 62382 non-null  bool   \n",
      " 19  distance_km                62380 non-null  float64\n",
      " 20  use_credit                 7934 non-null   object \n",
      " 21  hora                       62382 non-null  int64  \n",
      " 22  polygon_size               62156 non-null  float64\n",
      " 23  cashback                   7934 non-null   float64\n",
      "dtypes: bool(2), float64(8), int64(3), object(11)\n",
      "memory usage: 10.6+ MB\n"
     ]
    }
   ],
   "source": [
    "delivery.info()"
   ]
  },
  {
   "cell_type": "code",
   "execution_count": 8,
   "id": "2e90ef84",
   "metadata": {
    "colab": {
     "base_uri": "https://localhost:8080/"
    },
    "id": "2e90ef84",
    "outputId": "cc4b0b35-8b05-42eb-d202-ba81070badb2",
    "tags": []
   },
   "outputs": [
    {
     "name": "stdout",
     "output_type": "stream",
     "text": [
      "<class 'pandas.core.frame.DataFrame'>\n",
      "RangeIndex: 62382 entries, 0 to 62381\n",
      "Data columns (total 4 columns):\n",
      " #   Column          Non-Null Count  Dtype  \n",
      "---  ------          --------------  -----  \n",
      " 0   vehicle_type    61388 non-null  object \n",
      " 1   store_category  44257 non-null  object \n",
      " 2   distance_km     62380 non-null  float64\n",
      " 3   out_of_stock    62382 non-null  int64  \n",
      "dtypes: float64(1), int64(1), object(2)\n",
      "memory usage: 1.9+ MB\n"
     ]
    }
   ],
   "source": [
    "delivery[['vehicle_type', 'store_category', 'distance_km', 'out_of_stock']].info()"
   ]
  },
  {
   "cell_type": "code",
   "execution_count": 9,
   "id": "4a688ba9",
   "metadata": {
    "id": "4a688ba9",
    "tags": []
   },
   "outputs": [],
   "source": [
    "# Removing % label\n",
    "delivery['% completed orders user']=delivery['% completed orders user'].str.replace('%',' ')\n",
    "delivery['% completed orders user']=delivery['% completed orders user'].astype('float')\n",
    "delivery['% completed orders user']=delivery['% completed orders user']/100\n"
   ]
  },
  {
   "cell_type": "code",
   "execution_count": 11,
   "id": "fdde55dd",
   "metadata": {
    "id": "fdde55dd",
    "tags": []
   },
   "outputs": [],
   "source": [
    "# Remove missing values\n",
    "delivery.dropna(subset=['vehicle_type'],inplace=True)"
   ]
  },
  {
   "cell_type": "code",
   "execution_count": 14,
   "id": "TnWu4NDLqX4y",
   "metadata": {
    "id": "TnWu4NDLqX4y",
    "tags": []
   },
   "outputs": [],
   "source": [
    "#Imputing values of mode and mean for the variables\n",
    "\n",
    "mode_ps = delivery['polygon_size'].mode()[0]\n",
    "delivery['polygon_size'].fillna(mode_ps, inplace=True)\n"
   ]
  },
  {
   "cell_type": "code",
   "execution_count": 15,
   "id": "9gFYOI6JtXUY",
   "metadata": {
    "id": "9gFYOI6JtXUY",
    "tags": []
   },
   "outputs": [],
   "source": [
    "mean_ic = delivery['item_count'].mean()\n",
    "delivery['item_count'].fillna(mean_ic, inplace=True)\n",
    "\n"
   ]
  },
  {
   "cell_type": "code",
   "execution_count": 16,
   "id": "VDNTiq8zvmYs",
   "metadata": {
    "id": "VDNTiq8zvmYs",
    "tags": []
   },
   "outputs": [],
   "source": [
    "mode_sc = delivery['store_category'].mode()[0]\n",
    "delivery['store_category'].fillna(mode_sc, inplace=True)\n"
   ]
  },
  {
   "cell_type": "code",
   "execution_count": 17,
   "id": "0a0f5e1b",
   "metadata": {
    "id": "0a0f5e1b",
    "tags": []
   },
   "outputs": [],
   "source": [
    "# Replace missing values\n",
    "delivery.fillna({'picking_time': 0, 'cashier_time': 0, 'requesting_transport_time':0, 'cashback':0}, inplace=True)"
   ]
  },
  {
   "cell_type": "code",
   "execution_count": 18,
   "id": "0f78a9f6",
   "metadata": {
    "id": "0f78a9f6",
    "tags": []
   },
   "outputs": [],
   "source": [
    "# Replace missing values\n",
    "delivery.fillna({'use_credit': False},inplace=True)"
   ]
  },
  {
   "cell_type": "code",
   "execution_count": 19,
   "id": "3d2589a5",
   "metadata": {
    "colab": {
     "base_uri": "https://localhost:8080/"
    },
    "id": "3d2589a5",
    "outputId": "4425c91c-1c07-406f-b461-12ac6541bc66",
    "tags": []
   },
   "outputs": [
    {
     "name": "stdout",
     "output_type": "stream",
     "text": [
      "28\n"
     ]
    }
   ],
   "source": [
    "#$0 could be relate to bad order\n",
    "zero_count = (delivery['order_value'] == 0).sum()\n",
    "print(zero_count)"
   ]
  },
  {
   "cell_type": "code",
   "execution_count": 20,
   "id": "eeed3c0e",
   "metadata": {
    "colab": {
     "base_uri": "https://localhost:8080/"
    },
    "id": "eeed3c0e",
    "outputId": "aea1cf6c-64c4-489b-be54-9c070e444764",
    "tags": []
   },
   "outputs": [
    {
     "name": "stdout",
     "output_type": "stream",
     "text": [
      "2\n"
     ]
    }
   ],
   "source": [
    "# Check duplicate values\n",
    "dup_value = delivery.duplicated().sum()\n",
    "print(dup_value)"
   ]
  },
  {
   "cell_type": "code",
   "execution_count": 26,
   "id": "YFNWGwR70dD_",
   "metadata": {
    "id": "YFNWGwR70dD_",
    "tags": []
   },
   "outputs": [],
   "source": [
    "# Removing negative values\n",
    "negative_cols = ['user_total_orders', 'item_count', 'picking_time', 'cashier_time', 'requesting_transport_time',\n",
    "                 'out_of_stock', 'distance_km', 'hora', 'polygon_size', 'cashback']\n",
    "\n",
    "# Create a mask that identifies rows with any negative value in the specified columns\n",
    "negative_mask = delivery[negative_cols].lt(0).any(axis=1)\n",
    "\n",
    "# Use the mask to filter out rows with negative values\n",
    "df = delivery[~negative_mask]"
   ]
  },
  {
   "cell_type": "code",
   "execution_count": 27,
   "id": "7a52b3ad-f9b5-440f-b191-e8cfa031c520",
   "metadata": {
    "tags": []
   },
   "outputs": [
    {
     "data": {
      "text/html": [
       "<div>\n",
       "<style scoped>\n",
       "    .dataframe tbody tr th:only-of-type {\n",
       "        vertical-align: middle;\n",
       "    }\n",
       "\n",
       "    .dataframe tbody tr th {\n",
       "        vertical-align: top;\n",
       "    }\n",
       "\n",
       "    .dataframe thead th {\n",
       "        text-align: right;\n",
       "    }\n",
       "</style>\n",
       "<table border=\"1\" class=\"dataframe\">\n",
       "  <thead>\n",
       "    <tr style=\"text-align: right;\">\n",
       "      <th></th>\n",
       "      <th>country</th>\n",
       "      <th>district_name</th>\n",
       "      <th>date</th>\n",
       "      <th>weekday</th>\n",
       "      <th>user_total_orders</th>\n",
       "      <th>% completed orders user</th>\n",
       "      <th>payment_method</th>\n",
       "      <th>order_value</th>\n",
       "      <th>item_count</th>\n",
       "      <th>city</th>\n",
       "      <th>...</th>\n",
       "      <th>vehicle_type</th>\n",
       "      <th>store_category</th>\n",
       "      <th>out_of_stock</th>\n",
       "      <th>order_wrong</th>\n",
       "      <th>tag_cancel</th>\n",
       "      <th>distance_km</th>\n",
       "      <th>use_credit</th>\n",
       "      <th>hora</th>\n",
       "      <th>polygon_size</th>\n",
       "      <th>cashback</th>\n",
       "    </tr>\n",
       "  </thead>\n",
       "  <tbody>\n",
       "    <tr>\n",
       "      <th>0</th>\n",
       "      <td>Llaqta_1</td>\n",
       "      <td>MA_1</td>\n",
       "      <td>2023-06-30 00:00:00</td>\n",
       "      <td>Friday</td>\n",
       "      <td>111</td>\n",
       "      <td>0.9550</td>\n",
       "      <td>revol_pay</td>\n",
       "      <td>25.407407</td>\n",
       "      <td>2.0</td>\n",
       "      <td>Maule</td>\n",
       "      <td>...</td>\n",
       "      <td>Bicycle</td>\n",
       "      <td>Licours Shop</td>\n",
       "      <td>0</td>\n",
       "      <td>False</td>\n",
       "      <td>False</td>\n",
       "      <td>2.0</td>\n",
       "      <td>False</td>\n",
       "      <td>23</td>\n",
       "      <td>3.0</td>\n",
       "      <td>0.0</td>\n",
       "    </tr>\n",
       "    <tr>\n",
       "      <th>1</th>\n",
       "      <td>Llaqta_1</td>\n",
       "      <td>MA_2</td>\n",
       "      <td>2023-06-27 00:00:00</td>\n",
       "      <td>Tuesday</td>\n",
       "      <td>4</td>\n",
       "      <td>0.5000</td>\n",
       "      <td>cc-N/A</td>\n",
       "      <td>43.049383</td>\n",
       "      <td>1.0</td>\n",
       "      <td>Maule</td>\n",
       "      <td>...</td>\n",
       "      <td>Motorcycle</td>\n",
       "      <td>E-commerce</td>\n",
       "      <td>0</td>\n",
       "      <td>True</td>\n",
       "      <td>True</td>\n",
       "      <td>3.0</td>\n",
       "      <td>False</td>\n",
       "      <td>0</td>\n",
       "      <td>3.0</td>\n",
       "      <td>0.0</td>\n",
       "    </tr>\n",
       "    <tr>\n",
       "      <th>2</th>\n",
       "      <td>Llaqta_1</td>\n",
       "      <td>MA_3</td>\n",
       "      <td>2023-06-27 00:00:00</td>\n",
       "      <td>Tuesday</td>\n",
       "      <td>208</td>\n",
       "      <td>0.9904</td>\n",
       "      <td>cc-credit</td>\n",
       "      <td>119.438889</td>\n",
       "      <td>11.0</td>\n",
       "      <td>Maule</td>\n",
       "      <td>...</td>\n",
       "      <td>Motorcycle</td>\n",
       "      <td>Convenient Store</td>\n",
       "      <td>0</td>\n",
       "      <td>False</td>\n",
       "      <td>False</td>\n",
       "      <td>4.0</td>\n",
       "      <td>False</td>\n",
       "      <td>12</td>\n",
       "      <td>3.0</td>\n",
       "      <td>0.0</td>\n",
       "    </tr>\n",
       "  </tbody>\n",
       "</table>\n",
       "<p>3 rows × 24 columns</p>\n",
       "</div>"
      ],
      "text/plain": [
       "    country district_name                 date  weekday  user_total_orders  \\\n",
       "0  Llaqta_1          MA_1  2023-06-30 00:00:00   Friday                111   \n",
       "1  Llaqta_1          MA_2  2023-06-27 00:00:00  Tuesday                  4   \n",
       "2  Llaqta_1          MA_3  2023-06-27 00:00:00  Tuesday                208   \n",
       "\n",
       "   % completed orders user payment_method  order_value  item_count   city  \\\n",
       "0                   0.9550      revol_pay    25.407407         2.0  Maule   \n",
       "1                   0.5000         cc-N/A    43.049383         1.0  Maule   \n",
       "2                   0.9904      cc-credit   119.438889        11.0  Maule   \n",
       "\n",
       "   ... vehicle_type    store_category  out_of_stock  order_wrong tag_cancel  \\\n",
       "0  ...      Bicycle      Licours Shop             0        False      False   \n",
       "1  ...   Motorcycle        E-commerce             0         True       True   \n",
       "2  ...   Motorcycle  Convenient Store             0        False      False   \n",
       "\n",
       "  distance_km  use_credit  hora  polygon_size  cashback  \n",
       "0         2.0       False    23           3.0       0.0  \n",
       "1         3.0       False     0           3.0       0.0  \n",
       "2         4.0       False    12           3.0       0.0  \n",
       "\n",
       "[3 rows x 24 columns]"
      ]
     },
     "execution_count": 27,
     "metadata": {},
     "output_type": "execute_result"
    }
   ],
   "source": [
    "df.head(3)"
   ]
  },
  {
   "cell_type": "code",
   "execution_count": 28,
   "id": "075c878a",
   "metadata": {
    "id": "075c878a",
    "tags": []
   },
   "outputs": [],
   "source": [
    "# Separating quantiative & Categorical variables\n",
    "df_cat = df.select_dtypes(include=['object','bool'])\n",
    "df_quan = df.select_dtypes(exclude=['object','bool'])"
   ]
  },
  {
   "cell_type": "code",
   "execution_count": 29,
   "id": "578d0afc",
   "metadata": {
    "colab": {
     "base_uri": "https://localhost:8080/",
     "height": 825
    },
    "id": "578d0afc",
    "outputId": "9c641fe6-9222-48f8-efec-bace87d20362",
    "tags": []
   },
   "outputs": [
    {
     "data": {
      "image/png": "[encoded data removed]",
      "text/plain": [
       "<Figure size 1000x800 with 2 Axes>"
      ]
     },
     "metadata": {},
     "output_type": "display_data"
    }
   ],
   "source": [
    "# Create a heatmap\n",
    "plt.figure(figsize=(10, 8))\n",
    "df_quan_corr = df_quan.corr(method = 'spearman' )\n",
    "ax = sns.heatmap(df_quan_corr, annot=True, cmap='coolwarm', center=0,fmt='.2g',xticklabels='auto', yticklabels='auto',linewidth=.8,cbar_kws={\"shrink\": .8})\n",
    "ax.tick_params(axis='both', which='both', labelsize=8)\n",
    "plt.title(\"Correlation Heatmap\")\n",
    "plt.show()"
   ]
  },
  {
   "cell_type": "code",
   "execution_count": null,
   "id": "fb13e892",
   "metadata": {
    "colab": {
     "base_uri": "https://localhost:8080/",
     "height": 1000
    },
    "id": "fb13e892",
    "outputId": "a75cbf89-f1b5-48e0-e4f8-6357b77dfc7c",
    "tags": []
   },
   "outputs": [],
   "source": [
    "# Create a pairplot\n",
    "sns.pairplot(df_quan)"
   ]
  },
  {
   "cell_type": "code",
   "execution_count": null,
   "id": "DydpUVdj3HEK",
   "metadata": {
    "colab": {
     "base_uri": "https://localhost:8080/",
     "height": 1000
    },
    "id": "DydpUVdj3HEK",
    "outputId": "6d8ea6aa-e0b4-4464-9bbf-ff1a06d2bcf3",
    "tags": []
   },
   "outputs": [],
   "source": [
    "for col in df_quan.columns:\n",
    "    fig, ax = plt.subplots(1, 2, figsize=(10, 4))\n",
    "\n",
    "    # Histogram\n",
    "    sns.histplot(df_quan[col], kde=True, bins=20, ax=ax[0])\n",
    "    ax[0].set_title(f'Histogram for {col}')\n",
    "    ax[0].set_xlabel(col)\n",
    "    ax[0].set_ylabel('Frequency')\n",
    "\n",
    "    # Box plot\n",
    "    sns.boxplot(x=df_quan[col], ax=ax[1])\n",
    "    ax[1].set_title(f'Boxplot for {col}')\n",
    "    ax[1].set_xlabel(col)\n",
    "\n",
    "    plt.tight_layout()\n",
    "    plt.show()"
   ]
  },
  {
   "cell_type": "code",
   "execution_count": null,
   "id": "3MzrqOjUTry1",
   "metadata": {
    "colab": {
     "base_uri": "https://localhost:8080/"
    },
    "id": "3MzrqOjUTry1",
    "outputId": "7d9acb50-fc98-42ab-8168-9b4edd15a23a"
   },
   "outputs": [],
   "source": [
    "df_quan.columns"
   ]
  },
  {
   "cell_type": "code",
   "execution_count": null,
   "id": "9DckTUvbSDU6",
   "metadata": {
    "colab": {
     "base_uri": "https://localhost:8080/"
    },
    "id": "9DckTUvbSDU6",
    "outputId": "043048d0-eb4b-416f-d8e4-1627ae7da4aa"
   },
   "outputs": [],
   "source": [
    "#Removing outliers for : % completed orders user, picking_time, cashier_time, t_06, polygon size, rapi_amount\n",
    "columns = ['t04_picking_time', 't05_cashier_time',\n",
    "           't06_requesting_rt_time', 'polygon_size', 'rappi_amount']\n",
    "\n",
    "Q1 = df[columns].quantile(0.25)\n",
    "Q3 = df[columns].quantile(0.75)\n",
    "IQR = Q3 - Q1\n",
    "\n",
    "lower_bound = Q1 - 1.5 * IQR\n",
    "upper_bound = Q3 + 1.5 * IQR\n",
    "\n",
    "outliers = pd.DataFrame()\n",
    "for col in columns:\n",
    "    condition = (df[col] < lower_bound[col]) | (df[col] > upper_bound[col])\n",
    "    outliers = pd.concat([outliers, df[condition]], ignore_index=True)\n"
   ]
  },
  {
   "cell_type": "markdown",
   "id": "URQdEJ3mhrZ-",
   "metadata": {
    "id": "URQdEJ3mhrZ-"
   },
   "source": [
    "## 2. Exploratory Data Analysis (EDA) (univariate / bivariate analysis)"
   ]
  },
  {
   "cell_type": "code",
   "execution_count": null,
   "id": "851ee88b",
   "metadata": {
    "colab": {
     "base_uri": "https://localhost:8080/",
     "height": 423
    },
    "id": "851ee88b",
    "outputId": "ae94df23-985b-41a6-c9be-f99a1be8221c"
   },
   "outputs": [],
   "source": [
    "#chi_squared for categorical\n",
    "from scipy.stats import chi2_contingency\n",
    "\n",
    "chi_squared_results = pd.DataFrame(columns=['Variable 1', 'Variable 2', 'Chi-Squared', 'P-Value'])\n",
    "\n",
    "for var1 in df_cat:\n",
    "    for var2 in df_cat:\n",
    "        if var1 != var2:\n",
    "          #if var2 =='bad_order':\n",
    "            contingency_table = pd.crosstab(df[var1], df[var2])\n",
    "\n",
    "            chi2, p, _, _ = chi2_contingency(contingency_table)\n",
    "\n",
    "\n",
    "            new_row = pd.DataFrame({'Variable 1': [var1], 'Variable 2': [var2], 'Chi-Squared': [chi2], 'P-Value': [p]})\n",
    "\n",
    "            chi_squared_results = pd.concat([chi_squared_results, new_row], ignore_index=True)\n",
    "\n",
    "chi_squared_results\n"
   ]
  },
  {
   "cell_type": "code",
   "execution_count": null,
   "id": "2lBB8sKG2Qs6",
   "metadata": {
    "id": "2lBB8sKG2Qs6"
   },
   "outputs": [],
   "source": [
    "#Checking for independance between our outcome bad_order and the categorical variables"
   ]
  },
  {
   "cell_type": "code",
   "execution_count": null,
   "id": "aVISIIh601uN",
   "metadata": {
    "colab": {
     "base_uri": "https://localhost:8080/",
     "height": 537
    },
    "id": "aVISIIh601uN",
    "outputId": "97f08420-5c5a-456b-800d-c935d62e4b04"
   },
   "outputs": [],
   "source": [
    "#chi_squared for categorical\n",
    "from scipy.stats import chi2_contingency\n",
    "\n",
    "chi_squared_results = pd.DataFrame(columns=['Variable', 'Chi-Squared', 'P-Value'])\n",
    "\n",
    "outcome_variable = 'bad_order'\n",
    "\n",
    "for var in df_cat:\n",
    "        if var != outcome_variable:\n",
    "            contingency_table = pd.crosstab(df[outcome_variable], df[var])\n",
    "\n",
    "            chi2, p, _, _ = chi2_contingency(contingency_table)\n",
    "\n",
    "\n",
    "            new_row = pd.DataFrame({'Variable': var, 'Chi-Squared': [chi2], 'P-Value': [p]})\n",
    "\n",
    "            chi_squared_results = pd.concat([chi_squared_results, new_row], ignore_index=True)\n",
    "\n",
    "            if p < 0.05:\n",
    "              print(f\"There is a significant association between {outcome_variable} and {var} (p-value = {p:.2f})\")\n",
    "            else:\n",
    "              print(f\"There is no significant association between {outcome_variable} and {var} (p-value = {p:.2f})\")\n",
    "\n",
    "#H0 there is no relathionship between the variables\n",
    "\n",
    "chi_squared_results\n"
   ]
  },
  {
   "cell_type": "code",
   "execution_count": null,
   "id": "5osM0-AIrvPj",
   "metadata": {
    "id": "5osM0-AIrvPj"
   },
   "outputs": [],
   "source": [
    "#Perfoming ANOVA TEST for mixed categorical and numerical values"
   ]
  },
  {
   "cell_type": "code",
   "execution_count": null,
   "id": "9jwSPeji97v-",
   "metadata": {
    "colab": {
     "base_uri": "https://localhost:8080/"
    },
    "id": "9jwSPeji97v-",
    "outputId": "822d4449-239e-4c23-d69d-e560ce11b5f7"
   },
   "outputs": [],
   "source": [
    "import statsmodels.api as sm\n",
    "from statsmodels.formula.api import ols\n",
    "from statsmodels.stats.anova import anova_lm\n",
    "\n",
    "# List of numerical variables for the ANOVA tests\n",
    "df_cuantitative = ['% completed orders user', 'order_value_usd', 'item_count', 't04_picking_time', 't05_cashier_time', 't06_requesting_rt_time', 'out_of_stock', 'distance_km', 'hora']\n",
    "\n",
    "# Perform ANOVA for numerical variables\n",
    "for num_var in df_cuantitative:\n",
    "    formula = f'{num_var} ~ C(bad_order)'\n",
    "    try:\n",
    "        model = ols(formula, data=df).fit()\n",
    "        anova_table = anova_lm(model)\n",
    "        print(f\"ANOVA table for {num_var} and bad_order:\")\n",
    "        print(anova_table)\n",
    "\n",
    "        p_value = anova_table['PR(>F)'][0]\n",
    "        if p_value < 0.05:\n",
    "            print(f\"There is a significant difference between the means of the groups defined by bad_order for {num_var} (p-value = {p_value:.2f})\")\n",
    "        else:\n",
    "            print(f\"There is no difference between the means of k groups\")\n",
    "\n",
    "        print(\"=\" * 40)\n",
    "\n",
    "    except Exception as e:\n",
    "        print(f\"Error for {num_var} and bad_order: {str(e)}\")\n",
    "\n"
   ]
  },
  {
   "cell_type": "markdown",
   "id": "dXgqGEtQ-pIL",
   "metadata": {
    "id": "dXgqGEtQ-pIL"
   },
   "source": [
    "#"
   ]
  },
  {
   "cell_type": "markdown",
   "id": "EyYjCMcsBDeR",
   "metadata": {
    "id": "EyYjCMcsBDeR"
   },
   "source": [
    "# 4. Machine Learning\n"
   ]
  },
  {
   "cell_type": "code",
   "execution_count": null,
   "id": "n-XcZfCc2sBM",
   "metadata": {
    "colab": {
     "base_uri": "https://localhost:8080/",
     "height": 496
    },
    "id": "n-XcZfCc2sBM",
    "outputId": "f74e815c-4824-46b3-de18-e2883cc07b72"
   },
   "outputs": [],
   "source": [
    "# Feature engineering\n",
    "df_quan"
   ]
  },
  {
   "cell_type": "markdown",
   "id": "GFAECDyYBNrX",
   "metadata": {
    "id": "GFAECDyYBNrX"
   },
   "source": [
    "For this part we are going to start put the data in a standarization and onehot encoding so the data is ready to be inserted in the modeling. For it, we are going to use the Pipeline method"
   ]
  },
  {
   "cell_type": "code",
   "execution_count": null,
   "id": "RiJbeE4aRMk3",
   "metadata": {
    "id": "RiJbeE4aRMk3"
   },
   "outputs": [],
   "source": [
    "from sklearn.base import BaseEstimator, TransformerMixin\n",
    "\n",
    "class VariableSelector(BaseEstimator, TransformerMixin):\n",
    "    def __init__(self,attribute_names):\n",
    "        self.attribute_names = attribute_names\n",
    "\n",
    "    def fit(self, X , y=None):\n",
    "        return self\n",
    "\n",
    "    def transform(self, X):\n",
    "        return X[self.attribute_names]"
   ]
  },
  {
   "cell_type": "code",
   "execution_count": null,
   "id": "8YFs5anrS2fZ",
   "metadata": {
    "id": "8YFs5anrS2fZ"
   },
   "outputs": [],
   "source": [
    "columns_quan = list(df_quan.columns)"
   ]
  },
  {
   "cell_type": "code",
   "execution_count": null,
   "id": "FUdB_49oqFEX",
   "metadata": {
    "colab": {
     "base_uri": "https://localhost:8080/"
    },
    "id": "FUdB_49oqFEX",
    "outputId": "dc53a649-d787-42a7-b711-6a7307bea2ba"
   },
   "outputs": [],
   "source": [
    "columns_quan\n"
   ]
  },
  {
   "cell_type": "code",
   "execution_count": null,
   "id": "Vf0TtPVlCI4s",
   "metadata": {
    "id": "Vf0TtPVlCI4s"
   },
   "outputs": [],
   "source": [
    "#quantitative\n",
    "from sklearn.pipeline import Pipeline\n",
    "from sklearn.preprocessing import StandardScaler\n",
    "\n",
    "quanti_pipeline = Pipeline(\n",
    "    [\n",
    "     ('selector', VariableSelector(columns_quan)),\n",
    "     ('std_scaler', StandardScaler())\n",
    "    ]\n",
    "    )\n",
    "\n"
   ]
  },
  {
   "cell_type": "code",
   "execution_count": null,
   "id": "vr58mI9wPnSb",
   "metadata": {
    "id": "vr58mI9wPnSb"
   },
   "outputs": [],
   "source": [
    "#It is being checked in the case of the categorical variables, which values can be apprved for a OHE method or label encoding\n",
    "\n",
    "df_cat_oh = ['country','payment_method','city','vehicle_type','store_category','use_credit']\n",
    "df_cat_le = ['district_name','brand_group']\n",
    "\n"
   ]
  },
  {
   "cell_type": "code",
   "execution_count": null,
   "id": "Q7ry8PnmuA52",
   "metadata": {
    "id": "Q7ry8PnmuA52"
   },
   "outputs": [],
   "source": [
    "from sklearn.preprocessing import OneHotEncoder as OHE\n",
    "\n",
    "cuali_pipeline_ohe = Pipeline(\n",
    "\n",
    "  [\n",
    "    ('selector',VariableSelector(df_cat_oh)),\n",
    "    ('OHE_columns',OHE(sparse=False))\n",
    "\n",
    "  ]\n",
    "\n",
    ")"
   ]
  },
  {
   "cell_type": "code",
   "execution_count": null,
   "id": "6KzHw1JwwpZW",
   "metadata": {
    "id": "6KzHw1JwwpZW"
   },
   "outputs": [],
   "source": [
    "from sklearn.preprocessing import OrdinalEncoder as OE\n",
    "\n",
    "cuali_pipeline_le =Pipeline(\n",
    "\n",
    "                            [\n",
    "                             ('selector',VariableSelector(df_cat_le)),\n",
    "                             ('LE_columns', OE())\n",
    "                            ]\n",
    "\n",
    ")"
   ]
  },
  {
   "cell_type": "code",
   "execution_count": null,
   "id": "ezXkHJ0jxDWs",
   "metadata": {
    "id": "ezXkHJ0jxDWs"
   },
   "outputs": [],
   "source": [
    "from sklearn.pipeline import FeatureUnion\n",
    "\n",
    "full_pipeline =FeatureUnion(\n",
    "    transformer_list=[\n",
    "        ('num_pipeline', quanti_pipeline),\n",
    "        ('ohe_pipeline',cuali_pipeline_ohe),\n",
    "        ('le_pipeline',cuali_pipeline_le)\n",
    "                      ]\n",
    ")"
   ]
  },
  {
   "cell_type": "markdown",
   "id": "KCKIZ9APyr-3",
   "metadata": {
    "id": "KCKIZ9APyr-3"
   },
   "source": [
    "Once that is defined the Pipeline, to do the adjustements on the data. It is going to be retrieved from the main dataset the y to be predicted\n"
   ]
  },
  {
   "cell_type": "code",
   "execution_count": null,
   "id": "BYIKpwCqzz0a",
   "metadata": {
    "colab": {
     "base_uri": "https://localhost:8080/"
    },
    "id": "BYIKpwCqzz0a",
    "outputId": "897e3ee9-9387-4fee-8655-457e425dec89"
   },
   "outputs": [],
   "source": [
    "x_df = full_pipeline.fit_transform(df)\n"
   ]
  },
  {
   "cell_type": "code",
   "execution_count": null,
   "id": "HrrMSxjb-Oq3",
   "metadata": {
    "id": "HrrMSxjb-Oq3"
   },
   "outputs": [],
   "source": [
    "X = x_df\n",
    "y = df['bad_order']"
   ]
  },
  {
   "cell_type": "code",
   "execution_count": null,
   "id": "sNkdNGhY-WZk",
   "metadata": {
    "id": "sNkdNGhY-WZk"
   },
   "outputs": [],
   "source": [
    "from sklearn.model_selection import train_test_split\n",
    "X_train,X_test,y_train,y_test = train_test_split(X,y, test_size=0.2,random_state=42,shuffle=True,stratify = y)"
   ]
  },
  {
   "cell_type": "markdown",
   "id": "LrARxetXUHiZ",
   "metadata": {
    "id": "LrARxetXUHiZ"
   },
   "source": [
    "Now that we splited our data, we will apply 3 models on our categorical outcome (Logistic regression, Classification Tree, Random Forest)"
   ]
  },
  {
   "cell_type": "markdown",
   "id": "MgqRoeXL98gN",
   "metadata": {
    "id": "MgqRoeXL98gN"
   },
   "source": [
    "+ LOGISTICS REGRESSION"
   ]
  },
  {
   "cell_type": "code",
   "execution_count": null,
   "id": "oKfS9uCnUQ1K",
   "metadata": {
    "colab": {
     "base_uri": "https://localhost:8080/"
    },
    "id": "oKfS9uCnUQ1K",
    "outputId": "d57870aa-ec02-44dc-d1de-58e27dbdc87b"
   },
   "outputs": [],
   "source": [
    "#Logistic Regression Model Fitting\n",
    "\n",
    "from sklearn.linear_model import LogisticRegression\n",
    "logreg = LogisticRegression(penalty = None, solver = 'newton-cholesky')\n",
    "logreg.fit(X_train, y_train)\n",
    "\n",
    "#Predicting the test set results\n",
    "lr_pred = logreg.predict(X_test)"
   ]
  },
  {
   "cell_type": "code",
   "execution_count": null,
   "id": "ZHYqr_e4aFGa",
   "metadata": {
    "colab": {
     "base_uri": "https://localhost:8080/"
    },
    "id": "ZHYqr_e4aFGa",
    "outputId": "e735ed6f-daa8-4861-90c8-ecddb3afea46"
   },
   "outputs": [],
   "source": [
    "#Calculating the accuracy\n",
    "print('Accuracy of Logistic Regression classifier on test set: {:.2f}'.format(logreg.score(X_test, y_test)))"
   ]
  },
  {
   "cell_type": "code",
   "execution_count": null,
   "id": "QXt-103laHKX",
   "metadata": {
    "colab": {
     "base_uri": "https://localhost:8080/"
    },
    "id": "QXt-103laHKX",
    "outputId": "4b68c1b2-fcc9-4ec8-935c-a5d06d77d166"
   },
   "outputs": [],
   "source": [
    "#Checking crossvalidated performance\n",
    "from sklearn.model_selection import cross_val_score\n",
    "cv_score = cross_val_score(logreg, X_test, y_test)\n",
    "print(f\"average cross validated score : {np.mean(cv_score)}\")"
   ]
  },
  {
   "cell_type": "code",
   "execution_count": null,
   "id": "sRyfNy49akb1",
   "metadata": {
    "colab": {
     "base_uri": "https://localhost:8080/",
     "height": 605
    },
    "id": "sRyfNy49akb1",
    "outputId": "c9211f44-275c-4f72-d01c-6317d12ce990"
   },
   "outputs": [],
   "source": [
    "#Logistic Regression model performance with Confusion Matrix\n",
    "from sklearn.metrics import confusion_matrix, classification_report, ConfusionMatrixDisplay\n",
    "confusion_matrix_lr = confusion_matrix(y_test, lr_pred, labels= logreg.classes_)\n",
    "ConfusionMatrixDisplay(confusion_matrix_lr, display_labels = logreg.classes_).plot()\n",
    "print(classification_report(y_test,lr_pred))"
   ]
  },
  {
   "cell_type": "code",
   "execution_count": null,
   "id": "mi95v6wXuWLW",
   "metadata": {
    "colab": {
     "base_uri": "https://localhost:8080/",
     "height": 81
    },
    "id": "mi95v6wXuWLW",
    "outputId": "b19ecd0e-fe2a-489e-cb4a-430da91cd511"
   },
   "outputs": [],
   "source": [
    "from sklearn.metrics import accuracy_score,precision_score,recall_score, f1_score,roc_auc_score,cohen_kappa_score,roc_curve\n",
    "accuracy_lr = accuracy_score(y_test, lr_pred)\n",
    "precision_lr = precision_score(y_test, lr_pred)\n",
    "sensitivity_lr = recall_score(y_test, lr_pred)\n",
    "f1_lr = f1_score(y_test, lr_pred)\n",
    "\n",
    "#ROC Curve\n",
    "lr_pred_prob= logreg.predict_proba(X_test)\n",
    "fpr, tpr, thresholds = roc_curve(y_test, lr_pred_prob[:,1])\n",
    "lr_roc_auc = roc_auc_score(y_test, lr_pred_prob[:,1])\n",
    "\n",
    "\n",
    "result_lr = pd.DataFrame([['Log. reg.',accuracy_lr, precision_lr, sensitivity_lr,f1_lr,lr_roc_auc]], columns=('model','accuracy','precision','sensitivity','f1','roc'))\n",
    "result_lr"
   ]
  },
  {
   "cell_type": "code",
   "execution_count": null,
   "id": "8L9_Uz8F2_Et",
   "metadata": {
    "colab": {
     "base_uri": "https://localhost:8080/",
     "height": 547
    },
    "id": "8L9_Uz8F2_Et",
    "outputId": "f4ef2538-279b-49e8-e6ec-ab92b18129f9"
   },
   "outputs": [],
   "source": [
    "plt.figure(figsize=(8, 6))\n",
    "plt.plot(fpr, tpr, color='blue', lw=2, label=' Logit Regression - ROC curve (area = {:.2f})'.format(lr_roc_auc))\n",
    "plt.plot([0, 1], [0, 1], color='black', lw=2, linestyle='--')\n",
    "plt.xlim([0.0, 1])\n",
    "plt.ylim([0.0, 1])\n",
    "plt.xlabel('False Positive Rate')\n",
    "plt.ylabel('True Positive Rate')\n",
    "plt.legend(loc='lower center')\n",
    "plt.show()"
   ]
  },
  {
   "cell_type": "markdown",
   "id": "BwMG1WEh-J19",
   "metadata": {
    "id": "BwMG1WEh-J19"
   },
   "source": [
    "+ Decision Tree"
   ]
  },
  {
   "cell_type": "code",
   "execution_count": null,
   "id": "Y61JiIaRc-ok",
   "metadata": {
    "id": "Y61JiIaRc-ok"
   },
   "outputs": [],
   "source": [
    "#Classification Tree Model Fitting\n",
    "\n",
    "from sklearn.tree import DecisionTreeClassifier\n",
    "# Initializing Decision Tree classifer object\n",
    "clf = DecisionTreeClassifier()\n",
    "\n",
    "# Train Decision Tree Classifer\n",
    "clf.fit(X_train,y_train)\n",
    "\n",
    "#Predicting on the test set\n",
    "clf_pred = clf.predict(X_test)"
   ]
  },
  {
   "cell_type": "code",
   "execution_count": null,
   "id": "ODs86tWzfBaQ",
   "metadata": {
    "colab": {
     "base_uri": "https://localhost:8080/"
    },
    "id": "ODs86tWzfBaQ",
    "outputId": "587ee7bc-1e66-4e13-a4ec-e19251f222a3"
   },
   "outputs": [],
   "source": [
    "#Calculating the model accuracy, how often is the classifier correct ?\n",
    "from sklearn.metrics import accuracy_score\n",
    "\n",
    "print(\"Accuracy Decision Tree Classifier: {:.2f}\".format(accuracy_score(y_test, clf_pred)))\n"
   ]
  },
  {
   "cell_type": "code",
   "execution_count": null,
   "id": "XsBI-HvQgl-Y",
   "metadata": {
    "colab": {
     "base_uri": "https://localhost:8080/",
     "height": 605
    },
    "id": "XsBI-HvQgl-Y",
    "outputId": "1d6a834a-9106-45eb-ffda-7c00f460e39d"
   },
   "outputs": [],
   "source": [
    "#Classification Tree Model performance\n",
    "from sklearn.metrics import confusion_matrix, classification_report, ConfusionMatrixDisplay\n",
    "confusion_matrix_clf = confusion_matrix(y_test, clf_pred, labels = clf.classes_)\n",
    "ConfusionMatrixDisplay(confusion_matrix_clf, display_labels= clf.classes_).plot()\n",
    "print(classification_report(y_test, clf_pred))"
   ]
  },
  {
   "cell_type": "code",
   "execution_count": null,
   "id": "EUylQmhboMdl",
   "metadata": {
    "id": "EUylQmhboMdl"
   },
   "outputs": [],
   "source": [
    "from sklearn.tree import export_graphviz\n",
    "\n",
    "export_graphviz(\n",
    " clf,\n",
    " out_file=(\"order_simple.dot\"),\n",
    " feature_names=None,\n",
    " class_names=None,\n",
    " filled=True,\n",
    ")"
   ]
  },
  {
   "cell_type": "code",
   "execution_count": null,
   "id": "51qc8leCp7HL",
   "metadata": {
    "colab": {
     "base_uri": "https://localhost:8080/"
    },
    "id": "51qc8leCp7HL",
    "outputId": "c44e4b24-fc4d-49b5-ad2e-6265ae063a48"
   },
   "outputs": [],
   "source": [
    "!dot -Tpng hitters_simple.dot -o hitters_simple.png"
   ]
  },
  {
   "cell_type": "code",
   "execution_count": null,
   "id": "Lc8ZBLsQp_C_",
   "metadata": {
    "colab": {
     "base_uri": "https://localhost:8080/",
     "height": 1000
    },
    "id": "Lc8ZBLsQp_C_",
    "outputId": "2cc96b19-d524-401b-86cb-a05fa1c2b3d6"
   },
   "outputs": [],
   "source": [
    "#from IPython.display import Image\n",
    "#Image(\"order_simple.png\")"
   ]
  },
  {
   "cell_type": "code",
   "execution_count": null,
   "id": "P9tFz8LE7lA6",
   "metadata": {
    "colab": {
     "base_uri": "https://localhost:8080/",
     "height": 81
    },
    "id": "P9tFz8LE7lA6",
    "outputId": "064abd2c-2201-4212-c2d9-243621df8726"
   },
   "outputs": [],
   "source": [
    "accuracy_clf = accuracy_score(y_test, clf_pred)\n",
    "precision_clf = precision_score(y_test, clf_pred)\n",
    "sensitivity_clf = recall_score(y_test, clf_pred)\n",
    "f1_clf = f1_score(y_test, clf_pred)\n",
    "\n",
    "\n",
    "#ROC Curve\n",
    "clf_pred_prob= clf.predict_proba(X_test)\n",
    "fpr, tpr, thresholds = roc_curve(y_test, clf_pred_prob[:,1])\n",
    "clf_roc_auc = roc_auc_score(y_test, clf_pred_prob[:,1])\n",
    "\n",
    "\n",
    "result_clf = pd.DataFrame([['decision tree',accuracy_clf, precision_clf, sensitivity_clf,f1_clf,clf_roc_auc]], columns=('model','accuracy','precision','sensitivity','f1','roc'))\n",
    "result_clf"
   ]
  },
  {
   "cell_type": "code",
   "execution_count": null,
   "id": "ELiIc4Kjt72I",
   "metadata": {
    "colab": {
     "base_uri": "https://localhost:8080/",
     "height": 547
    },
    "id": "ELiIc4Kjt72I",
    "outputId": "325ffcf5-f64e-4141-ae4e-a67bd3cf18ae"
   },
   "outputs": [],
   "source": [
    "plt.figure(figsize=(8, 6))\n",
    "plt.plot(fpr, tpr, color='blue', lw=2, label='Tree Dec. -ROC curve (area = {:.2f})'.format(clf_roc_auc))\n",
    "plt.plot([0, 1], [0, 1], color='black', lw=2, linestyle='--')\n",
    "plt.xlim([0.0, 1])\n",
    "plt.ylim([0.0, 1])\n",
    "plt.xlabel('False Positive Rate')\n",
    "plt.ylabel('True Positive Rate')\n",
    "plt.legend(loc='lower center')\n",
    "plt.show()"
   ]
  },
  {
   "cell_type": "markdown",
   "id": "b1BTwI3T_y0h",
   "metadata": {
    "id": "b1BTwI3T_y0h"
   },
   "source": [
    "+ Random Forest"
   ]
  },
  {
   "cell_type": "code",
   "execution_count": null,
   "id": "8JGYuksQisjK",
   "metadata": {
    "id": "8JGYuksQisjK"
   },
   "outputs": [],
   "source": [
    "#Random Forest Model Fitting\n",
    "\n",
    "from sklearn.ensemble import RandomForestClassifier\n",
    "# Initializing Random Forest Classifer object\n",
    "rf = RandomForestClassifier()\n",
    "\n",
    "# Train Random Forest Classifer\n",
    "rf.fit(X_train, y_train)\n",
    "\n",
    "#Predicting on the test set\n",
    "rf_pred = rf.predict(X_test)"
   ]
  },
  {
   "cell_type": "code",
   "execution_count": null,
   "id": "YZ8oAdkWkTpX",
   "metadata": {
    "colab": {
     "base_uri": "https://localhost:8080/"
    },
    "id": "YZ8oAdkWkTpX",
    "outputId": "c3ff737a-5431-48d1-8a91-acf4e6a92edc"
   },
   "outputs": [],
   "source": [
    "#Calculating Random Forest model accuracy\n",
    "accuracy_rf = accuracy_score(y_test, rf_pred)\n",
    "print(\"Accuracy Random Forest Classifier: {:.2f}\".format(accuracy_rf))"
   ]
  },
  {
   "cell_type": "code",
   "execution_count": null,
   "id": "eF4f7xImkbqS",
   "metadata": {
    "colab": {
     "base_uri": "https://localhost:8080/",
     "height": 605
    },
    "id": "eF4f7xImkbqS",
    "outputId": "a3a305cb-befa-4fc7-d8bd-24ee343bbe8b"
   },
   "outputs": [],
   "source": [
    "#Random Forest Classifier model performance\n",
    "confusion_matrix_rf = confusion_matrix(y_test, rf_pred, labels = rf.classes_)\n",
    "ConfusionMatrixDisplay(confusion_matrix_rf, display_labels= rf.classes_).plot()\n",
    "print(classification_report(y_test, rf_pred))"
   ]
  },
  {
   "cell_type": "code",
   "execution_count": null,
   "id": "uWRF0k6z9Ux_",
   "metadata": {
    "colab": {
     "base_uri": "https://localhost:8080/",
     "height": 81
    },
    "id": "uWRF0k6z9Ux_",
    "outputId": "f760f5d2-3bab-427f-f0c0-daad0c065363"
   },
   "outputs": [],
   "source": [
    "accuracy_rf = accuracy_score(y_test, rf_pred)\n",
    "precision_rf = precision_score(y_test, rf_pred)\n",
    "sensitivity_rf = recall_score(y_test, rf_pred)\n",
    "f1_rf = f1_score(y_test, rf_pred)\n",
    "\n",
    "\n",
    "#ROC Curve\n",
    "rf_pred_prob= rf.predict_proba(X_test)\n",
    "fpr, tpr, thresholds = roc_curve(y_test, rf_pred_prob[:,1])\n",
    "rf_roc_auc = roc_auc_score(y_test, rf_pred_prob[:,1])\n",
    "\n",
    "result_rf = pd.DataFrame([['random forest',accuracy_rf, precision_rf, sensitivity_rf,f1_rf,rf_roc_auc]], columns=('model','accuracy','precision','sensitivity','f1','roc'))\n",
    "result_rf"
   ]
  },
  {
   "cell_type": "markdown",
   "id": "GDCwa-rpCZVE",
   "metadata": {
    "id": "GDCwa-rpCZVE"
   },
   "source": [
    "\n",
    "After checking model performance accuracy (counts of correct classification) we can assume that our best model is Random Forest Classifier with 0.93% of correctly predicted predictions\n",
    "\n",
    "\n"
   ]
  },
  {
   "cell_type": "code",
   "execution_count": null,
   "id": "PHFDp0zAu6jO",
   "metadata": {
    "colab": {
     "base_uri": "https://localhost:8080/",
     "height": 547
    },
    "id": "PHFDp0zAu6jO",
    "outputId": "5e6e03be-5e5c-4f44-e1fb-fe950cf2fb2e"
   },
   "outputs": [],
   "source": [
    "plt.figure(figsize=(8, 6))\n",
    "plt.plot(fpr, tpr, color='blue', lw=2, label='Rand. forest -ROC curve (area = {:.2f})'.format(rf_roc_auc))\n",
    "plt.plot([0, 1], [0, 1], color='black', lw=2, linestyle='--')\n",
    "plt.xlim([0.0, 1])\n",
    "plt.ylim([0.0, 1])\n",
    "plt.xlabel('False Positive Rate')\n",
    "plt.ylabel('True Positive Rate')\n",
    "plt.legend(loc='lower center')\n",
    "plt.show()"
   ]
  },
  {
   "cell_type": "code",
   "execution_count": null,
   "id": "nmHDc6Eex3ST",
   "metadata": {
    "colab": {
     "base_uri": "https://localhost:8080/",
     "height": 143
    },
    "id": "nmHDc6Eex3ST",
    "outputId": "b702ff4d-13fc-4430-e77e-7a8c6a0fbaab"
   },
   "outputs": [],
   "source": [
    "resultados = pd.concat([result_lr, result_clf,result_rf], axis=0)\n",
    "resultados"
   ]
  },
  {
   "cell_type": "markdown",
   "id": "jk-Ut73sCyKM",
   "metadata": {
    "id": "jk-Ut73sCyKM"
   },
   "source": [
    "Results:\n",
    "\n",
    "\n",
    "> Metrics\n",
    "\n",
    "+ Overall the accuracy between all the models seems to be high (between 86 and 92%) which meant that the models have been a great deal into predicting if the order was labeled as a good one or bad one.\n",
    "+ Precision: However, for this exercise it is most interesting to predict only the bad orders, to which this metric is most important. As it can be revised, the random forest model is the one with the best result out of the three. Which means that of the total predicted true bad orders, the model have an 86% of good prediction\n",
    "\n",
    "+ Sensitivity: However, all the models had a bad ratio in this metric. This metric indicates that the of all the True orders labeled as bad order, only ;in the best case; was predicted 30% of this cases. To make the model more fit, it will be used the methods for reduce the overfitting of the models.\n"
   ]
  },
  {
   "cell_type": "markdown",
   "id": "_h4JM2cXHEnQ",
   "metadata": {
    "id": "_h4JM2cXHEnQ"
   },
   "source": [
    "# Tuning model"
   ]
  },
  {
   "cell_type": "code",
   "execution_count": null,
   "id": "1bbX2UFaCxSS",
   "metadata": {
    "id": "1bbX2UFaCxSS"
   },
   "outputs": [],
   "source": [
    "\n",
    "\n",
    "estimators = list(range(2, 50, 5))\n",
    "sens_rf_num_estimators = []\n",
    "accu_rf_num_estimators = []\n",
    "\n",
    "for n in estimators:\n",
    "    rf = RandomForestClassifier(n_estimators=n, random_state=42)\n",
    "    rf.fit(X_train, y_train)\n",
    "    y_pred = rf.predict(X_test)\n",
    "    sensitivity_rf = recall_score(y_test, rf_pred)\n",
    "    accuracy_rf = accuracy_score(y_test, rf_pred)\n",
    "\n",
    "    sens_rf_num_estimators.append(sensitivity_rf)\n",
    "    accu_rf_num_estimators.append(accuracy_rf)\n"
   ]
  },
  {
   "cell_type": "code",
   "execution_count": null,
   "id": "0iEoV53AKUGO",
   "metadata": {
    "colab": {
     "base_uri": "https://localhost:8080/",
     "height": 564
    },
    "id": "0iEoV53AKUGO",
    "outputId": "1473a373-bbf4-469e-cc8f-1075eac47fa9"
   },
   "outputs": [],
   "source": [
    "# Plotting the results\n",
    "plt.figure(figsize=(10, 6))\n",
    "plt.plot(estimators, sens_rf_num_estimators, marker='o', linestyle='-', color='b')\n",
    "plt.plot(estimators,accu_rf_num_estimators, marker='x', linestyle='-', color='r')\n",
    "plt.title('Sensitivity vs. Number of Estimators')\n",
    "plt.xlabel('Number of Estimators')\n",
    "plt.ylabel('%')\n",
    "plt.grid(True)\n",
    "plt.show()"
   ]
  },
  {
   "cell_type": "code",
   "execution_count": null,
   "id": "vn02GvzvLL30",
   "metadata": {
    "colab": {
     "base_uri": "https://localhost:8080/",
     "height": 696
    },
    "id": "vn02GvzvLL30",
    "outputId": "c99fa809-9ef5-49e6-ccb0-043bfc90ee13"
   },
   "outputs": [],
   "source": [
    "\n",
    "train_scores = []\n",
    "valid_scores = []\n",
    "leaves = list(range(2,30))\n",
    "for leaf in leaves :\n",
    "    dtr = RandomForestClassifier(min_samples_leaf = leaf)\n",
    "    dtr.fit(X_train, y_train)\n",
    "    train_scores.append(dtr.score(X_train, y_train))\n",
    "    valid_scores.append(dtr.score(X_test, y_test))\n",
    "\n",
    "plt.figure(figsize=(10,8))\n",
    "plt.plot(leaves, train_scores)\n",
    "plt.plot(leaves, valid_scores)\n",
    "plt.xlabel(\"minimum samples per leaf\")\n",
    "plt.ylabel(\"score values\")\n",
    "plt.legend([\"training scores\", \"validation scores\"])\n",
    "plt.show()"
   ]
  },
  {
   "cell_type": "code",
   "execution_count": null,
   "id": "XQI8Wp2DNOt5",
   "metadata": {
    "colab": {
     "base_uri": "https://localhost:8080/",
     "height": 696
    },
    "id": "XQI8Wp2DNOt5",
    "outputId": "4c0b9bf4-66a9-4594-a1d4-7c780003ddef"
   },
   "outputs": [],
   "source": [
    "train_scores = []\n",
    "valid_scores = []\n",
    "depths = list(range(2,40))\n",
    "for depth in depths :\n",
    "    dtr = RandomForestClassifier(max_depth = depth)\n",
    "    dtr.fit(X_train, y_train)\n",
    "    train_scores.append(dtr.score(X_train, y_train))\n",
    "    valid_scores.append(dtr.score(X_test, y_test))\n",
    "\n",
    "plt.figure(figsize=(10,8))\n",
    "plt.plot(depths, train_scores)\n",
    "plt.plot(depths, valid_scores)\n",
    "plt.xlabel(\"maximum depth\")\n",
    "plt.ylabel(\"score values\")\n",
    "plt.legend([\"training scores\", \"validation scores\"])\n",
    "plt.show()"
   ]
  },
  {
   "cell_type": "markdown",
   "id": "67RkAlqNOzyC",
   "metadata": {
    "id": "67RkAlqNOzyC"
   },
   "source": [
    "+ GridSearchCV"
   ]
  },
  {
   "cell_type": "code",
   "execution_count": null,
   "id": "0Yk9dKlYO2mc",
   "metadata": {
    "colab": {
     "base_uri": "https://localhost:8080/",
     "height": 134
    },
    "id": "0Yk9dKlYO2mc",
    "outputId": "82d9dd65-5fa0-4145-a6ee-f599d753dcaa"
   },
   "outputs": [],
   "source": [
    "from sklearn.model_selection import GridSearchCV\n",
    "\n",
    "params = {'max_depth': list(range(2, 15)), 'min_samples_leaf': list(range(2,20))}\n",
    "\n",
    "grid_search_cv = GridSearchCV(RandomForestClassifier(),\n",
    "                              params,\n",
    "                              verbose=1,\n",
    "                              cv=3,\n",
    "                              n_jobs=-1)\n",
    "\n",
    "grid_search_cv.fit(X_train, y_train)"
   ]
  },
  {
   "cell_type": "code",
   "execution_count": null,
   "id": "xD9kqcgUQnNx",
   "metadata": {
    "colab": {
     "base_uri": "https://localhost:8080/",
     "height": 74
    },
    "id": "xD9kqcgUQnNx",
    "outputId": "5e375fb7-bf2b-4c91-f3f6-804f272ea3a5"
   },
   "outputs": [],
   "source": [
    "\n",
    "best_tree_model = grid_search_cv.best_estimator_\n",
    "best_tree_model"
   ]
  },
  {
   "cell_type": "code",
   "execution_count": null,
   "id": "W9hq3JbYQunC",
   "metadata": {
    "colab": {
     "base_uri": "https://localhost:8080/"
    },
    "id": "W9hq3JbYQunC",
    "outputId": "61a41b4a-a6dd-4e1f-cbd2-a5946f1328b8"
   },
   "outputs": [],
   "source": [
    "best_tree_model.fit(X_train,y_train)\n",
    "best_tree_model.score(X_test,y_test)"
   ]
  },
  {
   "cell_type": "code",
   "execution_count": null,
   "id": "JUTjHP8gaJlL",
   "metadata": {
    "id": "JUTjHP8gaJlL"
   },
   "outputs": [],
   "source": [
    "rfo_pred = best_tree_model.predict(X_test)"
   ]
  },
  {
   "cell_type": "code",
   "execution_count": null,
   "id": "ygeK2tDOZAlC",
   "metadata": {
    "id": "ygeK2tDOZAlC"
   },
   "outputs": [],
   "source": [
    "from sklearn.tree import export_graphviz\n",
    "tree_to_visualize = best_tree_model.estimators_[0]\n",
    "\n"
   ]
  },
  {
   "cell_type": "code",
   "execution_count": null,
   "id": "d1VZ6NcShhpE",
   "metadata": {
    "colab": {
     "base_uri": "https://localhost:8080/"
    },
    "id": "d1VZ6NcShhpE",
    "outputId": "50efe939-7656-469b-bbd7-81c4cbd4f22b"
   },
   "outputs": [],
   "source": [
    "from sklearn.tree import export_graphviz\n",
    "import subprocess\n",
    "\n",
    "export_graphviz(\n",
    "    tree_to_visualize,\n",
    "    out_file=\"optimal_tree.dot\",\n",
    "    feature_names=None,\n",
    "    class_names=None,\n",
    "    filled=True\n",
    ")\n",
    "\n",
    "\n",
    "subprocess.call(['dot', '-Tpng', 'optimal_tree.dot', '-o', 'optimal_tree.png'])\n"
   ]
  },
  {
   "cell_type": "code",
   "execution_count": null,
   "id": "_XQGB6DgZN1S",
   "metadata": {
    "colab": {
     "base_uri": "https://localhost:8080/",
     "height": 989
    },
    "id": "_XQGB6DgZN1S",
    "outputId": "ae1df72e-f747-4107-d478-4599200b6220"
   },
   "outputs": [],
   "source": [
    "from IPython.display import Image\n",
    "\n",
    "Image(\"optimal_tree.png\")"
   ]
  },
  {
   "cell_type": "code",
   "execution_count": null,
   "id": "515ZiPm3Z0Ik",
   "metadata": {
    "colab": {
     "base_uri": "https://localhost:8080/",
     "height": 81
    },
    "id": "515ZiPm3Z0Ik",
    "outputId": "6756adb0-c02b-42ba-f05c-07a9028b2925"
   },
   "outputs": [],
   "source": [
    "accuracy_rfo = accuracy_score(y_test, rfo_pred)\n",
    "precision_rfo = precision_score(y_test, rfo_pred)\n",
    "sensitivity_rfo = recall_score(y_test, rfo_pred)\n",
    "f1_rfo = f1_score(y_test, rfo_pred)\n",
    "\n",
    "\n",
    "#ROC Curve\n",
    "rfo_pred_prob= clf.predict_proba(X_test)\n",
    "fpr, tpr, thresholds = roc_curve(y_test, rfo_pred_prob[:,1])\n",
    "rfo_roc_auc = roc_auc_score(y_test, rfo_pred_prob[:,1])\n",
    "\n",
    "result_rfo = pd.DataFrame([['optimal random forest',accuracy_rfo, precision_rfo, sensitivity_rfo,f1_rfo,rfo_roc_auc]], columns=('model','accuracy','precision','sensitivity','f1','roc'))\n",
    "result_rfo"
   ]
  },
  {
   "cell_type": "code",
   "execution_count": null,
   "id": "WKJPsEmHj1Zu",
   "metadata": {
    "colab": {
     "base_uri": "https://localhost:8080/",
     "height": 547
    },
    "id": "WKJPsEmHj1Zu",
    "outputId": "064bd1e2-8a82-47d3-8d38-cc2372ae03f0"
   },
   "outputs": [],
   "source": [
    "plt.figure(figsize=(8, 6))\n",
    "plt.plot(fpr, tpr, color='blue', lw=2, label='Rand. forest -ROC curve (area = {:.2f})'.format(rfo_roc_auc))\n",
    "plt.plot([0, 1], [0, 1], color='black', lw=2, linestyle='--')\n",
    "plt.xlim([0.0, 1])\n",
    "plt.ylim([0.0, 1])\n",
    "plt.xlabel('False Positive Rate')\n",
    "plt.ylabel('True Positive Rate')\n",
    "plt.legend(loc='lower center')\n",
    "plt.show()"
   ]
  },
  {
   "cell_type": "markdown",
   "id": "bL0GKb0PH4Qk",
   "metadata": {
    "id": "bL0GKb0PH4Qk"
   },
   "source": [
    "# Unsupervised Learning"
   ]
  },
  {
   "cell_type": "code",
   "execution_count": null,
   "id": "zT2-ILS2H2RY",
   "metadata": {
    "id": "zT2-ILS2H2RY"
   },
   "outputs": [],
   "source": [
    "'''Importing the needed libraries and getting a basic idea on the df_quant to see what we are looking at'''\n",
    "try:\n",
    "    from fanalysis.pca import PCA\n",
    "except:\n",
    "    !pip install fanalysis\n",
    "    from fanalysis.pca import PCA\n",
    "display(df[df_quan].head(3))\n",
    "display(df[df_quan].info())\n",
    "D = df[df_quan]\n",
    "p = D.shape[1]\n",
    "n = D.shape[0]\n",
    "D = df[df_quan]\n",
    "X = D.values"
   ]
  },
  {
   "cell_type": "code",
   "execution_count": null,
   "id": "65xLXL2hH7T0",
   "metadata": {
    "id": "65xLXL2hH7T0"
   },
   "outputs": [],
   "source": [
    "'''Step 1: Try PCA to reduce dimensionality'''\n",
    "# instantiate acp object form PCA class\n",
    "acp = PCA(std_unit=True,row_labels=D.index,col_labels=D.columns) #std_unit=True, doing standardized PCA)\n",
    "\n",
    "# run PCA on X observed data\n",
    "try:\n",
    "    acp.fit(X)  # This will raise a ZeroDivisionError\n",
    "except Exception as e:\n",
    "    display(f\"An error occurred: {e}\")"
   ]
  },
  {
   "cell_type": "code",
   "execution_count": null,
   "id": "hL0ergXNH-rq",
   "metadata": {
    "colab": {
     "base_uri": "https://localhost:8080/",
     "height": 578
    },
    "id": "hL0ergXNH-rq",
    "outputId": "b1fac967-b45b-4eae-eb6c-06a150a9d8b2"
   },
   "outputs": [],
   "source": [
    "'''Step 2: Trouble shooting the error, which may indicate that there are columns that are zero'''\n",
    "D_corr = D.corr()\n",
    "ax = sns.heatmap(D_corr, annot=True, cmap='coolwarm', center=0,fmt='.1g',xticklabels='auto', yticklabels='auto',linewidth=.8,cbar_kws={\"shrink\": .8})\n",
    "ax.tick_params(axis='both', which='both', labelsize=8)\n",
    "plt.title(\"Correlation Heatmap\")\n",
    "plt.show()"
   ]
  },
  {
   "cell_type": "code",
   "execution_count": null,
   "id": "D4rdcQYyIAV_",
   "metadata": {
    "colab": {
     "base_uri": "https://localhost:8080/",
     "height": 227
    },
    "id": "D4rdcQYyIAV_",
    "outputId": "2f0f8558-a40a-4bfa-8e39-2b369784cdb2"
   },
   "outputs": [],
   "source": [
    "'''\n",
    "Step 3: Issue becomes clear that the 't06_requesting_rt_time' is the problematic one because apparently\n",
    "after data cleaning, all the values we kept are zero, which makes sense given the value means the time it took for\n",
    "a delivery personnel to be assigned to the order, which is expected to be swifty in any delivery app.\n",
    "\n",
    "Solution here: get rid off such column and do it again\n",
    "'''\n",
    "display(D.columns[5])\n",
    "D1 = D.drop(columns = [D.columns[5]])\n",
    "X1 = D1.values\n",
    "p1 = D1.shape[1]\n",
    "n1 = D1.shape[0]\n",
    "acp = PCA(std_unit=True,row_labels=D1.index,col_labels=D1.columns) #std_unit=True, doing standardized PCA)\n",
    "acp.fit(X1)  # This will raise a ZeroDivisionError\n",
    "display(acp.col_labels)\n",
    "display(acp.eig_) # each lamda k is in the first array, and then each lamda k divided by the sum of lamda k\n",
    "#(proportion of variance explained by k),\n",
    "# aka the variance explained by each component, is in the second row.\n",
    "# The third row is the cumulative variance.\n",
    "'''Looking at the cumulative variance, the most variable with the most variance only took 22%\n",
    "of the total variance in the quantitative columns'''\n",
    "display(acp.eig_.shape)"
   ]
  },
  {
   "cell_type": "code",
   "execution_count": null,
   "id": "tT3N4GP4ICl8",
   "metadata": {
    "colab": {
     "base_uri": "https://localhost:8080/",
     "height": 506
    },
    "id": "tT3N4GP4ICl8",
    "outputId": "5343c799-d317-4d92-f9fb-7a4222568d6a"
   },
   "outputs": [],
   "source": [
    "'''Step 4: determining the threshold'''\n",
    "\n",
    "# first the main plot\n",
    "fig, ax = plt.subplots(nrows=1, ncols=2, figsize=(10,5))\n",
    "ax[0].plot(range(1,p1+1),acp.eig_[0],\".-\")\n",
    "ax[0].set_xlabel(\"Nb. of factors\")\n",
    "ax[0].set_ylabel(\"Eigenvalues\")\n",
    "ax[0].set_title(\"Scree Plot\")\n",
    "\n",
    "# add Kaiser's threshold line\n",
    "ax[0].plot([1,p1+3],[1,1],\"r--\",linewidth=1)\n",
    "\n",
    "# print explained variance plot\n",
    "\n",
    "\n",
    "ax[1].plot(range(0,p1+1),np.append(0,acp.eig_[2]),\".-\")\n",
    "ax[1].set_xlabel(\"Nb. of factors\")\n",
    "ax[1].set_ylabel(\"% of explained variance\")\n",
    "ax[1].set_title(\"Explained Variance\")\n",
    "\n",
    "'''According to the plot, I decided to choose 4 as the threshold'''"
   ]
  },
  {
   "cell_type": "code",
   "execution_count": null,
   "id": "Qd1E5ikDIEnB",
   "metadata": {
    "colab": {
     "base_uri": "https://localhost:8080/"
    },
    "id": "Qd1E5ikDIEnB",
    "outputId": "65f125a6-923b-4515-fbac-0f49a11fa709"
   },
   "outputs": [],
   "source": [
    "# Applying Barlett's test of Sphericity\n",
    "try:\n",
    "    from factor_analyzer.factor_analyzer import calculate_bartlett_sphericity\n",
    "except:\n",
    "    !pip install factor_analyzer\n",
    "    from factor_analyzer.factor_analyzer import calculate_bartlett_sphericity\n",
    "\n",
    "chi_square_value, p_value = calculate_bartlett_sphericity(X1)\n",
    "print(chi_square_value, p_value)"
   ]
  },
  {
   "cell_type": "code",
   "execution_count": null,
   "id": "_aofvNUEIGF_",
   "metadata": {
    "colab": {
     "base_uri": "https://localhost:8080/"
    },
    "id": "_aofvNUEIGF_",
    "outputId": "45600f1b-1f1f-42de-c815-16db4b734614"
   },
   "outputs": [],
   "source": [
    "# Computing Karlis-Saporta-Spinaki threshold\n",
    "# impor math package\n",
    "import math\n",
    "\n",
    "#seuil de Karlis-Saporta-Spinaki\n",
    "kss = 1+2*math.sqrt((p1-1)/(n1-1))\n",
    "print(f\"Karlis-Saporta-Spinaki threshold: {kss:.3f}\")"
   ]
  },
  {
   "cell_type": "code",
   "execution_count": null,
   "id": "v0n-b_XwIHPO",
   "metadata": {
    "colab": {
     "base_uri": "https://localhost:8080/",
     "height": 522
    },
    "id": "v0n-b_XwIHPO",
    "outputId": "ba8c38d4-ab7e-4af1-d484-2d655a66f415"
   },
   "outputs": [],
   "source": [
    "# Broken sticks method\n",
    "# threshold for the broken sticks\n",
    "b = np.flip(np.cumsum(1/np.arange(p1,0,-1)))\n",
    "print(f\"thresholds for the broken sticks: {b}\")\n",
    "\n",
    "# plot eigenvalues\n",
    "fig, ax = plt.subplots(figsize=(5,5))\n",
    "ax.plot(range(1,p1+1),acp.eig_[0],\".-\")\n",
    "ax.set_xlabel(\"Nb. if factors\")\n",
    "ax.set_ylabel(\"Eigenvalues\")\n",
    "plt.title(\"Eigenvalues and broken sticks thresholds\")\n",
    "\n",
    "# add broken sticks thresholds\n",
    "ax.plot(range(1,p1+1),b,\"r--\",linewidth=1)\n",
    "\n",
    "plt.show()"
   ]
  },
  {
   "cell_type": "code",
   "execution_count": null,
   "id": "xd0qBlz4IJAZ",
   "metadata": {
    "colab": {
     "base_uri": "https://localhost:8080/"
    },
    "id": "xd0qBlz4IJAZ",
    "outputId": "9cee1568-5a4f-4cd8-8f25-f306f071deb2"
   },
   "outputs": [],
   "source": [
    "'''Step 5: Variable representation'''\n",
    "print(pd.DataFrame(acp.col_coord_[:,:4],index=D1.columns, columns=['F1','F2','F3','F4']))"
   ]
  },
  {
   "cell_type": "code",
   "execution_count": null,
   "id": "RFBQxCfQIKNH",
   "metadata": {
    "colab": {
     "base_uri": "https://localhost:8080/",
     "height": 976
    },
    "id": "RFBQxCfQIKNH",
    "outputId": "c2ff17eb-0563-4db4-a8d5-72fdaaf0f287"
   },
   "outputs": [],
   "source": [
    "# Correlations circle\n",
    "acp.correlation_circle(num_x_axis=1,num_y_axis=2, figsize=(5,5))\n",
    "acp.correlation_circle(num_x_axis=3,num_y_axis=4, figsize=(5,5))\n",
    "'''Interpretation of the two dimensions'''\n",
    "'''Three variables have a quite negative correlation with Dim 1, which are item_count, picking_time\n",
    "and cashier_time. This means the speed the store can get those orders ready, which, unsurprisingly, also partially\n",
    "comes down to the size of the order. There is clearly a size effect in this dimension'''\n",
    "'''Two variables have a quite negative correlation with Dim 2, which are distance_km and order_value_USD. This means\n",
    "that whether the order is cheap and within a shorter distance, most likely being some everyday shopping needs versus\n",
    "some more expensive order traveling a longer distance. This shows a shape effect while Dim 1 shows a size effect'''\n",
    "'''Two variables have a quite strong positive correlation with Dim 3, namely 'hora' which means hour, meaning the\n",
    "time in the day, and 'out_of_stock'. This indicates that this axis talks about a general time variation, since the\n",
    "early an order is placed, the less likely that the specific item a customer wants would be sold out.'''\n",
    "'''The fourth dimension has a very high correlation on '% completed orders user' which could just be interpreted as\n",
    "that specific variable.'''"
   ]
  },
  {
   "cell_type": "code",
   "execution_count": null,
   "id": "HVrt6PUCIL_8",
   "metadata": {
    "colab": {
     "base_uri": "https://localhost:8080/"
    },
    "id": "HVrt6PUCIL_8",
    "outputId": "c9aebe92-b9d6-44d9-9443-ffc4c2cb2914"
   },
   "outputs": [],
   "source": [
    "# Cos² if the variables on the two first factors\n",
    "print(pd.DataFrame(acp.col_cos2_[:,:4],index=D1.columns, columns=['F1','F2','F3','F4']))"
   ]
  },
  {
   "cell_type": "code",
   "execution_count": null,
   "id": "PSfo0AuJINN4",
   "metadata": {
    "colab": {
     "base_uri": "https://localhost:8080/"
    },
    "id": "PSfo0AuJINN4",
    "outputId": "2a0d0adc-2f5a-4ae8-87a6-41b4d9b29c82"
   },
   "outputs": [],
   "source": [
    "# Cumulated Cos² on the two first factors\n",
    "print(pd.DataFrame(np.cumsum(acp.col_cos2_[:,:4],axis=1),index=D1.columns, columns=['F1','F2',\"F3\",'F4']))"
   ]
  },
  {
   "cell_type": "code",
   "execution_count": null,
   "id": "izs5b1QtIOhG",
   "metadata": {
    "colab": {
     "base_uri": "https://localhost:8080/"
    },
    "id": "izs5b1QtIOhG",
    "outputId": "b15eebdb-e917-4b03-b9ad-c71076b15502"
   },
   "outputs": [],
   "source": [
    "# Contributions of each variable on the two first factors (in %)\n",
    "print(pd.DataFrame(acp.col_contrib_[:,:4],index=D1.columns, columns=['F1','F2',\"F3\",'F4']))"
   ]
  },
  {
   "cell_type": "code",
   "execution_count": null,
   "id": "31NL7MMMIPl4",
   "metadata": {
    "colab": {
     "base_uri": "https://localhost:8080/",
     "height": 641
    },
    "id": "31NL7MMMIPl4",
    "outputId": "a49bdb3c-ad0c-41f8-bb6b-a858e5e89cf3"
   },
   "outputs": [],
   "source": [
    "# chart of the individuals\n",
    "acp.mapping_row(num_x_axis=1,num_y_axis=2,figsize=(7,7))"
   ]
  },
  {
   "cell_type": "code",
   "execution_count": null,
   "id": "QgK0z8-UIcRb",
   "metadata": {
    "colab": {
     "base_uri": "https://localhost:8080/",
     "height": 677
    },
    "id": "QgK0z8-UIcRb",
    "outputId": "0b3b658e-df39-4f1b-cd75-b28462d58d6f"
   },
   "outputs": [],
   "source": [
    "# chart of the individuals\n",
    "acp.mapping_row(num_x_axis=3,num_y_axis=4,figsize=(7,7))\n",
    "'''From this factor map, we can see clearly that if we use Dim 3 and Dim 4 as our x1 and x2 axis and plot the data\n",
    "points, there is a CLEAR tendency that different clusters are formed likely due to the variance introduced by\n",
    "different rows, aka different groups of the customers behaving differently'''"
   ]
  },
  {
   "cell_type": "code",
   "execution_count": null,
   "id": "lla2qLkqIeCZ",
   "metadata": {
    "colab": {
     "base_uri": "https://localhost:8080/",
     "height": 206
    },
    "id": "lla2qLkqIeCZ",
    "outputId": "1bd3326c-0ea9-4a53-dfc8-9b6b7d48d5b1"
   },
   "outputs": [],
   "source": [
    "# creating a new data frame with the row coordinates of F1, F2, F3 and F4\n",
    "df_row_coord = pd.DataFrame(np.cumsum(acp.row_coord_[:,:4],axis=1),index=D1.index, columns=['F1','F2','F3',\"F4\"])\n",
    "df_row_coord.head(5)"
   ]
  },
  {
   "cell_type": "code",
   "execution_count": null,
   "id": "4dKx1KNgIfVW",
   "metadata": {
    "colab": {
     "base_uri": "https://localhost:8080/",
     "height": 81
    },
    "id": "4dKx1KNgIfVW",
    "outputId": "81f7f31d-6d44-4aeb-918b-e2bf23a420da"
   },
   "outputs": [],
   "source": [
    "mask = df_row_coord['F1'] == df_row_coord['F1'].min()\n",
    "df_row_coord.loc[df_row_coord[mask].index, :]"
   ]
  },
  {
   "cell_type": "code",
   "execution_count": null,
   "id": "bHklQgomIgcI",
   "metadata": {
    "colab": {
     "base_uri": "https://localhost:8080/",
     "height": 1000
    },
    "id": "bHklQgomIgcI",
    "outputId": "6824da60-8af3-41a0-b5c3-2301963d7d53"
   },
   "outputs": [],
   "source": [
    "'''Clustering'''\n",
    "'''Plotting them one axis by another first'''\n",
    "sns.pairplot(df_row_coord)"
   ]
  },
  {
   "cell_type": "code",
   "execution_count": null,
   "id": "5dPLo-pLFmx9",
   "metadata": {
    "id": "5dPLo-pLFmx9"
   },
   "outputs": [],
   "source": [
    "df_row_coord1 = df_row_coord.copy()\n",
    "if df_row_coord1.shape[0] == y.shape[0]:\n",
    "   df_row_coord1['bad_order'] = y\n",
    "    sns.pairplot(df_row_coord1, hue='bad_order')\n"
   ]
  },
  {
   "cell_type": "code",
   "execution_count": null,
   "id": "YfG4dXgLFu4M",
   "metadata": {
    "id": "YfG4dXgLFu4M"
   },
   "outputs": [],
   "source": [
    "display(df_row_coord.head(3))\n",
    "display(df_row_coord1.head(3))\n",
    "display(df_row_coord1['bad_order'].mean())"
   ]
  },
  {
   "cell_type": "code",
   "execution_count": null,
   "id": "6gx9QBgnF19Z",
   "metadata": {
    "id": "6gx9QBgnF19Z"
   },
   "outputs": [],
   "source": [
    "'''clustering with K-Means'''\n",
    "from sklearn.cluster import KMeans\n",
    "\n",
    "X = df_row_coord.values\n",
    "\n",
    "km = KMeans(n_clusters = 2, init = 'k-means++' , n_init = 10, max_iter = 300, random_state = 0, tol = 0.0001)\n",
    "\n",
    "y_km = km.fit_predict(X)"
   ]
  },
  {
   "cell_type": "code",
   "execution_count": null,
   "id": "U6dRxPNEIjOZ",
   "metadata": {
    "colab": {
     "base_uri": "https://localhost:8080/",
     "height": 34
    },
    "id": "U6dRxPNEIjOZ",
    "outputId": "7cfde84e-a84c-4225-b358-191a2c0bdced"
   },
   "outputs": [],
   "source": [
    "km.labels_\n",
    "from collections import Counter\n",
    "unique_counts = Counter(km.labels_)\n",
    "display(unique_counts)"
   ]
  },
  {
   "cell_type": "code",
   "execution_count": null,
   "id": "ff9VDxz-IkZH",
   "metadata": {
    "colab": {
     "base_uri": "https://localhost:8080/",
     "height": 1000
    },
    "id": "ff9VDxz-IkZH",
    "outputId": "b0839f77-7f7d-45f2-e85e-1ffaf6bdd1a5"
   },
   "outputs": [],
   "source": [
    "#Added the clustering info to the dataframe, but it won't affect the original X since X was done in the front as\n",
    "#X = df_row_coord.values\n",
    "df_row_coord['Y_KMean'] = y_km\n",
    "sns.pairplot(df_row_coord, hue='Y_KMean')"
   ]
  },
  {
   "cell_type": "code",
   "execution_count": null,
   "id": "3Io9kOBgImd1",
   "metadata": {
    "colab": {
     "base_uri": "https://localhost:8080/",
     "height": 245
    },
    "id": "3Io9kOBgImd1",
    "outputId": "ffe020ab-0f9d-40ad-9349-aad1b83d25c3",
    "tags": []
   },
   "outputs": [],
   "source": [
    "from sklearn.cluster import DBSCAN\n",
    "eps_list = [0.2, 0.5, 1, 2, 2.2, 2.5, 2.7, 3, 4, 5]\n",
    "for eps_ in eps_list\n",
    "    DBSCAN_model = DBSCAN(eps = eps_, min_samples=5, metric='euclidean')\n",
    "    DBSCAN_model.fit_predict(X)\n",
    "    y_DBSCAN = DBSCAN_model.labels_\n",
    "    df_row_coord['Y_DBSCAN'] = y_DBSCAN\n",
    "    display(df_row_coord['Y_DBSCAN'].value_counts())\n",
    "    sns.pairplot(df_row_coord.drop(columns = ['Y_KMean']), hue='Y_DBSCAN')"
   ]
  }
 ],
 "metadata": {
  "accelerator": "GPU",
  "colab": {
   "provenance": []
  },
  "kernelspec": {
   "display_name": "Python 3 (ipykernel)",
   "language": "python",
   "name": "python3"
  },
  "language_info": {
   "codemirror_mode": {
    "name": "ipython",
    "version": 3
   },
   "file_extension": ".py",
   "mimetype": "text/x-python",
   "name": "python",
   "nbconvert_exporter": "python",
   "pygments_lexer": "ipython3",
   "version": "3.11.5"
  }
 },
 "nbformat": 4,
 "nbformat_minor": 5
}
