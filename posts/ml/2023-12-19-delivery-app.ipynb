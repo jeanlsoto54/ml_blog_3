{
 "cells": [
  {
   "cell_type": "raw",
   "id": "d868ab2d",
   "metadata": {},
   "source": [
    "---\n",
    "title: delivery app orders prediction\n",
    "date: '2023-12-19'\n",
    "author: Jean Luis Soto\n",
    "categories: [classification]\n",
    "---"
   ]
  },
  {
   "cell_type": "markdown",
   "id": "4f8333be",
   "metadata": {},
   "source": [
    "<a href=\"https://colab.research.google.com/github/jeanlsoto54/E/blob/main/Rapi_group_project.ipynb\" target=\"_parent\"><img src=\"https://colab.research.google.com/assets/colab-badge.svg\" alt=\"Open In Colab\"/></a>\n"
   ]
  },
  {
   "cell_type": "code",
   "execution_count": 21,
   "id": "ace804c2",
   "metadata": {
    "tags": []
   },
   "outputs": [],
   "source": [
    "# Importing libraries\n",
    "import pandas as pd\n",
    "import numpy as np\n",
    "import seaborn as sns\n",
    "import matplotlib.pyplot as plt"
   ]
  },
  {
   "cell_type": "code",
   "execution_count": 22,
   "id": "a3348f73",
   "metadata": {
    "tags": []
   },
   "outputs": [],
   "source": [
    "# Displaying at least 50 columns\n",
    "pd.set_option('display.max_columns',50)"
   ]
  },
  {
   "cell_type": "code",
   "execution_count": 23,
   "id": "78e93ba7",
   "metadata": {
    "tags": []
   },
   "outputs": [],
   "source": [
    "# Load data file\n",
    "df = pd.read_csv('C:\\\\Users\\\\equipo\\\\Downloads\\\\DETALLE ORDENES CANCELADAS_CL.csv')\n",
    "df1 = pd.read_csv('C:\\\\Users\\\\equipo\\\\Downloads\\\\DETALLE ORDENES CANCELADAS_EC.csv')\n",
    "df2 = pd.read_csv('C:\\\\Users\\\\equipo\\\\Downloads\\\\DETALLE ORDENES CANCELADAS_PE.csv')"
   ]
  },
  {
   "cell_type": "code",
   "execution_count": 24,
   "id": "QxvvVECmY7m-",
   "metadata": {
    "tags": []
   },
   "outputs": [],
   "source": [
    "#Merging the datasets for the three countries Chile, Ecuador and Peru\n",
    "merged_df = pd.concat([df, df1, df2], axis=0, ignore_index=True)\n",
    "df = merged_df"
   ]
  },
  {
   "cell_type": "markdown",
   "id": "8d32e83a",
   "metadata": {},
   "source": [
    "It is being upleaded the dataset in 3 batches. each file contains the data of courier orders for the major cities of Perù, Chile and Ecuador\n",
    "\n",
    "The dataset is composed from the next variables:\n",
    "\n",
    "COUNTRY: Origin of the order (CL:chile,EC:ecuador,PE:peru)\n",
    "\n",
    "MZ_NAME: microzone of a city defined by the company where it ,mostly all the time, the store and the user.\n",
    "\n",
    "DATE_AGG: Date of the order\n",
    "\n",
    "DIA_NOMBRE: label of the day when the order happened\n",
    "\n",
    "REPURCHASE: Indicades, whether the order had no trackback (previous order for the same user the cancelled and\n",
    "order again in about 1 hour)'With repurchase' or  not 'Without repurchase'\n",
    "\n",
    "ORDER_ID: code of the order\n",
    "\n",
    "\n",
    "USER_TOTAL_ORDERS: counting of how many orders the user previously did\n",
    "\n",
    "% COMPLETED: % of the orders that were delivered to the client.\n",
    "\n",
    "PAYMENT_METHOD: method to pay the order.\n",
    "\n",
    "GMV_USD: net value of the order\n",
    "\n",
    "ITEM_COUNT: number of items that compose the market basket\n",
    "\n",
    "CITY:\n",
    "\n",
    "BRAND_NAME:\n",
    "\n",
    "STORE_ID:\n",
    "\n",
    "LNG:\n",
    "\n",
    "LAT\n",
    "\n",
    "T03_PRE_PICKING_TIME: Lead time that is about between the order being set and that the clerk starts to pick up the products.\n",
    "\n",
    "T04_PICKING_TIME: time that the clerk takes to gather all the items of the order\n",
    "\n",
    "T05_CASHIER_TIME: Time take by the cahier to generate the bill\n",
    "\n",
    "T06_REQUESTING_RT_TIME: Time that the clerk takes to ask for a courier to pick up the basket.\n",
    "\n",
    "T07_WAITING_RT_TIME: interval of time between the requested call for a courier and the arrivel of it.\n",
    "\n",
    "T08_CHECKOUT_TIME: Time that takes that the courier to put the basket on the vehicle\n",
    "\n",
    "VEHICLE_TYPE: Type of vehicle thatthe couries has\n",
    "\n",
    "MALL: Indicates if the the store is located on a shopping mall\n",
    "\n",
    "SUB_VERTICAL: Classification defined by the company for the store  (Supermarket, pharmacy and so on)\n",
    "\n",
    "DISTANCE_KM: Distance between the store and the user\n",
    "\n",
    "TAG_GLOBAL_OFFER: Boolean that indicades if the order had a discount or not.\n",
    "\n",
    "STOCKOUTS: number of Item (product id?) that were reported to be out of stock in the store.\n",
    "\n",
    "TAG_BO: Boolean that indicates if the order was labeled as bad order.\n",
    "\n",
    "TAG_BO_CANCEL: Indicades if the order was cancelled or not.\n"
   ]
  },
  {
   "cell_type": "code",
   "execution_count": 7,
   "id": "85abd5b9",
   "metadata": {
    "colab": {
     "base_uri": "https://localhost:8080/",
     "height": 451
    },
    "outputId": "7aa7959e-10cc-4c8d-ba43-c39bbeaef7bd",
    "scrolled": true,
    "tags": []
   },
   "outputs": [
    {
     "data": {
      "text/html": [
       "<div>\n",
       "<style scoped>\n",
       "    .dataframe tbody tr th:only-of-type {\n",
       "        vertical-align: middle;\n",
       "    }\n",
       "\n",
       "    .dataframe tbody tr th {\n",
       "        vertical-align: top;\n",
       "    }\n",
       "\n",
       "    .dataframe thead th {\n",
       "        text-align: right;\n",
       "    }\n",
       "</style>\n",
       "<table border=\"1\" class=\"dataframe\">\n",
       "  <thead>\n",
       "    <tr style=\"text-align: right;\">\n",
       "      <th></th>\n",
       "      <th>COUNTRY</th>\n",
       "      <th>MZ_NAME</th>\n",
       "      <th>DATE_AGG</th>\n",
       "      <th>DIA_NOMBRE</th>\n",
       "      <th>ORDER_ID</th>\n",
       "      <th>USER_TOTAL_ORDERS</th>\n",
       "      <th>% Completed orders user</th>\n",
       "      <th>PAYMENT_METHOD</th>\n",
       "      <th>GMV_USD</th>\n",
       "      <th>ITEM_COUNT</th>\n",
       "      <th>...</th>\n",
       "      <th>VEHICLE_TYPE</th>\n",
       "      <th>SUB_VERTICAL</th>\n",
       "      <th>STOCKOUTS</th>\n",
       "      <th>TAG_BO</th>\n",
       "      <th>TAG_CANCEL</th>\n",
       "      <th>DISTANCE_KM</th>\n",
       "      <th>USE_CREDIT</th>\n",
       "      <th>HORA</th>\n",
       "      <th>POLYGON_SIZE</th>\n",
       "      <th>RAPPI_AMOUNT</th>\n",
       "    </tr>\n",
       "  </thead>\n",
       "  <tbody>\n",
       "    <tr>\n",
       "      <th>62377</th>\n",
       "      <td>PE</td>\n",
       "      <td>Microzona Bellavista</td>\n",
       "      <td>2023-07-01 00:00:00</td>\n",
       "      <td>sábado</td>\n",
       "      <td>2160362847</td>\n",
       "      <td>2</td>\n",
       "      <td>100.00 %</td>\n",
       "      <td>cash</td>\n",
       "      <td>3.852632</td>\n",
       "      <td>2.0</td>\n",
       "      <td>...</td>\n",
       "      <td>Motorcycle</td>\n",
       "      <td>Express</td>\n",
       "      <td>0</td>\n",
       "      <td>False</td>\n",
       "      <td>False</td>\n",
       "      <td>3.0</td>\n",
       "      <td>NaN</td>\n",
       "      <td>15</td>\n",
       "      <td>6.0</td>\n",
       "      <td>NaN</td>\n",
       "    </tr>\n",
       "    <tr>\n",
       "      <th>62378</th>\n",
       "      <td>PE</td>\n",
       "      <td>Jesús Maria - Lince LIM1</td>\n",
       "      <td>2023-07-01 00:00:00</td>\n",
       "      <td>sábado</td>\n",
       "      <td>2160362853</td>\n",
       "      <td>480</td>\n",
       "      <td>98.13 %</td>\n",
       "      <td>cc-DEBIT</td>\n",
       "      <td>7.550000</td>\n",
       "      <td>3.0</td>\n",
       "      <td>...</td>\n",
       "      <td>Motorcycle</td>\n",
       "      <td>Express</td>\n",
       "      <td>0</td>\n",
       "      <td>False</td>\n",
       "      <td>False</td>\n",
       "      <td>3.0</td>\n",
       "      <td>NaN</td>\n",
       "      <td>15</td>\n",
       "      <td>8.0</td>\n",
       "      <td>NaN</td>\n",
       "    </tr>\n",
       "    <tr>\n",
       "      <th>62379</th>\n",
       "      <td>PE</td>\n",
       "      <td>San Isidro Residencial LIM2</td>\n",
       "      <td>2023-07-01 00:00:00</td>\n",
       "      <td>sábado</td>\n",
       "      <td>2160362870</td>\n",
       "      <td>160</td>\n",
       "      <td>97.50 %</td>\n",
       "      <td>cc-credit</td>\n",
       "      <td>14.089474</td>\n",
       "      <td>1.0</td>\n",
       "      <td>...</td>\n",
       "      <td>Bicycle</td>\n",
       "      <td>Regalos</td>\n",
       "      <td>0</td>\n",
       "      <td>True</td>\n",
       "      <td>False</td>\n",
       "      <td>2.0</td>\n",
       "      <td>NaN</td>\n",
       "      <td>15</td>\n",
       "      <td>2.0</td>\n",
       "      <td>NaN</td>\n",
       "    </tr>\n",
       "    <tr>\n",
       "      <th>62380</th>\n",
       "      <td>PE</td>\n",
       "      <td>Chacarilla LIM2</td>\n",
       "      <td>2023-07-01 00:00:00</td>\n",
       "      <td>sábado</td>\n",
       "      <td>2160362902</td>\n",
       "      <td>1116</td>\n",
       "      <td>92.38 %</td>\n",
       "      <td>cc-credit</td>\n",
       "      <td>22.402632</td>\n",
       "      <td>3.0</td>\n",
       "      <td>...</td>\n",
       "      <td>Motorcycle</td>\n",
       "      <td>Farmacia</td>\n",
       "      <td>0</td>\n",
       "      <td>False</td>\n",
       "      <td>False</td>\n",
       "      <td>1.0</td>\n",
       "      <td>NaN</td>\n",
       "      <td>15</td>\n",
       "      <td>2.0</td>\n",
       "      <td>NaN</td>\n",
       "    </tr>\n",
       "    <tr>\n",
       "      <th>62381</th>\n",
       "      <td>PE</td>\n",
       "      <td>Miraflores Oeste LIM3</td>\n",
       "      <td>2023-07-01 00:00:00</td>\n",
       "      <td>sábado</td>\n",
       "      <td>2160362916</td>\n",
       "      <td>248</td>\n",
       "      <td>97.98 %</td>\n",
       "      <td>cc-credit</td>\n",
       "      <td>11.697368</td>\n",
       "      <td>5.0</td>\n",
       "      <td>...</td>\n",
       "      <td>Motorcycle</td>\n",
       "      <td>Farmacia</td>\n",
       "      <td>0</td>\n",
       "      <td>False</td>\n",
       "      <td>False</td>\n",
       "      <td>1.0</td>\n",
       "      <td>NaN</td>\n",
       "      <td>15</td>\n",
       "      <td>1.0</td>\n",
       "      <td>NaN</td>\n",
       "    </tr>\n",
       "  </tbody>\n",
       "</table>\n",
       "<p>5 rows × 27 columns</p>\n",
       "</div>"
      ],
      "text/plain": [
       "      COUNTRY                      MZ_NAME             DATE_AGG DIA_NOMBRE  \\\n",
       "62377      PE         Microzona Bellavista  2023-07-01 00:00:00     sábado   \n",
       "62378      PE     Jesús Maria - Lince LIM1  2023-07-01 00:00:00     sábado   \n",
       "62379      PE  San Isidro Residencial LIM2  2023-07-01 00:00:00     sábado   \n",
       "62380      PE              Chacarilla LIM2  2023-07-01 00:00:00     sábado   \n",
       "62381      PE        Miraflores Oeste LIM3  2023-07-01 00:00:00     sábado   \n",
       "\n",
       "         ORDER_ID  USER_TOTAL_ORDERS % Completed orders user PAYMENT_METHOD  \\\n",
       "62377  2160362847                  2                100.00 %           cash   \n",
       "62378  2160362853                480                 98.13 %       cc-DEBIT   \n",
       "62379  2160362870                160                 97.50 %      cc-credit   \n",
       "62380  2160362902               1116                 92.38 %      cc-credit   \n",
       "62381  2160362916                248                 97.98 %      cc-credit   \n",
       "\n",
       "         GMV_USD  ITEM_COUNT  ... VEHICLE_TYPE SUB_VERTICAL  STOCKOUTS  \\\n",
       "62377   3.852632         2.0  ...   Motorcycle      Express          0   \n",
       "62378   7.550000         3.0  ...   Motorcycle      Express          0   \n",
       "62379  14.089474         1.0  ...      Bicycle      Regalos          0   \n",
       "62380  22.402632         3.0  ...   Motorcycle     Farmacia          0   \n",
       "62381  11.697368         5.0  ...   Motorcycle     Farmacia          0   \n",
       "\n",
       "       TAG_BO  TAG_CANCEL  DISTANCE_KM  USE_CREDIT HORA POLYGON_SIZE  \\\n",
       "62377   False       False          3.0         NaN   15          6.0   \n",
       "62378   False       False          3.0         NaN   15          8.0   \n",
       "62379    True       False          2.0         NaN   15          2.0   \n",
       "62380   False       False          1.0         NaN   15          2.0   \n",
       "62381   False       False          1.0         NaN   15          1.0   \n",
       "\n",
       "       RAPPI_AMOUNT  \n",
       "62377           NaN  \n",
       "62378           NaN  \n",
       "62379           NaN  \n",
       "62380           NaN  \n",
       "62381           NaN  \n",
       "\n",
       "[5 rows x 27 columns]"
      ]
     },
     "execution_count": 7,
     "metadata": {},
     "output_type": "execute_result"
    }
   ],
   "source": [
    "df.tail()"
   ]
  },
  {
   "cell_type": "code",
   "execution_count": null,
   "id": "5e850ea1",
   "metadata": {
    "colab": {
     "base_uri": "https://localhost:8080/"
    },
    "outputId": "1c255a72-c1af-4660-bb5c-d6eec20c24f7"
   },
   "outputs": [],
   "source": [
    "df.info()"
   ]
  },
  {
   "cell_type": "code",
   "execution_count": null,
   "id": "5bc3d56a",
   "metadata": {
    "colab": {
     "base_uri": "https://localhost:8080/"
    },
    "outputId": "69f2282e-d190-4288-9272-78029ff09af7"
   },
   "outputs": [],
   "source": [
    "df.isnull().sum()"
   ]
  },
  {
   "cell_type": "code",
   "execution_count": null,
   "id": "a45f38eb",
   "metadata": {
    "colab": {
     "base_uri": "https://localhost:8080/",
     "height": 320
    },
    "outputId": "fb980fa7-d32c-45b9-cc7b-46129da1e8a5"
   },
   "outputs": [],
   "source": [
    "df.describe()"
   ]
  },
  {
   "cell_type": "markdown",
   "id": "5daea942",
   "metadata": {},
   "source": [
    "# 2. Exploratory Data Analysis (EDA) (univariate / bivariate analysis)\n",
    "\n",
    "# Translation of the dataset from Spanish to English\n",
    "\n",
    " + DIA_NOMBRE: Keep the name of the days when the order was\n"
   ]
  },
  {
   "cell_type": "code",
   "execution_count": 25,
   "id": "c73211d5",
   "metadata": {
    "colab": {
     "base_uri": "https://localhost:8080/"
    },
    "outputId": "6e53108b-7fbd-4727-923f-e026553a9df1",
    "tags": []
   },
   "outputs": [
    {
     "data": {
      "text/plain": [
       "array(['viernes', 'martes', 'miércoles', 'lunes', 'jueves', 'sábado',\n",
       "       'domingo'], dtype=object)"
      ]
     },
     "execution_count": 25,
     "metadata": {},
     "output_type": "execute_result"
    }
   ],
   "source": [
    "# Checking unique values\n",
    "df['DIA_NOMBRE'].unique()"
   ]
  },
  {
   "cell_type": "code",
   "execution_count": 26,
   "id": "6534488b",
   "metadata": {
    "tags": []
   },
   "outputs": [],
   "source": [
    "# Translating the Spanish values\n",
    "trans = {'sábado': 'Saturday', 'lunes':'Monday', 'jueves':'Thursday', 'martes':'Tuesday', 'viernes':'Friday', 'miércoles':'Wednesday',\n",
    "       'domingo':'Sunday'}\n",
    "df['DIA_NOMBRE'] = df['DIA_NOMBRE'].map(trans)"
   ]
  },
  {
   "cell_type": "code",
   "execution_count": 27,
   "id": "0e5337b3",
   "metadata": {
    "tags": []
   },
   "outputs": [],
   "source": [
    "# Lower case of the columns\n",
    "df.columns = df.columns.str.lower()"
   ]
  },
  {
   "cell_type": "code",
   "execution_count": 28,
   "id": "0c64fc3f",
   "metadata": {
    "colab": {
     "base_uri": "https://localhost:8080/"
    },
    "outputId": "326b62ea-58b3-49c2-e00b-04228dda8342",
    "tags": []
   },
   "outputs": [
    {
     "data": {
      "text/plain": [
       "array(['Licores', 'Floristeria', 'Super', 'Express', 'Hogar',\n",
       "       'Bebes y niños', 'Tecnologia', 'Mascotas', 'Sex shop', 'Deportes',\n",
       "       'Farmacia', 'Belleza', 'Especializada', 'Smoking shop', 'Regalos',\n",
       "       'Libreria', 'Moda', 'Papeleria', 'TurboX', 'Jugueteria', 'Marcas'],\n",
       "      dtype=object)"
      ]
     },
     "execution_count": 28,
     "metadata": {},
     "output_type": "execute_result"
    }
   ],
   "source": [
    "# Checking the values\n",
    "df['sub_vertical'].unique()"
   ]
  },
  {
   "cell_type": "markdown",
   "id": "c4e2a56e",
   "metadata": {},
   "source": [
    "The variable 'SUB_VERTICAL' contains the business sector to which is related the store. In this case, the labels are translated and compacted in fewer classes.\n"
   ]
  },
  {
   "cell_type": "code",
   "execution_count": 29,
   "id": "f672b24e",
   "metadata": {
    "tags": []
   },
   "outputs": [],
   "source": [
    "# Translating the Spanish values\n",
    "trans1 = {'Super' : 'Supermarket', 'Floristeria':'E-commerce', 'Express':'Convenience Store', 'Especializada': 'Special Convenient Store', 'Moda':'E-commerce',\n",
    "       'Libreria':'E-commerce', 'Tecnologia':'E-commerce', 'Hogar':'E-commerce', 'Farmacia':'Pharmacy', 'Mascotas':'E-commerce',\n",
    "       'Smoking shop':'E-commerce', 'Belleza':'E-commerce', 'Regalos':'E-commerce', 'Licores':'Licours Shop', 'Deportes':'E-commerce',\n",
    "       'Bebes y niños':'E-commerce', 'Jugueteria':'E-commerce', 'Sex shop':'E-commerce', 'TurboX':'E-commerce', 'Papeleria':'E-commerce',\n",
    "       'Outlet':'E-commerce'}\n",
    "df['sub_vertical'] = df['sub_vertical'].map(trans1)"
   ]
  },
  {
   "cell_type": "code",
   "execution_count": 30,
   "id": "37199782",
   "metadata": {
    "tags": []
   },
   "outputs": [],
   "source": [
    "df = df.rename(columns={'sub_vertical':'store_category','mz_name':'village_name','date_agg':'date','dia_nombre':'weekday','gmv_usd':'order_price','stockouts':'out_of_stock','tag_bo':'wrong_order','tag_bo_cancel':'order_canceled'\n",
    "                        ,'polygon_size':'coberture area','rappi_amount':'cashback_amount'})"
   ]
  },
  {
   "cell_type": "code",
   "execution_count": 31,
   "id": "9c4bbb4d",
   "metadata": {
    "colab": {
     "base_uri": "https://localhost:8080/",
     "height": 451
    },
    "outputId": "82c08e80-398f-40dd-fb43-2928b1f77815",
    "tags": []
   },
   "outputs": [
    {
     "data": {
      "text/html": [
       "<div>\n",
       "<style scoped>\n",
       "    .dataframe tbody tr th:only-of-type {\n",
       "        vertical-align: middle;\n",
       "    }\n",
       "\n",
       "    .dataframe tbody tr th {\n",
       "        vertical-align: top;\n",
       "    }\n",
       "\n",
       "    .dataframe thead th {\n",
       "        text-align: right;\n",
       "    }\n",
       "</style>\n",
       "<table border=\"1\" class=\"dataframe\">\n",
       "  <thead>\n",
       "    <tr style=\"text-align: right;\">\n",
       "      <th></th>\n",
       "      <th>country</th>\n",
       "      <th>village_name</th>\n",
       "      <th>date</th>\n",
       "      <th>weekday</th>\n",
       "      <th>order_id</th>\n",
       "      <th>user_total_orders</th>\n",
       "      <th>% completed orders user</th>\n",
       "      <th>payment_method</th>\n",
       "      <th>order_price</th>\n",
       "      <th>item_count</th>\n",
       "      <th>city</th>\n",
       "      <th>brand_group</th>\n",
       "      <th>lat</th>\n",
       "      <th>lng</th>\n",
       "      <th>t04_picking_time</th>\n",
       "      <th>t05_cashier_time</th>\n",
       "      <th>t06_requesting_rt_time</th>\n",
       "      <th>vehicle_type</th>\n",
       "      <th>store_category</th>\n",
       "      <th>out_of_stock</th>\n",
       "      <th>wrong_order</th>\n",
       "      <th>tag_cancel</th>\n",
       "      <th>distance_km</th>\n",
       "      <th>use_credit</th>\n",
       "      <th>hora</th>\n",
       "      <th>coberture area</th>\n",
       "      <th>cashback_amount</th>\n",
       "    </tr>\n",
       "  </thead>\n",
       "  <tbody>\n",
       "    <tr>\n",
       "      <th>0</th>\n",
       "      <td>CL</td>\n",
       "      <td>Campus Oriente SCL4</td>\n",
       "      <td>2023-06-30 00:00:00</td>\n",
       "      <td>Friday</td>\n",
       "      <td>88222630</td>\n",
       "      <td>111</td>\n",
       "      <td>95.50 %</td>\n",
       "      <td>rappi_pay_gateway</td>\n",
       "      <td>25.407407</td>\n",
       "      <td>2.0</td>\n",
       "      <td>Santiago de Chile</td>\n",
       "      <td>Botillería Echenique</td>\n",
       "      <td>-33.433491</td>\n",
       "      <td>-70.581792</td>\n",
       "      <td>NaN</td>\n",
       "      <td>14187.0</td>\n",
       "      <td>NaN</td>\n",
       "      <td>Bicycle</td>\n",
       "      <td>Licours Shop</td>\n",
       "      <td>0</td>\n",
       "      <td>False</td>\n",
       "      <td>False</td>\n",
       "      <td>2.0</td>\n",
       "      <td>NaN</td>\n",
       "      <td>23</td>\n",
       "      <td>NaN</td>\n",
       "      <td>NaN</td>\n",
       "    </tr>\n",
       "    <tr>\n",
       "      <th>1</th>\n",
       "      <td>CL</td>\n",
       "      <td>23 Senador Jaime Guzman</td>\n",
       "      <td>2023-06-27 00:00:00</td>\n",
       "      <td>Tuesday</td>\n",
       "      <td>88256140</td>\n",
       "      <td>4</td>\n",
       "      <td>50.00 %</td>\n",
       "      <td>cc-N/A</td>\n",
       "      <td>43.049383</td>\n",
       "      <td>1.0</td>\n",
       "      <td>Santiago de Chile</td>\n",
       "      <td>SOLOROSASYALGOMAS</td>\n",
       "      <td>-33.403637</td>\n",
       "      <td>-70.657823</td>\n",
       "      <td>2.0</td>\n",
       "      <td>0.0</td>\n",
       "      <td>NaN</td>\n",
       "      <td>Motorcycle</td>\n",
       "      <td>E-commerce</td>\n",
       "      <td>0</td>\n",
       "      <td>True</td>\n",
       "      <td>True</td>\n",
       "      <td>3.0</td>\n",
       "      <td>NaN</td>\n",
       "      <td>0</td>\n",
       "      <td>NaN</td>\n",
       "      <td>NaN</td>\n",
       "    </tr>\n",
       "    <tr>\n",
       "      <th>2</th>\n",
       "      <td>CL</td>\n",
       "      <td>Las Condes Poniente SCL3</td>\n",
       "      <td>2023-06-27 00:00:00</td>\n",
       "      <td>Tuesday</td>\n",
       "      <td>88287753</td>\n",
       "      <td>208</td>\n",
       "      <td>99.04 %</td>\n",
       "      <td>cc-credit</td>\n",
       "      <td>119.438889</td>\n",
       "      <td>11.0</td>\n",
       "      <td>Santiago de Chile</td>\n",
       "      <td>Jumbo</td>\n",
       "      <td>-33.402225</td>\n",
       "      <td>-70.598952</td>\n",
       "      <td>8.0</td>\n",
       "      <td>12.0</td>\n",
       "      <td>1.0</td>\n",
       "      <td>Motorcycle</td>\n",
       "      <td>Supermarket</td>\n",
       "      <td>0</td>\n",
       "      <td>False</td>\n",
       "      <td>False</td>\n",
       "      <td>4.0</td>\n",
       "      <td>NaN</td>\n",
       "      <td>12</td>\n",
       "      <td>NaN</td>\n",
       "      <td>NaN</td>\n",
       "    </tr>\n",
       "    <tr>\n",
       "      <th>3</th>\n",
       "      <td>CL</td>\n",
       "      <td>20 Pedro Fontova</td>\n",
       "      <td>2023-06-27 00:00:00</td>\n",
       "      <td>Tuesday</td>\n",
       "      <td>88290753</td>\n",
       "      <td>405</td>\n",
       "      <td>95.31 %</td>\n",
       "      <td>cc-N/A</td>\n",
       "      <td>13.061728</td>\n",
       "      <td>1.0</td>\n",
       "      <td>Santiago de Chile</td>\n",
       "      <td>Lider</td>\n",
       "      <td>-33.380700</td>\n",
       "      <td>-70.686793</td>\n",
       "      <td>NaN</td>\n",
       "      <td>0.0</td>\n",
       "      <td>NaN</td>\n",
       "      <td>NaN</td>\n",
       "      <td>Supermarket</td>\n",
       "      <td>0</td>\n",
       "      <td>True</td>\n",
       "      <td>True</td>\n",
       "      <td>2.0</td>\n",
       "      <td>NaN</td>\n",
       "      <td>13</td>\n",
       "      <td>NaN</td>\n",
       "      <td>NaN</td>\n",
       "    </tr>\n",
       "    <tr>\n",
       "      <th>4</th>\n",
       "      <td>CL</td>\n",
       "      <td>Campus Oriente SCL4</td>\n",
       "      <td>2023-06-27 00:00:00</td>\n",
       "      <td>Tuesday</td>\n",
       "      <td>88291146</td>\n",
       "      <td>455</td>\n",
       "      <td>96.92 %</td>\n",
       "      <td>cc-N/A</td>\n",
       "      <td>36.740741</td>\n",
       "      <td>3.0</td>\n",
       "      <td>Santiago de Chile</td>\n",
       "      <td>Jardineria teresa jacqueline huenun espinoza</td>\n",
       "      <td>-33.449619</td>\n",
       "      <td>-70.635816</td>\n",
       "      <td>NaN</td>\n",
       "      <td>0.0</td>\n",
       "      <td>NaN</td>\n",
       "      <td>Motorcycle</td>\n",
       "      <td>E-commerce</td>\n",
       "      <td>0</td>\n",
       "      <td>True</td>\n",
       "      <td>True</td>\n",
       "      <td>4.0</td>\n",
       "      <td>NaN</td>\n",
       "      <td>13</td>\n",
       "      <td>NaN</td>\n",
       "      <td>NaN</td>\n",
       "    </tr>\n",
       "  </tbody>\n",
       "</table>\n",
       "</div>"
      ],
      "text/plain": [
       "  country              village_name                 date  weekday  order_id  \\\n",
       "0      CL       Campus Oriente SCL4  2023-06-30 00:00:00   Friday  88222630   \n",
       "1      CL   23 Senador Jaime Guzman  2023-06-27 00:00:00  Tuesday  88256140   \n",
       "2      CL  Las Condes Poniente SCL3  2023-06-27 00:00:00  Tuesday  88287753   \n",
       "3      CL          20 Pedro Fontova  2023-06-27 00:00:00  Tuesday  88290753   \n",
       "4      CL       Campus Oriente SCL4  2023-06-27 00:00:00  Tuesday  88291146   \n",
       "\n",
       "   user_total_orders % completed orders user     payment_method  order_price  \\\n",
       "0                111                 95.50 %  rappi_pay_gateway    25.407407   \n",
       "1                  4                 50.00 %             cc-N/A    43.049383   \n",
       "2                208                 99.04 %          cc-credit   119.438889   \n",
       "3                405                 95.31 %             cc-N/A    13.061728   \n",
       "4                455                 96.92 %             cc-N/A    36.740741   \n",
       "\n",
       "   item_count               city  \\\n",
       "0         2.0  Santiago de Chile   \n",
       "1         1.0  Santiago de Chile   \n",
       "2        11.0  Santiago de Chile   \n",
       "3         1.0  Santiago de Chile   \n",
       "4         3.0  Santiago de Chile   \n",
       "\n",
       "                                    brand_group        lat        lng  \\\n",
       "0                          Botillería Echenique -33.433491 -70.581792   \n",
       "1                             SOLOROSASYALGOMAS -33.403637 -70.657823   \n",
       "2                                         Jumbo -33.402225 -70.598952   \n",
       "3                                         Lider -33.380700 -70.686793   \n",
       "4  Jardineria teresa jacqueline huenun espinoza -33.449619 -70.635816   \n",
       "\n",
       "   t04_picking_time  t05_cashier_time  t06_requesting_rt_time vehicle_type  \\\n",
       "0               NaN           14187.0                     NaN      Bicycle   \n",
       "1               2.0               0.0                     NaN   Motorcycle   \n",
       "2               8.0              12.0                     1.0   Motorcycle   \n",
       "3               NaN               0.0                     NaN          NaN   \n",
       "4               NaN               0.0                     NaN   Motorcycle   \n",
       "\n",
       "  store_category  out_of_stock  wrong_order  tag_cancel  distance_km  \\\n",
       "0   Licours Shop             0        False       False          2.0   \n",
       "1     E-commerce             0         True        True          3.0   \n",
       "2    Supermarket             0        False       False          4.0   \n",
       "3    Supermarket             0         True        True          2.0   \n",
       "4     E-commerce             0         True        True          4.0   \n",
       "\n",
       "  use_credit  hora  coberture area  cashback_amount  \n",
       "0        NaN    23             NaN              NaN  \n",
       "1        NaN     0             NaN              NaN  \n",
       "2        NaN    12             NaN              NaN  \n",
       "3        NaN    13             NaN              NaN  \n",
       "4        NaN    13             NaN              NaN  "
      ]
     },
     "execution_count": 31,
     "metadata": {},
     "output_type": "execute_result"
    }
   ],
   "source": [
    "df.head()"
   ]
  },
  {
   "cell_type": "markdown",
   "id": "4b732948",
   "metadata": {},
   "source": [
    "The variables ORDER_ID and DATE are being dropped since these data  is most useful in traceability than predictibility\n"
   ]
  },
  {
   "cell_type": "code",
   "execution_count": 32,
   "id": "b345f0fc",
   "metadata": {
    "tags": []
   },
   "outputs": [],
   "source": [
    "# Dropping unecessary columns\n",
    "df.drop(['order_id'], axis= 1,inplace= True)"
   ]
  },
  {
   "cell_type": "markdown",
   "id": "dc427dfc",
   "metadata": {},
   "source": [
    "The data checked present a lot of variables with blank data. The next strategies are going to be implemented on the data:\n",
    "\n",
    "+ Imputing the mean or mode value for the blank values: For the variables  'STORE_CATEGORY','VEHICLE_TYPE' Since, in this categories,the is an actual probability that the values are related to the median or mode.\n",
    "+ Drop rows of the null values: 'LAT','LNG','POLYGON_SIZE'. The number of rows are low and can be dropped.\n",
    "+ Put the fixed value 'FALSE' in 'USE_CREDIT': Since this is a boolean variable, and the blanks values mean False\n",
    "+ Put the fixed value of 0: For the variables T04,T05,T06, and rappi_amount because these variabkes are time variables and currency, in which if they don't have value means that for that field, it doesn't apply the variable.\n",
    "+ Finally, the variable % completed orders is in varchar and is going to be changed to decimal value\n"
   ]
  },
  {
   "cell_type": "code",
   "execution_count": null,
   "id": "4d909457",
   "metadata": {
    "colab": {
     "base_uri": "https://localhost:8080/"
    },
    "outputId": "43ade14f-190a-4b71-d420-bf5b12b91ede"
   },
   "outputs": [],
   "source": [
    "# Checking null values\n",
    "df.isnull().sum()"
   ]
  },
  {
   "cell_type": "code",
   "execution_count": null,
   "id": "a49cd8c9",
   "metadata": {
    "colab": {
     "base_uri": "https://localhost:8080/"
    },
    "outputId": "a6d29dc4-33f9-4c9e-ed89-387c8feb570d"
   },
   "outputs": [],
   "source": [
    "df.info()"
   ]
  },
  {
   "cell_type": "code",
   "execution_count": 18,
   "id": "2e90ef84",
   "metadata": {
    "colab": {
     "base_uri": "https://localhost:8080/"
    },
    "outputId": "cc4b0b35-8b05-42eb-d202-ba81070badb2",
    "tags": []
   },
   "outputs": [
    {
     "name": "stdout",
     "output_type": "stream",
     "text": [
      "<class 'pandas.core.frame.DataFrame'>\n",
      "RangeIndex: 62382 entries, 0 to 62381\n",
      "Data columns (total 4 columns):\n",
      " #   Column          Non-Null Count  Dtype  \n",
      "---  ------          --------------  -----  \n",
      " 0   vehicle_type    61388 non-null  object \n",
      " 1   store_category  61964 non-null  object \n",
      " 2   distance_km     62380 non-null  float64\n",
      " 3   out_of_stock    62382 non-null  int64  \n",
      "dtypes: float64(1), int64(1), object(2)\n",
      "memory usage: 1.9+ MB\n"
     ]
    }
   ],
   "source": [
    "df[['vehicle_type', 'store_category', 'distance_km', 'out_of_stock']].info()"
   ]
  },
  {
   "cell_type": "code",
   "execution_count": 19,
   "id": "4a688ba9",
   "metadata": {
    "tags": []
   },
   "outputs": [],
   "source": [
    "# Removing % label\n",
    "df['% completed orders user']=df['% completed orders user'].str.replace('%',' ')\n",
    "\n",
    "df['% completed orders user']=df['% completed orders user'].astype('float')\n",
    "df['% completed orders user']=df['% completed orders user']/100"
   ]
  },
  {
   "cell_type": "code",
   "execution_count": 20,
   "id": "MgiW6B7J4J0p",
   "metadata": {
    "colab": {
     "base_uri": "https://localhost:8080/"
    },
    "outputId": "b2e20ad5-5ad2-43a8-a657-821a86b866f5",
    "tags": []
   },
   "outputs": [
    {
     "name": "stdout",
     "output_type": "stream",
     "text": [
      "<class 'pandas.core.frame.DataFrame'>\n",
      "RangeIndex: 62382 entries, 0 to 62381\n",
      "Data columns (total 1 columns):\n",
      " #   Column                   Non-Null Count  Dtype  \n",
      "---  ------                   --------------  -----  \n",
      " 0   % completed orders user  62382 non-null  float64\n",
      "dtypes: float64(1)\n",
      "memory usage: 487.5 KB\n"
     ]
    }
   ],
   "source": [
    "df[['% completed orders user']].info()"
   ]
  },
  {
   "cell_type": "code",
   "execution_count": null,
   "id": "fdde55dd",
   "metadata": {},
   "outputs": [],
   "source": [
    "# Remove missing values\n",
    "df.dropna(subset=['lat','lng','vehicle_type'],inplace=True)"
   ]
  },
  {
   "cell_type": "code",
   "execution_count": null,
   "id": "TnWu4NDLqX4y",
   "metadata": {},
   "outputs": [],
   "source": [
    "#Imputing values of mode and mean for the variables\n",
    "\n",
    "mode_ps = df['polygon_size'].mode()[0]\n",
    "df['polygon_size'].fillna(mode_ps, inplace=True)"
   ]
  },
  {
   "cell_type": "code",
   "execution_count": null,
   "id": "9gFYOI6JtXUY",
   "metadata": {},
   "outputs": [],
   "source": [
    "mean_ic = df['item_count'].mean()\n",
    "df['item_count'].fillna(mean_ic, inplace=True)"
   ]
  },
  {
   "cell_type": "code",
   "execution_count": null,
   "id": "VDNTiq8zvmYs",
   "metadata": {},
   "outputs": [],
   "source": [
    "mode_sc = df['store_category'].mode()[0]\n",
    "df['store_category'].fillna(mode_sc, inplace=True)"
   ]
  },
  {
   "cell_type": "code",
   "execution_count": null,
   "id": "0a0f5e1b",
   "metadata": {},
   "outputs": [],
   "source": [
    "# Replace missing values\n",
    "df.fillna({'t04_picking_time': 0, 't05_cashier_time': 0, 't06_requesting_rt_time':0, 'rappi_amount':0}, inplace=True)"
   ]
  },
  {
   "cell_type": "code",
   "execution_count": null,
   "id": "0f78a9f6",
   "metadata": {},
   "outputs": [],
   "source": [
    "# Replace missing values\n",
    "df.fillna({'use_credit': False},inplace=True)"
   ]
  },
  {
   "cell_type": "code",
   "execution_count": null,
   "id": "3d2589a5",
   "metadata": {
    "colab": {
     "base_uri": "https://localhost:8080/"
    }
   },
   "outputs": [],
   "source": [
    "#| outputId: 686401bb-353a-4d9d-a8ea-5f2c001466c6\n",
    "zero_count = (df['order_value_usd'] == 0).sum()\n",
    "print(zero_count)"
   ]
  },
  {
   "cell_type": "code",
   "execution_count": null,
   "id": "eeed3c0e",
   "metadata": {
    "colab": {
     "base_uri": "https://localhost:8080/"
    }
   },
   "outputs": [],
   "source": [
    "#| outputId: aea1cf6c-64c4-489b-be54-9c070e444764\n",
    "# Check duplicate values\n",
    "dup_value = df.duplicated().sum()\n",
    "print(dup_value)"
   ]
  },
  {
   "cell_type": "code",
   "execution_count": null,
   "id": "ITbvK_bRvt_G",
   "metadata": {
    "colab": {
     "base_uri": "https://localhost:8080/"
    }
   },
   "outputs": [],
   "source": [
    "#| outputId: 9cda9ae6-bc82-4a3c-a89f-bd681c202b76\n",
    "\n",
    "df.isnull().sum()"
   ]
  },
  {
   "cell_type": "code",
   "execution_count": null,
   "id": "a6f25443",
   "metadata": {
    "colab": {
     "base_uri": "https://localhost:8080/",
     "height": 337
    }
   },
   "outputs": [],
   "source": [
    "#| outputId: 5e4f76a0-ca18-468d-9097-04d670449512\n",
    "df.describe()"
   ]
  },
  {
   "cell_type": "code",
   "execution_count": null,
   "id": "HcbM-FWT3mRy",
   "metadata": {
    "colab": {
     "base_uri": "https://localhost:8080/",
     "height": 382
    }
   },
   "outputs": [],
   "source": [
    "#| outputId: 7b788859-7363-4f79-cabe-e6f9143717c0\n",
    "df.head()"
   ]
  },
  {
   "cell_type": "code",
   "execution_count": null,
   "id": "YFNWGwR70dD_",
   "metadata": {},
   "outputs": [],
   "source": [
    "# Removing negative values\n",
    "negative_cols = ['user_total_orders', 'item_count', 't04_picking_time', 't05_cashier_time', 't06_requesting_rt_time',\n",
    "                 'out_of_stock', 'distance_km', 'hora', 'polygon_size', 'rappi_amount']\n",
    "\n",
    "# Create a mask that identifies rows with any negative value in the specified columns\n",
    "negative_mask = df[negative_cols].lt(0).any(axis=1)\n",
    "\n",
    "# Use the mask to filter out rows with negative values\n",
    "df1 = df[~negative_mask]"
   ]
  },
  {
   "cell_type": "code",
   "execution_count": null,
   "id": "075c878a",
   "metadata": {},
   "outputs": [],
   "source": [
    "# Separating quantiative & Categorical variables\n",
    "df_cat = df.select_dtypes(include=['object','bool'])\n",
    "df_quan = df.select_dtypes(exclude=['object','bool'])"
   ]
  },
  {
   "cell_type": "code",
   "execution_count": null,
   "id": "578d0afc",
   "metadata": {
    "colab": {
     "base_uri": "https://localhost:8080/",
     "height": 825
    }
   },
   "outputs": [],
   "source": [
    "#| outputId: 9c641fe6-9222-48f8-efec-bace87d20362\n",
    "# Create a heatmap\n",
    "plt.figure(figsize=(10, 8))\n",
    "df_quan_corr = df_quan.corr(method = 'spearman' )\n",
    "ax = sns.heatmap(df_quan_corr, annot=True, cmap='coolwarm', center=0,fmt='.2g',xticklabels='auto', yticklabels='auto',linewidth=.8,cbar_kws={\"shrink\": .8})\n",
    "ax.tick_params(axis='both', which='both', labelsize=8)\n",
    "plt.title(\"Correlation Heatmap\")\n",
    "plt.show()"
   ]
  },
  {
   "cell_type": "code",
   "execution_count": null,
   "id": "fb13e892",
   "metadata": {
    "colab": {
     "base_uri": "https://localhost:8080/",
     "height": 1000
    }
   },
   "outputs": [],
   "source": [
    "#| outputId: a75cbf89-f1b5-48e0-e4f8-6357b77dfc7c\n",
    "# Create a pairplot\n",
    "sns.pairplot(df_quan)"
   ]
  },
  {
   "cell_type": "code",
   "execution_count": null,
   "id": "DydpUVdj3HEK",
   "metadata": {
    "colab": {
     "base_uri": "https://localhost:8080/",
     "height": 1000
    }
   },
   "outputs": [],
   "source": [
    "#| outputId: 6d8ea6aa-e0b4-4464-9bbf-ff1a06d2bcf3\n",
    "for col in df_quan.columns:\n",
    "    fig, ax = plt.subplots(1, 2, figsize=(10, 4))\n",
    "\n",
    "    # Histogram\n",
    "    sns.histplot(df_quan[col], kde=True, bins=20, ax=ax[0])\n",
    "    ax[0].set_title(f'Histogram for {col}')\n",
    "    ax[0].set_xlabel(col)\n",
    "    ax[0].set_ylabel('Frequency')\n",
    "\n",
    "    # Box plot\n",
    "    sns.boxplot(x=df_quan[col], ax=ax[1])\n",
    "    ax[1].set_title(f'Boxplot for {col}')\n",
    "    ax[1].set_xlabel(col)\n",
    "\n",
    "    plt.tight_layout()\n",
    "    plt.show()"
   ]
  },
  {
   "cell_type": "code",
   "execution_count": null,
   "id": "3MzrqOjUTry1",
   "metadata": {
    "colab": {
     "base_uri": "https://localhost:8080/"
    }
   },
   "outputs": [],
   "source": [
    "#| outputId: 7d9acb50-fc98-42ab-8168-9b4edd15a23a\n",
    "df_quan.columns"
   ]
  },
  {
   "cell_type": "code",
   "execution_count": null,
   "id": "9DckTUvbSDU6",
   "metadata": {
    "colab": {
     "base_uri": "https://localhost:8080/"
    }
   },
   "outputs": [],
   "source": [
    "#| outputId: d9361bdb-e1c1-45ef-d7bd-19210c87cc12\n",
    "#Removing outliers for : % completed orders user, picking_time, cashier_time, t_06, polygon size, rapi_amount\n",
    "columns = ['t04_picking_time', 't05_cashier_time',\n",
    "           't06_requesting_rt_time', 'polygon_size', 'rappi_amount']\n",
    "\n",
    "Q1 = df[columns].quantile(0.25)\n",
    "Q3 = df[columns].quantile(0.75)\n",
    "IQR = Q3 - Q1\n",
    "\n",
    "lower_bound = Q1 - 1.5 * IQR\n",
    "upper_bound = Q3 + 1.5 * IQR\n",
    "\n",
    "outliers = pd.DataFrame()\n",
    "for col in columns:\n",
    "    condition = (df[col] < lower_bound[col]) | (df[col] > upper_bound[col])\n",
    "    outliers = outliers.append(df[condition], ignore_index=True)"
   ]
  },
  {
   "cell_type": "code",
   "execution_count": null,
   "id": "851ee88b",
   "metadata": {
    "colab": {
     "base_uri": "https://localhost:8080/",
     "height": 423
    }
   },
   "outputs": [],
   "source": [
    "#| outputId: ae94df23-985b-41a6-c9be-f99a1be8221c\n",
    "#chi_squared for categorical\n",
    "from scipy.stats import chi2_contingency\n",
    "\n",
    "chi_squared_results = pd.DataFrame(columns=['Variable 1', 'Variable 2', 'Chi-Squared', 'P-Value'])\n",
    "\n",
    "for var1 in df_cat:\n",
    "    for var2 in df_cat:\n",
    "        if var1 != var2:\n",
    "          #if var2 =='bad_order':\n",
    "            contingency_table = pd.crosstab(df[var1], df[var2])\n",
    "\n",
    "            chi2, p, _, _ = chi2_contingency(contingency_table)\n",
    "\n",
    "\n",
    "            new_row = pd.DataFrame({'Variable 1': [var1], 'Variable 2': [var2], 'Chi-Squared': [chi2], 'P-Value': [p]})\n",
    "\n",
    "            chi_squared_results = pd.concat([chi_squared_results, new_row], ignore_index=True)\n",
    "\n",
    "chi_squared_results"
   ]
  },
  {
   "cell_type": "code",
   "execution_count": null,
   "id": "2lBB8sKG2Qs6",
   "metadata": {},
   "outputs": [],
   "source": [
    "#Checking for independance between our outcome bad_order and the categorical variables"
   ]
  },
  {
   "cell_type": "code",
   "execution_count": null,
   "id": "aVISIIh601uN",
   "metadata": {
    "colab": {
     "base_uri": "https://localhost:8080/",
     "height": 537
    }
   },
   "outputs": [],
   "source": [
    "#| outputId: 97f08420-5c5a-456b-800d-c935d62e4b04\n",
    "#chi_squared for categorical\n",
    "from scipy.stats import chi2_contingency\n",
    "\n",
    "chi_squared_results = pd.DataFrame(columns=['Variable', 'Chi-Squared', 'P-Value'])\n",
    "\n",
    "outcome_variable = 'bad_order'\n",
    "\n",
    "for var in df_cat:\n",
    "        if var != outcome_variable:\n",
    "            contingency_table = pd.crosstab(df[outcome_variable], df[var])\n",
    "\n",
    "            chi2, p, _, _ = chi2_contingency(contingency_table)\n",
    "\n",
    "\n",
    "            new_row = pd.DataFrame({'Variable': var, 'Chi-Squared': [chi2], 'P-Value': [p]})\n",
    "\n",
    "            chi_squared_results = pd.concat([chi_squared_results, new_row], ignore_index=True)\n",
    "\n",
    "            if p < 0.05:\n",
    "              print(f\"There is a significant association between {outcome_variable} and {var} (p-value = {p:.2f})\")\n",
    "            else:\n",
    "              print(f\"There is no significant association between {outcome_variable} and {var} (p-value = {p:.2f})\")\n",
    "\n",
    "#H0 there is no relathionship between the variables\n",
    "\n",
    "chi_squared_results"
   ]
  },
  {
   "cell_type": "code",
   "execution_count": null,
   "id": "5osM0-AIrvPj",
   "metadata": {},
   "outputs": [],
   "source": [
    "#Perfoming ANOVA TEST for mixed categorical and numerical values"
   ]
  },
  {
   "cell_type": "code",
   "execution_count": null,
   "id": "9jwSPeji97v-",
   "metadata": {
    "colab": {
     "base_uri": "https://localhost:8080/"
    }
   },
   "outputs": [],
   "source": [
    "#| outputId: 1eae5d9e-8661-49d4-b746-08e690e99de0\n",
    "import statsmodels.api as sm\n",
    "from statsmodels.formula.api import ols\n",
    "from statsmodels.stats.anova import anova_lm\n",
    "\n",
    "# List of numerical variables for the ANOVA tests\n",
    "df_cuantitative = ['% completed orders user', 'order_value_usd', 'item_count', 't04_picking_time', 't05_cashier_time', 't06_requesting_rt_time', 'out_of_stock', 'distance_km', 'hora']\n",
    "\n",
    "# Perform ANOVA for numerical variables\n",
    "for num_var in df_cuantitative:\n",
    "    formula = f'{num_var} ~ C(bad_order)'\n",
    "    try:\n",
    "        model = ols(formula, data=df).fit()\n",
    "        anova_table = anova_lm(model)\n",
    "        print(f\"ANOVA table for {num_var} and bad_order:\")\n",
    "        print(anova_table)\n",
    "\n",
    "        p_value = anova_table['PR(>F)'][0]\n",
    "        if p_value < 0.05:\n",
    "            print(f\"There is a significant difference between the means of the groups defined by bad_order for {num_var} (p-value = {p_value:.2f})\")\n",
    "        else:\n",
    "            print(f\"There is no difference between the means of k groups\")\n",
    "\n",
    "        print(\"=\" * 40)\n",
    "\n",
    "    except Exception as e:\n",
    "        print(f\"Error for {num_var} and bad_order: {str(e)}\")"
   ]
  },
  {
   "cell_type": "markdown",
   "id": "3b77e246",
   "metadata": {},
   "source": [
    "#\n",
    "\n",
    "# 4. Machine Learning\n"
   ]
  },
  {
   "cell_type": "code",
   "execution_count": null,
   "id": "n-XcZfCc2sBM",
   "metadata": {
    "colab": {
     "base_uri": "https://localhost:8080/",
     "height": 496
    }
   },
   "outputs": [],
   "source": [
    "#| outputId: f74e815c-4824-46b3-de18-e2883cc07b72\n",
    "# Feature engineering\n",
    "df_quan"
   ]
  },
  {
   "cell_type": "markdown",
   "id": "a0d9b195",
   "metadata": {},
   "source": [
    "For this part we are going to start put the data in a standarization and onehot encoding so the data is ready to be inserted in the modeling. For it, we are going to use the Pipeline method\n"
   ]
  },
  {
   "cell_type": "code",
   "execution_count": null,
   "id": "RiJbeE4aRMk3",
   "metadata": {},
   "outputs": [],
   "source": [
    "from sklearn.base import BaseEstimator, TransformerMixin\n",
    "\n",
    "class VariableSelector(BaseEstimator, TransformerMixin):\n",
    "    def __init__(self,attribute_names):\n",
    "        self.attribute_names = attribute_names\n",
    "\n",
    "    def fit(self, X , y=None):\n",
    "        return self\n",
    "\n",
    "    def transform(self, X):\n",
    "        return X[self.attribute_names]"
   ]
  },
  {
   "cell_type": "code",
   "execution_count": null,
   "id": "8YFs5anrS2fZ",
   "metadata": {},
   "outputs": [],
   "source": [
    "columns_quan = list(df_quan.columns)"
   ]
  },
  {
   "cell_type": "code",
   "execution_count": null,
   "id": "FUdB_49oqFEX",
   "metadata": {
    "colab": {
     "base_uri": "https://localhost:8080/"
    }
   },
   "outputs": [],
   "source": [
    "#| outputId: dc53a649-d787-42a7-b711-6a7307bea2ba\n",
    "columns_quan"
   ]
  },
  {
   "cell_type": "code",
   "execution_count": null,
   "id": "Vf0TtPVlCI4s",
   "metadata": {},
   "outputs": [],
   "source": [
    "#quantitative\n",
    "from sklearn.pipeline import Pipeline\n",
    "from sklearn.preprocessing import StandardScaler\n",
    "\n",
    "quanti_pipeline = Pipeline(\n",
    "    [\n",
    "     ('selector', VariableSelector(columns_quan)),\n",
    "     ('std_scaler', StandardScaler())\n",
    "    ]\n",
    "    )"
   ]
  },
  {
   "cell_type": "code",
   "execution_count": null,
   "id": "vr58mI9wPnSb",
   "metadata": {},
   "outputs": [],
   "source": [
    "#It is being checked in the case of the categorical variables, which values can be apprved for a OHE method or label encoding\n",
    "\n",
    "df_cat_oh = ['country','payment_method','city','vehicle_type','store_category','use_credit']\n",
    "df_cat_le = ['district_name','brand_group']"
   ]
  },
  {
   "cell_type": "code",
   "execution_count": null,
   "id": "Q7ry8PnmuA52",
   "metadata": {},
   "outputs": [],
   "source": [
    "from sklearn.preprocessing import OneHotEncoder as OHE\n",
    "\n",
    "cuali_pipeline_ohe = Pipeline(\n",
    "\n",
    "  [\n",
    "    ('selector',VariableSelector(df_cat_oh)),\n",
    "    ('OHE_columns',OHE(sparse=False))\n",
    "\n",
    "  ]\n",
    "\n",
    ")"
   ]
  },
  {
   "cell_type": "code",
   "execution_count": null,
   "id": "6KzHw1JwwpZW",
   "metadata": {},
   "outputs": [],
   "source": [
    "from sklearn.preprocessing import OrdinalEncoder as OE\n",
    "\n",
    "cuali_pipeline_le =Pipeline(\n",
    "\n",
    "                            [\n",
    "                             ('selector',VariableSelector(df_cat_le)),\n",
    "                             ('LE_columns', OE())\n",
    "                            ]\n",
    "\n",
    ")"
   ]
  },
  {
   "cell_type": "code",
   "execution_count": null,
   "id": "ezXkHJ0jxDWs",
   "metadata": {},
   "outputs": [],
   "source": [
    "from sklearn.pipeline import FeatureUnion\n",
    "\n",
    "full_pipeline =FeatureUnion(\n",
    "    transformer_list=[\n",
    "        ('num_pipeline', quanti_pipeline),\n",
    "        ('ohe_pipeline',cuali_pipeline_ohe),\n",
    "        ('le_pipeline',cuali_pipeline_le)\n",
    "                      ]\n",
    ")"
   ]
  },
  {
   "cell_type": "markdown",
   "id": "fb7ab55e",
   "metadata": {},
   "source": [
    "Once that is defined the Pipeline, to do the adjustements on the data. It is going to be retrieved from the main dataset the y to be predicted\n"
   ]
  },
  {
   "cell_type": "code",
   "execution_count": null,
   "id": "BYIKpwCqzz0a",
   "metadata": {
    "colab": {
     "base_uri": "https://localhost:8080/"
    }
   },
   "outputs": [],
   "source": [
    "#| outputId: d1859de8-be27-4742-8cf3-3d8fa53e3919\n",
    "x_df = full_pipeline.fit_transform(df)"
   ]
  },
  {
   "cell_type": "code",
   "execution_count": null,
   "id": "HrrMSxjb-Oq3",
   "metadata": {},
   "outputs": [],
   "source": [
    "X = x_df\n",
    "y = df['bad_order']"
   ]
  },
  {
   "cell_type": "code",
   "execution_count": null,
   "id": "sNkdNGhY-WZk",
   "metadata": {},
   "outputs": [],
   "source": [
    "from sklearn.model_selection import train_test_split\n",
    "X_train,X_test,y_train,y_test = train_test_split(X,y, test_size=0.2,random_state=42,shuffle=True,stratify = y)"
   ]
  },
  {
   "cell_type": "markdown",
   "id": "ba1a70ce",
   "metadata": {},
   "source": [
    "Now that we splited our data, we will apply 3 models on our categorical outcome (Logistic regression, Classification Tree, Random Forest)\n",
    "\n",
    "+ LOGISTICS REGRESSION\n"
   ]
  },
  {
   "cell_type": "code",
   "execution_count": null,
   "id": "oKfS9uCnUQ1K",
   "metadata": {
    "colab": {
     "base_uri": "https://localhost:8080/"
    }
   },
   "outputs": [],
   "source": [
    "#| outputId: 3486cf94-e98f-4116-af5d-1551189cf880\n",
    "#Logistic Regression Model Fitting\n",
    "\n",
    "from sklearn.linear_model import LogisticRegression\n",
    "logreg = LogisticRegression(penalty = None, solver = 'newton-cholesky')\n",
    "logreg.fit(X_train, y_train)\n",
    "\n",
    "#Predicting the test set results\n",
    "lr_pred = logreg.predict(X_test)"
   ]
  },
  {
   "cell_type": "code",
   "execution_count": null,
   "id": "ZHYqr_e4aFGa",
   "metadata": {
    "colab": {
     "base_uri": "https://localhost:8080/"
    }
   },
   "outputs": [],
   "source": [
    "#| outputId: e735ed6f-daa8-4861-90c8-ecddb3afea46\n",
    "#Calculating the accuracy\n",
    "print('Accuracy of Logistic Regression classifier on test set: {:.2f}'.format(logreg.score(X_test, y_test)))"
   ]
  },
  {
   "cell_type": "code",
   "execution_count": null,
   "id": "QXt-103laHKX",
   "metadata": {
    "colab": {
     "base_uri": "https://localhost:8080/"
    }
   },
   "outputs": [],
   "source": [
    "#| outputId: 4b68c1b2-fcc9-4ec8-935c-a5d06d77d166\n",
    "#Checking crossvalidated performance\n",
    "from sklearn.model_selection import cross_val_score\n",
    "cv_score = cross_val_score(logreg, X_test, y_test)\n",
    "print(f\"average cross validated score : {np.mean(cv_score)}\")"
   ]
  },
  {
   "cell_type": "code",
   "execution_count": null,
   "id": "sRyfNy49akb1",
   "metadata": {
    "colab": {
     "base_uri": "https://localhost:8080/",
     "height": 605
    }
   },
   "outputs": [],
   "source": [
    "#| outputId: c9211f44-275c-4f72-d01c-6317d12ce990\n",
    "#Logistic Regression model performance with Confusion Matrix\n",
    "from sklearn.metrics import confusion_matrix, classification_report, ConfusionMatrixDisplay\n",
    "confusion_matrix_lr = confusion_matrix(y_test, lr_pred, labels= logreg.classes_)\n",
    "ConfusionMatrixDisplay(confusion_matrix_lr, display_labels = logreg.classes_).plot()\n",
    "print(classification_report(y_test,lr_pred))"
   ]
  },
  {
   "cell_type": "code",
   "execution_count": null,
   "id": "mi95v6wXuWLW",
   "metadata": {
    "colab": {
     "base_uri": "https://localhost:8080/",
     "height": 81
    }
   },
   "outputs": [],
   "source": [
    "#| outputId: 3c50d8ba-fb78-4603-f4ff-de8dfbdf88d1\n",
    "from sklearn.metrics import accuracy_score,precision_score,recall_score, f1_score,roc_auc_score,cohen_kappa_score,roc_curve\n",
    "accuracy_lr = accuracy_score(y_test, lr_pred)\n",
    "precision_lr = precision_score(y_test, lr_pred)\n",
    "sensitivity_lr = recall_score(y_test, lr_pred)\n",
    "f1_lr = f1_score(y_test, lr_pred)\n",
    "\n",
    "#ROC Curve\n",
    "lr_pred_prob= logreg.predict_proba(X_test)\n",
    "fpr, tpr, thresholds = roc_curve(y_test, lr_pred_prob[:,1])\n",
    "lr_roc_auc = roc_auc_score(y_test, lr_pred_prob[:,1])\n",
    "\n",
    "\n",
    "result_lr = pd.DataFrame([['Log. reg.',accuracy_lr, precision_lr, sensitivity_lr,f1_lr,lr_roc_auc]], columns=('model','accuracy','precision','sensitivity','f1','roc'))\n",
    "result_lr"
   ]
  },
  {
   "cell_type": "code",
   "execution_count": null,
   "id": "8L9_Uz8F2_Et",
   "metadata": {
    "colab": {
     "base_uri": "https://localhost:8080/",
     "height": 547
    }
   },
   "outputs": [],
   "source": [
    "#| outputId: f4ef2538-279b-49e8-e6ec-ab92b18129f9\n",
    "plt.figure(figsize=(8, 6))\n",
    "plt.plot(fpr, tpr, color='blue', lw=2, label=' Logit Regression - ROC curve (area = {:.2f})'.format(lr_roc_auc))\n",
    "plt.plot([0, 1], [0, 1], color='black', lw=2, linestyle='--')\n",
    "plt.xlim([0.0, 1])\n",
    "plt.ylim([0.0, 1])\n",
    "plt.xlabel('False Positive Rate')\n",
    "plt.ylabel('True Positive Rate')\n",
    "plt.legend(loc='lower center')\n",
    "plt.show()"
   ]
  },
  {
   "cell_type": "markdown",
   "id": "6685f4c1",
   "metadata": {},
   "source": [
    "+ Decision Tree\n"
   ]
  },
  {
   "cell_type": "code",
   "execution_count": null,
   "id": "Y61JiIaRc-ok",
   "metadata": {},
   "outputs": [],
   "source": [
    "#Classification Tree Model Fitting\n",
    "\n",
    "from sklearn.tree import DecisionTreeClassifier\n",
    "# Initializing Decision Tree classifer object\n",
    "clf = DecisionTreeClassifier()\n",
    "\n",
    "# Train Decision Tree Classifer\n",
    "clf.fit(X_train,y_train)\n",
    "\n",
    "#Predicting on the test set\n",
    "clf_pred = clf.predict(X_test)"
   ]
  },
  {
   "cell_type": "code",
   "execution_count": null,
   "id": "ODs86tWzfBaQ",
   "metadata": {
    "colab": {
     "base_uri": "https://localhost:8080/"
    }
   },
   "outputs": [],
   "source": [
    "#| outputId: 587ee7bc-1e66-4e13-a4ec-e19251f222a3\n",
    "#Calculating the model accuracy, how often is the classifier correct ?\n",
    "from sklearn.metrics import accuracy_score\n",
    "\n",
    "print(\"Accuracy Decision Tree Classifier: {:.2f}\".format(accuracy_score(y_test, clf_pred)))"
   ]
  },
  {
   "cell_type": "code",
   "execution_count": null,
   "id": "XsBI-HvQgl-Y",
   "metadata": {
    "colab": {
     "base_uri": "https://localhost:8080/",
     "height": 605
    }
   },
   "outputs": [],
   "source": [
    "#| outputId: 1d6a834a-9106-45eb-ffda-7c00f460e39d\n",
    "#Classification Tree Model performance\n",
    "from sklearn.metrics import confusion_matrix, classification_report, ConfusionMatrixDisplay\n",
    "confusion_matrix_clf = confusion_matrix(y_test, clf_pred, labels = clf.classes_)\n",
    "ConfusionMatrixDisplay(confusion_matrix_clf, display_labels= clf.classes_).plot()\n",
    "print(classification_report(y_test, clf_pred))"
   ]
  },
  {
   "cell_type": "code",
   "execution_count": null,
   "id": "EUylQmhboMdl",
   "metadata": {},
   "outputs": [],
   "source": [
    "from sklearn.tree import export_graphviz\n",
    "\n",
    "export_graphviz(\n",
    " clf,\n",
    " out_file=(\"order_simple.dot\"),\n",
    " feature_names=None,\n",
    " class_names=None,\n",
    " filled=True,\n",
    ")"
   ]
  },
  {
   "cell_type": "code",
   "execution_count": null,
   "id": "51qc8leCp7HL",
   "metadata": {
    "colab": {
     "base_uri": "https://localhost:8080/"
    }
   },
   "outputs": [],
   "source": [
    "#| outputId: c44e4b24-fc4d-49b5-ad2e-6265ae063a48\n",
    "!dot -Tpng hitters_simple.dot -o hitters_simple.png"
   ]
  },
  {
   "cell_type": "code",
   "execution_count": null,
   "id": "Lc8ZBLsQp_C_",
   "metadata": {
    "colab": {
     "base_uri": "https://localhost:8080/",
     "height": 1000
    }
   },
   "outputs": [],
   "source": [
    "#| outputId: 2cc96b19-d524-401b-86cb-a05fa1c2b3d6\n",
    "from IPython.display import Image\n",
    "Image(\"order_simple.png\")"
   ]
  },
  {
   "cell_type": "code",
   "execution_count": null,
   "id": "P9tFz8LE7lA6",
   "metadata": {
    "colab": {
     "base_uri": "https://localhost:8080/",
     "height": 81
    }
   },
   "outputs": [],
   "source": [
    "#| outputId: 064abd2c-2201-4212-c2d9-243621df8726\n",
    "accuracy_clf = accuracy_score(y_test, clf_pred)\n",
    "precision_clf = precision_score(y_test, clf_pred)\n",
    "sensitivity_clf = recall_score(y_test, clf_pred)\n",
    "f1_clf = f1_score(y_test, clf_pred)\n",
    "\n",
    "\n",
    "#ROC Curve\n",
    "clf_pred_prob= clf.predict_proba(X_test)\n",
    "fpr, tpr, thresholds = roc_curve(y_test, clf_pred_prob[:,1])\n",
    "clf_roc_auc = roc_auc_score(y_test, clf_pred_prob[:,1])\n",
    "\n",
    "\n",
    "result_clf = pd.DataFrame([['decision tree',accuracy_clf, precision_clf, sensitivity_clf,f1_clf,clf_roc_auc]], columns=('model','accuracy','precision','sensitivity','f1','roc'))\n",
    "result_clf"
   ]
  },
  {
   "cell_type": "code",
   "execution_count": null,
   "id": "ELiIc4Kjt72I",
   "metadata": {
    "colab": {
     "base_uri": "https://localhost:8080/",
     "height": 547
    }
   },
   "outputs": [],
   "source": [
    "#| outputId: 325ffcf5-f64e-4141-ae4e-a67bd3cf18ae\n",
    "plt.figure(figsize=(8, 6))\n",
    "plt.plot(fpr, tpr, color='blue', lw=2, label='Tree Dec. -ROC curve (area = {:.2f})'.format(clf_roc_auc))\n",
    "plt.plot([0, 1], [0, 1], color='black', lw=2, linestyle='--')\n",
    "plt.xlim([0.0, 1])\n",
    "plt.ylim([0.0, 1])\n",
    "plt.xlabel('False Positive Rate')\n",
    "plt.ylabel('True Positive Rate')\n",
    "plt.legend(loc='lower center')\n",
    "plt.show()"
   ]
  },
  {
   "cell_type": "markdown",
   "id": "3310a296",
   "metadata": {},
   "source": [
    "+ Random Forest\n"
   ]
  },
  {
   "cell_type": "code",
   "execution_count": null,
   "id": "8JGYuksQisjK",
   "metadata": {},
   "outputs": [],
   "source": [
    "#Random Forest Model Fitting\n",
    "\n",
    "from sklearn.ensemble import RandomForestClassifier\n",
    "# Initializing Random Forest Classifer object\n",
    "rf = RandomForestClassifier()\n",
    "\n",
    "# Train Random Forest Classifer\n",
    "rf.fit(X_train, y_train)\n",
    "\n",
    "#Predicting on the test set\n",
    "rf_pred = rf.predict(X_test)"
   ]
  },
  {
   "cell_type": "code",
   "execution_count": null,
   "id": "YZ8oAdkWkTpX",
   "metadata": {
    "colab": {
     "base_uri": "https://localhost:8080/"
    }
   },
   "outputs": [],
   "source": [
    "#| outputId: ec93bafd-9813-4089-fc1c-8d134ccb99c7\n",
    "#Calculating Random Forest model accuracy\n",
    "accuracy_rf = accuracy_score(y_test, rf_pred)\n",
    "print(\"Accuracy Random Forest Classifier: {:.2f}\".format(accuracy_rf))"
   ]
  },
  {
   "cell_type": "code",
   "execution_count": null,
   "id": "eF4f7xImkbqS",
   "metadata": {
    "colab": {
     "base_uri": "https://localhost:8080/",
     "height": 605
    }
   },
   "outputs": [],
   "source": [
    "#| outputId: a3a305cb-befa-4fc7-d8bd-24ee343bbe8b\n",
    "#Random Forest Classifier model performance\n",
    "confusion_matrix_rf = confusion_matrix(y_test, rf_pred, labels = rf.classes_)\n",
    "ConfusionMatrixDisplay(confusion_matrix_rf, display_labels= rf.classes_).plot()\n",
    "print(classification_report(y_test, rf_pred))"
   ]
  },
  {
   "cell_type": "code",
   "execution_count": null,
   "id": "uWRF0k6z9Ux_",
   "metadata": {
    "colab": {
     "base_uri": "https://localhost:8080/",
     "height": 81
    }
   },
   "outputs": [],
   "source": [
    "#| outputId: 65130ddd-1843-4276-f6b9-ba62a35bd931\n",
    "accuracy_rf = accuracy_score(y_test, rf_pred)\n",
    "precision_rf = precision_score(y_test, rf_pred)\n",
    "sensitivity_rf = recall_score(y_test, rf_pred)\n",
    "f1_rf = f1_score(y_test, rf_pred)\n",
    "\n",
    "\n",
    "#ROC Curve\n",
    "rf_pred_prob= rf.predict_proba(X_test)\n",
    "fpr, tpr, thresholds = roc_curve(y_test, rf_pred_prob[:,1])\n",
    "rf_roc_auc = roc_auc_score(y_test, rf_pred_prob[:,1])\n",
    "\n",
    "result_rf = pd.DataFrame([['random forest',accuracy_rf, precision_rf, sensitivity_rf,f1_rf,rf_roc_auc]], columns=('model','accuracy','precision','sensitivity','f1','roc'))\n",
    "result_rf"
   ]
  },
  {
   "cell_type": "markdown",
   "id": "09c78baf",
   "metadata": {},
   "source": [
    "After checking model performance accuracy (counts of correct classification) we can assume that our best model is Random Forest Classifier with 0.93% of correctly predicted predictions\n"
   ]
  },
  {
   "cell_type": "code",
   "execution_count": null,
   "id": "PHFDp0zAu6jO",
   "metadata": {
    "colab": {
     "base_uri": "https://localhost:8080/",
     "height": 547
    }
   },
   "outputs": [],
   "source": [
    "#| outputId: 5e6e03be-5e5c-4f44-e1fb-fe950cf2fb2e\n",
    "plt.figure(figsize=(8, 6))\n",
    "plt.plot(fpr, tpr, color='blue', lw=2, label='Rand. forest -ROC curve (area = {:.2f})'.format(rf_roc_auc))\n",
    "plt.plot([0, 1], [0, 1], color='black', lw=2, linestyle='--')\n",
    "plt.xlim([0.0, 1])\n",
    "plt.ylim([0.0, 1])\n",
    "plt.xlabel('False Positive Rate')\n",
    "plt.ylabel('True Positive Rate')\n",
    "plt.legend(loc='lower center')\n",
    "plt.show()"
   ]
  },
  {
   "cell_type": "code",
   "execution_count": null,
   "id": "nmHDc6Eex3ST",
   "metadata": {
    "colab": {
     "base_uri": "https://localhost:8080/",
     "height": 143
    }
   },
   "outputs": [],
   "source": [
    "#| outputId: b702ff4d-13fc-4430-e77e-7a8c6a0fbaab\n",
    "resultados = pd.concat([result_lr, result_clf,result_rf], axis=0)\n",
    "resultados"
   ]
  },
  {
   "cell_type": "markdown",
   "id": "dc47d0ba",
   "metadata": {},
   "source": [
    "Results:\n",
    "\n",
    "\n",
    "> Metrics\n",
    "\n",
    "+ Overall the accuracy between all the models seems to be high (between 86 and 92%) which meant that the models have been a great deal into predicting if the order was labeled as a good one or bad one.\n",
    "+ Precision: However, for this exercise it is most interesting to predict only the bad orders, to which this metric is most important. As it can be revised, the random forest model is the one with the best result out of the three. Which means that of the total predicted true bad orders, the model have an 86% of good prediction\n",
    "\n",
    "+ Sensitivity: However, all the models had a bad ratio in this metric. This metric indicates that the of all the True orders labeled as bad order, only ;in the best case; was predicted 30% of this cases. To make the model more fit, it will be used the methods for reduce the overfitting of the models.\n",
    "\n",
    "# Tuning model\n"
   ]
  },
  {
   "cell_type": "code",
   "execution_count": null,
   "id": "1bbX2UFaCxSS",
   "metadata": {},
   "outputs": [],
   "source": [
    "estimators = list(range(2, 50, 5))\n",
    "sens_rf_num_estimators = []\n",
    "accu_rf_num_estimators = []\n",
    "\n",
    "for n in estimators:\n",
    "    rf = RandomForestClassifier(n_estimators=n, random_state=42)\n",
    "    rf.fit(X_train, y_train)\n",
    "    y_pred = rf.predict(X_test)\n",
    "    sensitivity_rf = recall_score(y_test, rf_pred)\n",
    "    accuracy_rf = accuracy_score(y_test, rf_pred)\n",
    "\n",
    "    sens_rf_num_estimators.append(sensitivity_rf)\n",
    "    accu_rf_num_estimators.append(accuracy_rf)"
   ]
  },
  {
   "cell_type": "code",
   "execution_count": null,
   "id": "0iEoV53AKUGO",
   "metadata": {
    "colab": {
     "base_uri": "https://localhost:8080/",
     "height": 564
    }
   },
   "outputs": [],
   "source": [
    "#| outputId: 1473a373-bbf4-469e-cc8f-1075eac47fa9\n",
    "# Plotting the results\n",
    "plt.figure(figsize=(10, 6))\n",
    "plt.plot(estimators, sens_rf_num_estimators, marker='o', linestyle='-', color='b')\n",
    "plt.plot(estimators,accu_rf_num_estimators, marker='x', linestyle='-', color='r')\n",
    "plt.title('Sensitivity vs. Number of Estimators')\n",
    "plt.xlabel('Number of Estimators')\n",
    "plt.ylabel('%')\n",
    "plt.grid(True)\n",
    "plt.show()"
   ]
  },
  {
   "cell_type": "code",
   "execution_count": null,
   "id": "vn02GvzvLL30",
   "metadata": {
    "colab": {
     "base_uri": "https://localhost:8080/",
     "height": 696
    }
   },
   "outputs": [],
   "source": [
    "#| outputId: c99fa809-9ef5-49e6-ccb0-043bfc90ee13\n",
    "\n",
    "train_scores = []\n",
    "valid_scores = []\n",
    "leaves = list(range(2,30))\n",
    "for leaf in leaves :\n",
    "    dtr = RandomForestClassifier(min_samples_leaf = leaf)\n",
    "    dtr.fit(X_train, y_train)\n",
    "    train_scores.append(dtr.score(X_train, y_train))\n",
    "    valid_scores.append(dtr.score(X_test, y_test))\n",
    "\n",
    "plt.figure(figsize=(10,8))\n",
    "plt.plot(leaves, train_scores)\n",
    "plt.plot(leaves, valid_scores)\n",
    "plt.xlabel(\"minimum samples per leaf\")\n",
    "plt.ylabel(\"score values\")\n",
    "plt.legend([\"training scores\", \"validation scores\"])\n",
    "plt.show()"
   ]
  },
  {
   "cell_type": "code",
   "execution_count": null,
   "id": "XQI8Wp2DNOt5",
   "metadata": {
    "colab": {
     "base_uri": "https://localhost:8080/",
     "height": 696
    }
   },
   "outputs": [],
   "source": [
    "#| outputId: 4c0b9bf4-66a9-4594-a1d4-7c780003ddef\n",
    "train_scores = []\n",
    "valid_scores = []\n",
    "depths = list(range(2,40))\n",
    "for depth in depths :\n",
    "    dtr = RandomForestClassifier(max_depth = depth)\n",
    "    dtr.fit(X_train, y_train)\n",
    "    train_scores.append(dtr.score(X_train, y_train))\n",
    "    valid_scores.append(dtr.score(X_test, y_test))\n",
    "\n",
    "plt.figure(figsize=(10,8))\n",
    "plt.plot(depths, train_scores)\n",
    "plt.plot(depths, valid_scores)\n",
    "plt.xlabel(\"maximum depth\")\n",
    "plt.ylabel(\"score values\")\n",
    "plt.legend([\"training scores\", \"validation scores\"])\n",
    "plt.show()"
   ]
  },
  {
   "cell_type": "markdown",
   "id": "07e5439c",
   "metadata": {},
   "source": [
    "+ GridSearchCV\n"
   ]
  },
  {
   "cell_type": "code",
   "execution_count": null,
   "id": "0Yk9dKlYO2mc",
   "metadata": {
    "colab": {
     "base_uri": "https://localhost:8080/"
    }
   },
   "outputs": [],
   "source": [
    "#| outputId: 42b9e44b-f9bf-49da-e143-34f6e1c1436b\n",
    "from sklearn.model_selection import GridSearchCV\n",
    "\n",
    "params = {'max_depth': list(range(2, 15)), 'min_samples_leaf': list(range(2,20))}\n",
    "\n",
    "grid_search_cv = GridSearchCV(RandomForestClassifier(),\n",
    "                              params,\n",
    "                              verbose=1,\n",
    "                              cv=3,\n",
    "                              n_jobs=-1)\n",
    "\n",
    "grid_search_cv.fit(X_train, y_train)"
   ]
  },
  {
   "cell_type": "code",
   "execution_count": null,
   "id": "xD9kqcgUQnNx",
   "metadata": {
    "colab": {
     "base_uri": "https://localhost:8080/",
     "height": 74
    }
   },
   "outputs": [],
   "source": [
    "#| outputId: d9f4a1cc-9656-4423-b406-552a083f7cc5\n",
    "\n",
    "best_tree_model = grid_search_cv.best_estimator_\n",
    "best_tree_model"
   ]
  },
  {
   "cell_type": "code",
   "execution_count": null,
   "id": "W9hq3JbYQunC",
   "metadata": {
    "colab": {
     "base_uri": "https://localhost:8080/"
    }
   },
   "outputs": [],
   "source": [
    "#| outputId: 9e43c013-ed6b-4583-d7e4-b333022bae30\n",
    "best_tree_model.fit(X_train,y_train)\n",
    "best_tree_model.score(X_test,y_test)"
   ]
  },
  {
   "cell_type": "code",
   "execution_count": null,
   "id": "JUTjHP8gaJlL",
   "metadata": {},
   "outputs": [],
   "source": [
    "rfo_pred = best_tree_model.predict(X_test)"
   ]
  },
  {
   "cell_type": "code",
   "execution_count": null,
   "id": "ygeK2tDOZAlC",
   "metadata": {},
   "outputs": [],
   "source": [
    "from sklearn.tree import export_graphviz\n",
    "tree_to_visualize = best_tree_model.estimators_[0]\n",
    "\n",
    "export_graphviz(\n",
    "    tree_to_visualize,\n",
    "    out_file=(\"optimal_tree.dot\"),\n",
    "    feature_names=None,  # Specify your feature names if needed\n",
    "    class_names=None,    # Specify class names for classification tasks\n",
    "    filled=True\n",
    ")"
   ]
  },
  {
   "cell_type": "code",
   "execution_count": null,
   "id": "_XQGB6DgZN1S",
   "metadata": {
    "colab": {
     "base_uri": "https://localhost:8080/",
     "height": 903
    }
   },
   "outputs": [],
   "source": [
    "#| outputId: ad94dd1b-d21a-4948-ad2a-79ee7d827942\n",
    "!dot -Tpng hitters_simple.dot -o hitters_simple.png\n",
    "Image(\"optimal_tree.png\")"
   ]
  },
  {
   "cell_type": "code",
   "execution_count": null,
   "id": "515ZiPm3Z0Ik",
   "metadata": {
    "colab": {
     "base_uri": "https://localhost:8080/",
     "height": 80
    }
   },
   "outputs": [],
   "source": [
    "#| outputId: f989dcbf-41f9-453b-baac-682f6a09a18d\n",
    "accuracy_rfo = accuracy_score(y_test, rfo_pred)\n",
    "precision_rfo = precision_score(y_test, rfo_pred)\n",
    "sensitivity_rfo = recall_score(y_test, rfo_pred)\n",
    "f1_rfo = f1_score(y_test, rfo_pred)\n",
    "\n",
    "\n",
    "result_rfo = pd.DataFrame([['optimal random forest',accuracy_rfo, precision_rfo, sensitivity_rfo,f1_rfo]], columns=('model','accuracy','precision','sensitivity','f1'))\n",
    "result_rfo"
   ]
  },
  {
   "cell_type": "markdown",
   "id": "0ef95f37",
   "metadata": {},
   "source": [
    "# Unsupervised Learning\n"
   ]
  },
  {
   "cell_type": "code",
   "execution_count": null,
   "id": "zT2-ILS2H2RY",
   "metadata": {},
   "outputs": [],
   "source": [
    "'''Importing the needed libraries and getting a basic idea on the df_quant to see what we are looking at'''\n",
    "try:\n",
    "    from fanalysis.pca import PCA\n",
    "except:\n",
    "    !pip install fanalysis\n",
    "    from fanalysis.pca import PCA\n",
    "display(df[df_quan].head(3))\n",
    "display(df[df_quan].info())\n",
    "p = D.shape[1]\n",
    "n = D.shape[0]\n",
    "D = df[df_quan]\n",
    "X = D.values"
   ]
  },
  {
   "cell_type": "code",
   "execution_count": null,
   "id": "65xLXL2hH7T0",
   "metadata": {},
   "outputs": [],
   "source": [
    "'''Step 1: Try PCA to reduce dimensionality'''\n",
    "# instantiate acp object form PCA class\n",
    "acp = PCA(std_unit=True,row_labels=D.index,col_labels=D.columns) #std_unit=True, doing standardized PCA)\n",
    "\n",
    "# run PCA on X observed data\n",
    "try:\n",
    "    acp.fit(X)  # This will raise a ZeroDivisionError\n",
    "except Exception as e:\n",
    "    display(f\"An error occurred: {e}\")"
   ]
  },
  {
   "cell_type": "code",
   "execution_count": null,
   "id": "hL0ergXNH-rq",
   "metadata": {},
   "outputs": [],
   "source": [
    "'''Step 2: Trouble shooting the error, which may indicate that there are columns that are zero'''\n",
    "D_corr = D.corr()\n",
    "ax = sns.heatmap(D_corr, annot=True, cmap='coolwarm', center=0,fmt='.2g',xticklabels='auto', yticklabels='auto',linewidth=.8,cbar_kws={\"shrink\": .8})\n",
    "ax.tick_params(axis='both', which='both', labelsize=8)\n",
    "plt.title(\"Correlation Heatmap\")\n",
    "plt.show()"
   ]
  },
  {
   "cell_type": "code",
   "execution_count": null,
   "id": "D4rdcQYyIAV_",
   "metadata": {},
   "outputs": [],
   "source": [
    "'''\n",
    "Step 3: Issue becomes clear that the 't06_requesting_rt_time' is the problematic one because apparently\n",
    "after data cleaning, all the values we kept are zero, which makes sense given the value means the time it took for\n",
    "a delivery personnel to be assigned to the order, which is expected to be swifty in any delivery app.\n",
    "\n",
    "Solution here: get rid off such column and do it again\n",
    "'''\n",
    "display(D.columns[5])\n",
    "D1 = D.drop(columns = [D.columns[5]])\n",
    "X1 = D1.values\n",
    "p1 = D1.shape[1]\n",
    "n1 = D1.shape[0]\n",
    "acp = PCA(std_unit=True,row_labels=D1.index,col_labels=D1.columns) #std_unit=True, doing standardized PCA)\n",
    "acp.fit(X1)  # This will raise a ZeroDivisionError\n",
    "display(acp.col_labels)\n",
    "display(acp.eig_) # each lamda k is in the first array, and then each lamda k divided by the sum of lamda k\n",
    "#(proportion of variance explained by k),\n",
    "# aka the variance explained by each component, is in the second row.\n",
    "# The third row is the cumulative variance.\n",
    "'''Looking at the cumulative variance, the most variable with the most variance only took 22%\n",
    "of the total variance in the quantitative columns'''\n",
    "display(acp.eig_.shape)"
   ]
  },
  {
   "cell_type": "code",
   "execution_count": null,
   "id": "tT3N4GP4ICl8",
   "metadata": {},
   "outputs": [],
   "source": [
    "'''Step 4: determining the threshold'''\n",
    "\n",
    "# first the main plot\n",
    "fig, ax = plt.subplots(nrows=1, ncols=2, figsize=(10,5))\n",
    "ax[0].plot(range(1,p1+1),acp.eig_[0],\".-\")\n",
    "ax[0].set_xlabel(\"Nb. of factors\")\n",
    "ax[0].set_ylabel(\"Eigenvalues\")\n",
    "ax[0].set_title(\"Scree Plot\")\n",
    "\n",
    "# add Kaiser's threshold line\n",
    "ax[0].plot([1,p1+3],[1,1],\"r--\",linewidth=1)\n",
    "\n",
    "# print explained variance plot\n",
    "\n",
    "\n",
    "ax[1].plot(range(0,p1+1),np.append(0,acp.eig_[2]),\".-\")\n",
    "ax[1].set_xlabel(\"Nb. of factors\")\n",
    "ax[1].set_ylabel(\"% of explained variance\")\n",
    "ax[1].set_title(\"Explained Variance\")\n",
    "\n",
    "'''According to the plot, I decided to choose 4 as the threshold'''"
   ]
  },
  {
   "cell_type": "code",
   "execution_count": null,
   "id": "Qd1E5ikDIEnB",
   "metadata": {},
   "outputs": [],
   "source": [
    "# Applying Barlett's test of Sphericity\n",
    "try:\n",
    "    from factor_analyzer.factor_analyzer import calculate_bartlett_sphericity\n",
    "except:\n",
    "    !pip install factor_analyzer\n",
    "    from factor_analyzer.factor_analyzer import calculate_bartlett_sphericity\n",
    "\n",
    "chi_square_value, p_value = calculate_bartlett_sphericity(X1)\n",
    "print(chi_square_value, p_value)"
   ]
  },
  {
   "cell_type": "code",
   "execution_count": null,
   "id": "_aofvNUEIGF_",
   "metadata": {},
   "outputs": [],
   "source": [
    "# Computing Karlis-Saporta-Spinaki threshold\n",
    "# impor math package\n",
    "import math\n",
    "\n",
    "#seuil de Karlis-Saporta-Spinaki\n",
    "kss = 1+2*math.sqrt((p1-1)/(n1-1))\n",
    "print(f\"Karlis-Saporta-Spinaki threshold: {kss:.3f}\")"
   ]
  },
  {
   "cell_type": "code",
   "execution_count": null,
   "id": "v0n-b_XwIHPO",
   "metadata": {},
   "outputs": [],
   "source": [
    "# Broken sticks method\n",
    "# threshold for the broken sticks\n",
    "b = np.flip(np.cumsum(1/np.arange(p1,0,-1)))\n",
    "print(f\"thresholds for the broken sticks: {b}\")\n",
    "\n",
    "# plot eigenvalues\n",
    "fig, ax = plt.subplots(figsize=(5,5))\n",
    "ax.plot(range(1,p1+1),acp.eig_[0],\".-\")\n",
    "ax.set_xlabel(\"Nb. if factors\")\n",
    "ax.set_ylabel(\"Eigenvalues\")\n",
    "plt.title(\"Eigenvalues and broken sticks thresholds\")\n",
    "\n",
    "# add broken sticks thresholds\n",
    "ax.plot(range(1,p1+1),b,\"r--\",linewidth=1)\n",
    "\n",
    "plt.show()"
   ]
  },
  {
   "cell_type": "code",
   "execution_count": null,
   "id": "xd0qBlz4IJAZ",
   "metadata": {},
   "outputs": [],
   "source": [
    "'''Step 5: Variable representation'''\n",
    "print(pd.DataFrame(acp.col_coord_[:,:4],index=D1.columns, columns=['F1','F2','F3','F4']))"
   ]
  },
  {
   "cell_type": "code",
   "execution_count": null,
   "id": "RFBQxCfQIKNH",
   "metadata": {},
   "outputs": [],
   "source": [
    "# Correlations circle\n",
    "acp.correlation_circle(num_x_axis=1,num_y_axis=2, figsize=(5,5))\n",
    "acp.correlation_circle(num_x_axis=3,num_y_axis=4, figsize=(5,5))\n",
    "'''Interpretation of the two dimensions'''\n",
    "'''Three variables have a quite negative correlation with Dim 1, which are item_count, picking_time\n",
    "and cashier_time. This means the speed the store can get those orders ready, which, unsurprisingly, also partially\n",
    "comes down to the size of the order. There is clearly a size effect in this dimension'''\n",
    "'''Two variables have a quite negative correlation with Dim 2, which are distance_km and order_value_USD. This means\n",
    "that whether the order is cheap and within a shorter distance, most likely being some everyday shopping needs versus\n",
    "some more expensive order traveling a longer distance. This shows a shape effect while Dim 1 shows a size effect'''\n",
    "'''Two variables have a quite strong positive correlation with Dim 3, namely 'hora' which means hour, meaning the\n",
    "time in the day, and 'out_of_stock'. This indicates that this axis talks about a general time variation, since the\n",
    "early an order is placed, the less likely that the specific item a customer wants would be sold out.'''\n",
    "'''The fourth dimension has a very high correlation on '% completed orders user' which could just be interpreted as\n",
    "that specific variable.'''"
   ]
  },
  {
   "cell_type": "code",
   "execution_count": null,
   "id": "HVrt6PUCIL_8",
   "metadata": {},
   "outputs": [],
   "source": [
    "# Cos² if the variables on the two first factors\n",
    "print(pd.DataFrame(acp.col_cos2_[:,:4],index=D1.columns, columns=['F1','F2','F3','F4']))"
   ]
  },
  {
   "cell_type": "code",
   "execution_count": null,
   "id": "PSfo0AuJINN4",
   "metadata": {},
   "outputs": [],
   "source": [
    "# Cumulated Cos² on the two first factors\n",
    "print(pd.DataFrame(np.cumsum(acp.col_cos2_[:,:4],axis=1),index=D1.columns, columns=['F1','F2',\"F3\",'F4']))"
   ]
  },
  {
   "cell_type": "code",
   "execution_count": null,
   "id": "izs5b1QtIOhG",
   "metadata": {},
   "outputs": [],
   "source": [
    "# Contributions of each variable on the two first factors (in %)\n",
    "print(pd.DataFrame(acp.col_contrib_[:,:4],index=D1.columns, columns=['F1','F2',\"F3\",'F4']))"
   ]
  },
  {
   "cell_type": "code",
   "execution_count": null,
   "id": "31NL7MMMIPl4",
   "metadata": {},
   "outputs": [],
   "source": [
    "# chart of the individuals\n",
    "acp.mapping_row(num_x_axis=1,num_y_axis=2,figsize=(7,7))"
   ]
  },
  {
   "cell_type": "code",
   "execution_count": null,
   "id": "QgK0z8-UIcRb",
   "metadata": {},
   "outputs": [],
   "source": [
    "# chart of the individuals\n",
    "acp.mapping_row(num_x_axis=3,num_y_axis=4,figsize=(7,7))\n",
    "'''From this factor map, we can see clearly that if we use Dim 3 and Dim 4 as our x1 and x2 axis and plot the data\n",
    "points, there is a CLEAR tendency that different clusters are formed likely due to the variance introduced by\n",
    "different rows, aka different groups of the customers behaving differently'''"
   ]
  },
  {
   "cell_type": "code",
   "execution_count": null,
   "id": "lla2qLkqIeCZ",
   "metadata": {},
   "outputs": [],
   "source": [
    "# creating a new data frame with the row coordinates of F1, F2, F3 and F4\n",
    "df_row_coord = pd.DataFrame(np.cumsum(acp.row_coord_[:,:4],axis=1),index=D1.index, columns=['F1','F2','F3',\"F4\"])\n",
    "df_row_coord.head(5)"
   ]
  },
  {
   "cell_type": "code",
   "execution_count": null,
   "id": "4dKx1KNgIfVW",
   "metadata": {},
   "outputs": [],
   "source": [
    "mask = df_row_coord['F1'] == df_row_coord['F1'].min()\n",
    "df_row_coord.loc[df_row_coord[mask].index, :]"
   ]
  },
  {
   "cell_type": "code",
   "execution_count": null,
   "id": "bHklQgomIgcI",
   "metadata": {},
   "outputs": [],
   "source": [
    "'''Clustering'''\n",
    "'''Plotting them one axis by another first'''\n",
    "sns.pairplot(df_row_coord)"
   ]
  },
  {
   "cell_type": "code",
   "execution_count": null,
   "id": "LQDGzu3EIiAp",
   "metadata": {},
   "outputs": [],
   "source": [
    "'''Looking at the pairplot between four different dimensions, the pattern is obvious that in some of these pairs\n",
    "of features, two different cluster can be seen.'''\n",
    "\n",
    "\n",
    "#Import the library and initialization\n",
    "from sklearn.cluster import KMeans\n",
    "\n",
    "X = df_row_coord.values\n",
    "km = KMeans(n_clusters = 2, init = 'k-means++' , n_init = 10, max_iter = 300, random_state = 0, tol = 0.0001)\n",
    "y_km = km.fit_predict(X)"
   ]
  },
  {
   "cell_type": "code",
   "execution_count": null,
   "id": "U6dRxPNEIjOZ",
   "metadata": {},
   "outputs": [],
   "source": [
    "km.labels_\n",
    "from collections import Counter\n",
    "unique_counts = Counter(km.labels_)\n",
    "display(unique_counts)"
   ]
  },
  {
   "cell_type": "code",
   "execution_count": null,
   "id": "ff9VDxz-IkZH",
   "metadata": {},
   "outputs": [],
   "source": [
    "#Added the clustering info to the dataframe, but it won't affect the original X since X was done in the front as\n",
    "#X = df_row_coord.values\n",
    "df_row_coord['Y_KMean'] = y_km\n",
    "sns.pairplot(df_row_coord, hue='Y_KMean')"
   ]
  },
  {
   "cell_type": "code",
   "execution_count": null,
   "id": "3Io9kOBgImd1",
   "metadata": {},
   "outputs": [],
   "source": [
    "from sklearn.cluster import DBSCAN\n",
    "eps_list = [0.2, 0.5, 1, 2, 2.2, 2.5, 2.7, 3, 4, 5]\n",
    "for eps_ in eps_list:\n",
    "    DBSCAN_model = DBSCAN(eps = eps_, min_samples=5, metric='euclidean')\n",
    "    DBSCAN_model.fit_predict(X)\n",
    "    y_DBSCAN = DBSCAN_model.labels_\n",
    "    df_row_coord['Y_DBSCAN'] = y_DBSCAN\n",
    "    display(df_row_coord['Y_DBSCAN'].value_counts())\n",
    "    sns.pairplot(df_row_coord.drop(columns = ['Y_KMean']), hue='Y_DBSCAN')"
   ]
  },
  {
   "cell_type": "code",
   "execution_count": null,
   "id": "Is135_3YIsRp",
   "metadata": {},
   "outputs": [],
   "source": [
    "DBSCAN_model = DBSCAN(eps=4, min_samples=5, metric='euclidean')\n",
    "DBSCAN_model.fit_predict(X)\n",
    "y_DBSCAN = DBSCAN_model.labels_\n",
    "df_row_coord['Y_DBSCAN'] = y_DBSCAN\n",
    "display(df_row_coord['Y_DBSCAN'].value_counts())\n",
    "sns.pairplot(df_row_coord.drop(columns = ['Y_KMean']), hue='Y_DBSCAN')"
   ]
  },
  {
   "cell_type": "code",
   "execution_count": null,
   "id": "xRCSV7cQIt_8",
   "metadata": {},
   "outputs": [],
   "source": [
    "df[df_row_coord['Y_DBSCAN'] == 1]"
   ]
  },
  {
   "cell_type": "code",
   "execution_count": null,
   "id": "sCIfQuPBIvaA",
   "metadata": {},
   "outputs": [],
   "source": [
    "df_row_coord['Y_DBSCAN'].value_counts()"
   ]
  }
 ],
 "metadata": {
  "kernelspec": {
   "display_name": "Python 3 (ipykernel)",
   "language": "python",
   "name": "python3"
  },
  "language_info": {
   "codemirror_mode": {
    "name": "ipython",
    "version": 3
   },
   "file_extension": ".py",
   "mimetype": "text/x-python",
   "name": "python",
   "nbconvert_exporter": "python",
   "pygments_lexer": "ipython3",
   "version": "3.11.5"
  }
 },
 "nbformat": 4,
 "nbformat_minor": 5
}
